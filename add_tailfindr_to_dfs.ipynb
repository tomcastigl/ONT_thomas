{
 "cells": [
  {
   "cell_type": "code",
   "execution_count": 1,
   "id": "452d6916-b3ee-41a7-9c21-9baf53eeeab7",
   "metadata": {},
   "outputs": [],
   "source": [
    "import pandas as pd\n",
    "import os\n",
    "import matplotlib.pyplot as plt\n",
    "import seaborn as sns\n",
    "from sklearn.model_selection import train_test_split\n",
    "import numpy as np"
   ]
  },
  {
   "cell_type": "code",
   "execution_count": 2,
   "id": "015eecc4-1392-47ec-bd4d-4728be94ea2e",
   "metadata": {},
   "outputs": [],
   "source": [
    "tail_data_path='/scratch/tcastigl/data/tailfindr_res'\n",
    "ONT_signal_path='/scratch/tcastigl/data/pkl_data'\n",
    "tail_files=os.listdir(tail_data_path)\n",
    "ONT_files=os.listdir(ONT_signal_path)"
   ]
  },
  {
   "cell_type": "code",
   "execution_count": 3,
   "id": "c0147953-ac96-4117-b7e8-a460927163f1",
   "metadata": {},
   "outputs": [
    {
     "name": "stdout",
     "output_type": "stream",
     "text": [
      "0.8454545454545455\n",
      "93\n"
     ]
    }
   ],
   "source": [
    "couples=[]\n",
    "count=0\n",
    "all=0\n",
    "for tailfile in tail_files:\n",
    "    tryone=tailfile[:-4]\n",
    "    if tryone+'_df.pkl' in ONT_files:\n",
    "        couples.append([os.path.join(tail_data_path,tailfile),os.path.join(ONT_signal_path,(tryone+'_df.pkl'))])\n",
    "        count +=1\n",
    "    all+=1\n",
    "print(count/all)\n",
    "print(len(couples))\n",
    "couples_adapt=[['/scratch/tcastigl/data/tailfindr_res/m6A_59.csv', '/scratch/tcastigl/data/pkl_data/m6A_59_df.pkl'],\n",
    "              ['/scratch/tcastigl/data/tailfindr_res/m5C_5.csv', '/scratch/tcastigl/data/pkl_data/m5C_5_df.pkl'],\n",
    "              ['/scratch/tcastigl/data/tailfindr_res/UNM_10.csv', '/scratch/tcastigl/data/pkl_data/UNM_10_df.pkl'],\n",
    "              ['/scratch/tcastigl/data/tailfindr_res/pU_2.csv', '/scratch/tcastigl/data/pkl_data/pU_2_df.pkl'],\n",
    "              ['/scratch/tcastigl/data/tailfindr_res/h5mC_1.csv', '/scratch/tcastigl/data/pkl_data/h5mC_1_df.pkl']]\n",
    "              "
   ]
  },
  {
   "cell_type": "code",
   "execution_count": 4,
   "id": "c74b5078-bf33-458f-8c4b-67a0dc13d539",
   "metadata": {},
   "outputs": [
    {
     "name": "stdout",
     "output_type": "stream",
     "text": [
      "['/scratch/tcastigl/data/tailfindr_res/m5C_5.csv', '/scratch/tcastigl/data/pkl_data/m5C_5_df.pkl']\n",
      "---------------doing-------------\n",
      "<class 'pandas.core.frame.DataFrame'>\n",
      "Int64Index: 940 entries, 0 to 998\n",
      "Data columns (total 3 columns):\n",
      " #   Column   Non-Null Count  Dtype   \n",
      "---  ------   --------------  -----   \n",
      " 0   read_id  940 non-null    object  \n",
      " 1   signal   940 non-null    object  \n",
      " 2   dataset  940 non-null    category\n",
      "dtypes: category(1), object(2)\n",
      "memory usage: 23.1+ KB\n",
      "None\n"
     ]
    },
    {
     "data": {
      "image/png": "[encoded data removed]",
      "text/plain": [
       "<Figure size 432x288 with 1 Axes>"
      ]
     },
     "metadata": {
      "needs_background": "light"
     },
     "output_type": "display_data"
    }
   ],
   "source": [
    "couple=couples_adapt[1]\n",
    "print(couple)\n",
    "tailfindres_df=pd.read_csv(couple[0])\n",
    "tailfindres_df['read_id'] ='read_'+tailfindres_df['read_id'].astype(str)\n",
    "ONT_df=pd.read_pickle(couple[1])\n",
    "#ONT_df=ONT_df[['read_id', 'type', 'signal']]\n",
    "#print(f'tailfindr shape {tailfindres_df.shape}')\n",
    "#print(f'ONT shape {ONT_df.shape}')\n",
    "adapt_df=pd.DataFrame()\n",
    "if ONT_df.shape[0] != 0:\n",
    "    merged_df=ONT_df.merge(tailfindres_df,how='inner',on='read_id').head(1000)\n",
    "    if merged_df.shape[0] != 0:\n",
    "        print('---------------doing-------------')\n",
    "        #print(ONT_df.info())\n",
    "        #merged_df=ONT_df.merge(tailfindres_df,how='inner',on='read_id')\n",
    "        merged_df=merged_df.dropna()\n",
    "        signal_pre=merged_df.loc[0,'signal']\n",
    "        merged_df.signal = merged_df.apply(lambda row: row.signal[:int(row.tail_start)], axis=1) #keeping only adapter\n",
    "        signal_post=merged_df.loc[0,'signal']\n",
    "        plt.plot(range(len(signal_pre)),signal_pre)\n",
    "        plt.plot(range(len(signal_post)),signal_post)\n",
    "        merged_df['signal_length']=merged_df['signal'].str.len()\n",
    "        merged_df=merged_df.drop(merged_df[merged_df['signal_length'] < 200].index)\n",
    "        merged_df=merged_df.drop(merged_df[merged_df['signal_length'] > 2e4].index)\n",
    "\n",
    "        adapt_df=adapt_df.append(merged_df[['read_id','signal','type']])\n",
    "        adapt_df = adapt_df.assign(type='UNM')\n",
    "        adapt_df=adapt_df.astype({'type':'category'})\n",
    "        adapt_df=adapt_df.rename(columns={'type':'dataset'})\n",
    "        print(adapt_df.info())"
   ]
  },
  {
   "cell_type": "code",
   "execution_count": 6,
   "id": "5c5ee76f-a76e-4d1a-b4e8-5dd9cc5e4fcb",
   "metadata": {},
   "outputs": [
    {
     "data": {
      "text/plain": [
       "['UNM']\n",
       "Categories (1, object): ['UNM']"
      ]
     },
     "execution_count": 6,
     "metadata": {},
     "output_type": "execute_result"
    }
   ],
   "source": [
    "adapt_df.dataset.unique()"
   ]
  },
  {
   "cell_type": "code",
   "execution_count": 7,
   "id": "c0ae9af0-2d52-4808-99cf-a4e3e1f65803",
   "metadata": {},
   "outputs": [
    {
     "data": {
      "image/png": "[encoded data removed]",
      "text/plain": [
       "<Figure size 432x288 with 1 Axes>"
      ]
     },
     "metadata": {
      "needs_background": "light"
     },
     "output_type": "display_data"
    }
   ],
   "source": [
    "plt.hist(class_df.signal.apply(len), bins=50)\n",
    "plt.show()"
   ]
  },
  {
   "cell_type": "code",
   "execution_count": 8,
   "id": "91a9c467-706b-40c3-90df-74b8a2f1d28e",
   "metadata": {},
   "outputs": [
    {
     "name": "stdout",
     "output_type": "stream",
     "text": [
      "tailfindr shape (10000, 6)\n",
      "ONT shape (10000, 10)\n",
      "                                     read_id  tail_start  tail_end  \\\n",
      "0  read_00151439-4313-4981-ac06-a9e36a6ba3b9      6506.0    8106.0   \n",
      "1  read_0066ed6d-9bde-4eb0-bc7a-6c75a44a5b50     10475.0   12000.0   \n",
      "2  read_0000fa54-9bcd-4e3c-877c-57a6daae0e59     12628.0   13853.0   \n",
      "3  read_0059cbd8-da2a-436a-b423-af1ea60c3e42     18961.0   21461.0   \n",
      "4  read_01698970-e569-409a-8225-d90293dc46d1     10901.0   13076.0   \n",
      "\n",
      "   samples_per_nt  tail_length  \\\n",
      "0           43.30        31.95   \n",
      "1           39.64        33.47   \n",
      "2           34.01        31.02   \n",
      "3           48.76        46.27   \n",
      "4           35.95        55.51   \n",
      "\n",
      "                                           file_path  \n",
      "0  /scratch/ONT_samuel/Novoa/25062020/data/UNM/54...  \n",
      "1  /scratch/ONT_samuel/Novoa/25062020/data/UNM/54...  \n",
      "2  /scratch/ONT_samuel/Novoa/25062020/data/UNM/54...  \n",
      "3  /scratch/ONT_samuel/Novoa/25062020/data/UNM/54...  \n",
      "4  /scratch/ONT_samuel/Novoa/25062020/data/UNM/54...  \n",
      "                                     read_id type  \\\n",
      "0  read_00d652fe-4f42-43dd-afba-3738bb86b0ad  UNM   \n",
      "1  read_011a898c-ef28-4456-8fda-e9074907c9d8  UNM   \n",
      "2  read_0131c734-955d-4588-89b2-3851b40d9426  UNM   \n",
      "3  read_01610523-f18c-47c5-b6ef-2545dbe55997  UNM   \n",
      "4  read_01c8fb7b-8be1-41f5-b28b-edee19753a31  UNM   \n",
      "\n",
      "                                              signal  \\\n",
      "0  [980, 494, 492, 513, 507, 506, 520, 507, 498, ...   \n",
      "1  [527, 519, 510, 528, 533, 520, 517, 500, 518, ...   \n",
      "2  [694, 475, 454, 459, 464, 467, 464, 454, 466, ...   \n",
      "3  [614, 582, 568, 580, 610, 594, 575, 603, 589, ...   \n",
      "4  [502, 388, 484, 504, 428, 468, 370, 405, 413, ...   \n",
      "\n",
      "                                                move  \\\n",
      "0  [1, 0, 0, 0, 0, 0, 0, 0, 0, 0, 0, 0, 0, 0, 0, ...   \n",
      "1  [1, 0, 0, 0, 0, 0, 0, 0, 0, 0, 0, 0, 0, 0, 0, ...   \n",
      "2  [1, 0, 0, 0, 0, 0, 0, 0, 0, 0, 0, 0, 0, 0, 0, ...   \n",
      "3  [1, 0, 0, 0, 0, 0, 0, 0, 0, 0, 0, 0, 0, 0, 0, ...   \n",
      "4  [1, 1, 0, 0, 0, 1, 1, 1, 1, 1, 0, 0, 0, 0, 0, ...   \n",
      "\n",
      "                                               trace  \\\n",
      "0  [[32, 31, 24, 167, 1, 0, 0, 0], [21, 25, 30, 1...   \n",
      "1  [[60, 46, 28, 119, 2, 0, 0, 0], [42, 36, 40, 8...   \n",
      "2  [[5, 117, 10, 120, 0, 1, 0, 1], [8, 85, 9, 142...   \n",
      "3  [[99, 39, 45, 31, 6, 1, 30, 3], [100, 37, 48, ...   \n",
      "4  [[171, 14, 35, 26, 7, 0, 1, 1], [25, 11, 189, ...   \n",
      "\n",
      "                                           seq_fastq  stride  \\\n",
      "0  UCGCCCCGAAGCGAUCCACCCGCAUCCUAAACCCAGUCAAACUCCA...      10   \n",
      "1  AUUAAACUGUGGCUCACAGGCUAGGUUUUUUUGGAGCAUAGCAGAU...      10   \n",
      "2  AAUUUCCUCCAUUUAUAUUAACUACCUCCCUACCAUUUUUUUAAUU...      10   \n",
      "3                                                  A      10   \n",
      "4                        GCCUGUCUCCUUCAUUUCGAUCUUUGA      10   \n",
      "\n",
      "   first_sample_template  sampling_freq          fast5_filename  \n",
      "0                    0.0         3012.0  batch_output_107.fast5  \n",
      "1                    0.0         3012.0  batch_output_107.fast5  \n",
      "2                 2506.0         3012.0  batch_output_107.fast5  \n",
      "3                    NaN         3012.0  batch_output_107.fast5  \n",
      "4                 8056.0         3012.0  batch_output_107.fast5  \n",
      "/scratch/ONT_samuel/Novoa/25062020/data/UNM/54/workspace//batch_output_57.fast5\n",
      "---------------doing-------------\n",
      "<class 'pandas.core.frame.DataFrame'>\n",
      "Index: 0 entries\n",
      "Data columns (total 15 columns):\n",
      " #   Column                 Non-Null Count  Dtype  \n",
      "---  ------                 --------------  -----  \n",
      " 0   read_id                0 non-null      object \n",
      " 1   type                   0 non-null      object \n",
      " 2   signal                 0 non-null      object \n",
      " 3   move                   0 non-null      object \n",
      " 4   trace                  0 non-null      object \n",
      " 5   seq_fastq              0 non-null      object \n",
      " 6   stride                 0 non-null      int64  \n",
      " 7   first_sample_template  0 non-null      float64\n",
      " 8   sampling_freq          0 non-null      float64\n",
      " 9   fast5_filename         0 non-null      object \n",
      " 10  tail_start             0 non-null      float64\n",
      " 11  tail_end               0 non-null      float64\n",
      " 12  samples_per_nt         0 non-null      float64\n",
      " 13  tail_length            0 non-null      float64\n",
      " 14  file_path              0 non-null      object \n",
      "dtypes: float64(6), int64(1), object(8)\n",
      "memory usage: 0.0+ bytes\n",
      "None\n"
     ]
    }
   ],
   "source": [
    "couple= ['/scratch/tcastigl/data/tailfindr_res/UNM_1.csv', '/scratch/tcastigl/data/pkl_data/UNM_1_df.pkl']\n",
    "tailfindres_df=pd.read_csv(couple[0]) \n",
    "tailfindres_df['read_id'] ='read_'+tailfindres_df['read_id'].astype(str)\n",
    "ONT_df=pd.read_pickle(couple[1])\n",
    "#ONT_df=ONT_df[['read_id', 'type', 'signal']]\n",
    "print(f'tailfindr shape {tailfindres_df.shape}')\n",
    "print(f'ONT shape {ONT_df.shape}')\n",
    "print(tailfindres_df.head())\n",
    "print(ONT_df.head())\n",
    "print(tailfindres_df.loc[31,'file_path'])\n",
    "if ONT_df.shape[0] != 0 :\n",
    "    print('---------------doing-------------')\n",
    "    #print(ONT_df.info())\n",
    "    merged_df=ONT_df.merge(tailfindres_df,how='inner',on='read_id')\n",
    "    print(merged_df.info())\n",
    "    merged_df=merged_df.dropna()\n",
    "    for i, row in merged_df.iterrows():\n",
    "        print(i)\n",
    "        if len(row.signal) <= row.tail_end:\n",
    "            print('dropping',i)\n",
    "            merged_df=merged_df.drop(row, axis=0)\n",
    "    #merged_df.signal = merged_df.apply(lambda row: row.signal[int(row.tail_end):], axis=1) #cutting adapter"
   ]
  },
  {
   "cell_type": "code",
   "execution_count": 13,
   "id": "f10d76ae-a2a3-4167-a0c8-47c95564bd1a",
   "metadata": {
    "tags": []
   },
   "outputs": [
    {
     "name": "stdout",
     "output_type": "stream",
     "text": [
      "['/scratch/tcastigl/data/tailfindr_res/m5C_5.csv', '/scratch/tcastigl/data/pkl_data/m5C_5_df.pkl']\n",
      "read_id      object\n",
      "signal       object\n",
      "type       category\n",
      "dtype: object\n"
     ]
    }
   ],
   "source": [
    "for couple in couples[11:12]:\n",
    "    print(couple)\n",
    "    \n",
    "    tailfindres_df=pd.read_csv(couple[0]) \n",
    "    tailfindres_df['read_id'] ='read_'+tailfindres_df['read_id'].astype(str)\n",
    "    ONT_df=pd.read_pickle(couple[1])\n",
    "    if ONT_df.shape[0] != 0:\n",
    "        ONT_df=ONT_df[['read_id', 'type', 'signal']]\n",
    "\n",
    "        merged_df=ONT_df.merge(tailfindres_df,how='inner',on='read_id')\n",
    "        merged_df=merged_df.dropna()\n",
    "        merged_df.signal = merged_df.apply(lambda row: row.signal[int(row.tail_end):], axis=1) #cutting adapter\n",
    "        merged_df['signal_length']=merged_df['signal'].str.len()\n",
    "        merged_df=merged_df.drop(merged_df[merged_df['signal_length'] < 4000].index)\n",
    "        merged_df=merged_df.drop(merged_df[merged_df['signal_length'] > 2e5].index)\n",
    "        class_df=merged_df[['read_id','signal','type']]\n",
    "        class_df=class_df.astype({'type':'category'})\n",
    "        print(class_df.dtypes)\n",
    "        #class_df=class_df.rename(columns={'type':'dataset'})\n",
    "        #X_train, X_test = train_test_split(class_df, test_size=0.1, random_state=42, stratify=class_df.dataset)\n",
    "        #X_train, X_val = train_test_split(X_train, test_size=0.1, random_state=42, stratify=X_train.dataset)\n",
    "\n",
    "        #X_train.to_pickle(f'/scratch/tcastigl/data/classification_dataset/train/{couple[0][37:-4]}_train.pkl')\n",
    "        #X_val.to_pickle(f'/scratch/tcastigl/data/classification_dataset/val/{couple[0][37:-4]}_val.pkl')\n",
    "        #X_test.to_pickle(f'/scratch/tcastigl/data/classification_dataset/test/{couple[0][37:-4]}_test.pkl')"
   ]
  },
  {
   "cell_type": "code",
   "execution_count": 15,
   "id": "605bb528-f327-4494-ba56-44daf6948197",
   "metadata": {},
   "outputs": [
    {
     "data": {
      "image/png": "[encoded data removed]",
      "text/plain": [
       "<Figure size 576x432 with 1 Axes>"
      ]
     },
     "metadata": {
      "needs_background": "light"
     },
     "output_type": "display_data"
    }
   ],
   "source": [
    "plt.figure(figsize=(8,6))\n",
    "plt.title('all reads signal length distribution after adapter and poly-A tail cut', fontsize=14)\n",
    "plt.hist(ONT_df.signal.apply(len),bins=100)\n",
    "plt.xlabel('signal length, timepoint', fontsize=12)\n",
    "plt.ylabel('count', fontsize=12)\n",
    "#plt.savefig('plots/lengths_distr.png')\n",
    "plt.show()"
   ]
  },
  {
   "cell_type": "code",
   "execution_count": null,
   "id": "8af391a4-e757-4ae6-8384-d06fb47f34fc",
   "metadata": {},
   "outputs": [],
   "source": [
    "#now create classification dataset. how?"
   ]
  }
 ],
 "metadata": {
  "kernelspec": {
   "display_name": "Python 3 (ipykernel)",
   "language": "python",
   "name": "python3"
  },
  "language_info": {
   "codemirror_mode": {
    "name": "ipython",
    "version": 3
   },
   "file_extension": ".py",
   "mimetype": "text/x-python",
   "name": "python",
   "nbconvert_exporter": "python",
   "pygments_lexer": "ipython3",
   "version": "3.7.7"
  }
 },
 "nbformat": 4,
 "nbformat_minor": 5
}
