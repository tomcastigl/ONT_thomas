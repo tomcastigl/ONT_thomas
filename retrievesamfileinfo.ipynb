{
 "cells": [
  {
   "cell_type": "code",
   "execution_count": 25,
   "id": "5905eeb9-de38-41a4-b2f2-1c1b35d1875c",
   "metadata": {},
   "outputs": [],
   "source": [
    "import numpy as np\n",
    "import pandas as pd\n",
    "import csv"
   ]
  },
  {
   "cell_type": "code",
   "execution_count": 68,
   "id": "9f505ae2-652a-45ac-8fef-e3bd9510e3b8",
   "metadata": {},
   "outputs": [
    {
     "name": "stdout",
     "output_type": "stream",
     "text": [
      "(302885,)\n",
      "(410806,)\n"
     ]
    }
   ],
   "source": [
    "df=pd.read_csv('/work/upnae/thomas_trna/data/sam_files/h5mC_simply.sam', sep='\\t',skiprows=4)\n",
    "dfU=pd.read_csv('/work/upnae/thomas_trna/data/sam_files/UNM_simply.sam', sep='\\t',skiprows=4)\n",
    "df=df.append(dfU)\n",
    "df=df.dropna()\n",
    "df.set_axis(['read_id','ref'],axis=1,inplace=True)\n",
    "df=df.loc[df.ref != '*']\n",
    "refs=df.ref.unique()\n",
    "df_readstotrain=df.loc[(df.ref != refs[2]) & (df.ref != refs[3])]\n",
    "df_readstoeval=df.loc[(df.ref != refs[0]) & (df.ref != refs[1])]\n",
    "#df_readstotrain=df_readstotrain.append(df.loc[df.ref == refs[1]])\n",
    "df_readstotrain=df_readstotrain['read_id']\n",
    "df_readstoeval=df_readstoeval['read_id']\n",
    "print(df_readstotrain.shape)\n",
    "print(df_readstoeval.shape)\n",
    "df_readstotrain.to_csv('/work/upnae/thomas_trna/data/read_ref_train.csv')\n",
    "df_readstoeval.to_csv('/work/upnae/thomas_trna/data/read_ref_eval.csv')"
   ]
  }
 ],
 "metadata": {
  "kernelspec": {
   "display_name": "Python 3 (ipykernel)",
   "language": "python",
   "name": "python3"
  },
  "language_info": {
   "codemirror_mode": {
    "name": "ipython",
    "version": 3
   },
   "file_extension": ".py",
   "mimetype": "text/x-python",
   "name": "python",
   "nbconvert_exporter": "python",
   "pygments_lexer": "ipython3",
   "version": "3.7.7"
  }
 },
 "nbformat": 4,
 "nbformat_minor": 5
}
