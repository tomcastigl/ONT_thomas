{
 "cells": [
  {
   "cell_type": "code",
   "execution_count": 29,
   "id": "5ba8cb87-a88a-44b7-85c4-73ec75db4357",
   "metadata": {},
   "outputs": [],
   "source": [
    "import pandas as pd\n",
    "import pickle as pkl"
   ]
  },
  {
   "cell_type": "code",
   "execution_count": 32,
   "id": "66304396-a7d0-482f-985e-0a11e4169ac3",
   "metadata": {},
   "outputs": [
    {
     "name": "stdout",
     "output_type": "stream",
     "text": [
      "<class 'pandas.core.frame.DataFrame'>\n",
      "Int64Index: 6690 entries, 296 to 3498\n",
      "Data columns (total 3 columns):\n",
      " #   Column   Non-Null Count  Dtype   \n",
      "---  ------   --------------  -----   \n",
      " 0   read_id  6690 non-null   object  \n",
      " 1   signal   6690 non-null   object  \n",
      " 2   dataset  6690 non-null   category\n",
      "dtypes: category(1), object(2)\n",
      "memory usage: 163.3+ KB\n",
      "None\n",
      "296      9870\n",
      "7129    99659\n",
      "3383    25275\n",
      "8892    85666\n",
      "7308    39768\n",
      "        ...  \n",
      "6958     5211\n",
      "8149    69128\n",
      "4716    43407\n",
      "2898    27294\n",
      "3498    29533\n",
      "Name: signal, Length: 6690, dtype: int64\n"
     ]
    }
   ],
   "source": [
    "valdf=pd.read_pickle('/scratch/izar/tcastigl/data/classification_dataset/train/UNM_29_train.pkl')\n",
    "#valdf=pd.read_pickle('/scratch/izar/tcastigl/data/classification_dataset/train/UNM_29_train.pkl')\n",
    "#valdf.dataset=valdf.dataset.astype('category')\n",
    "print(valdf.info())\n",
    "print(valdf.signal.apply(len))"
   ]
  },
  {
   "cell_type": "code",
   "execution_count": 33,
   "id": "dea503c0-a22c-4720-af24-bb28d45153a9",
   "metadata": {},
   "outputs": [],
   "source": [
    "valdf.to_csv('/home/tcastigl/UNM29_train.csv')"
   ]
  },
  {
   "cell_type": "code",
   "execution_count": 31,
   "id": "6203a478-a787-453f-b78f-a1eed9c87106",
   "metadata": {},
   "outputs": [
    {
     "name": "stdout",
     "output_type": "stream",
     "text": [
      "<class 'pandas.core.frame.DataFrame'>\n",
      "RangeIndex: 6690 entries, 0 to 6689\n",
      "Data columns (total 4 columns):\n",
      " #   Column      Non-Null Count  Dtype \n",
      "---  ------      --------------  ----- \n",
      " 0   Unnamed: 0  6690 non-null   int64 \n",
      " 1   read_id     6690 non-null   object\n",
      " 2   signal      6690 non-null   object\n",
      " 3   dataset     6690 non-null   object\n",
      "dtypes: int64(1), object(3)\n",
      "memory usage: 209.2+ KB\n",
      "None\n",
      "0       29\n",
      "1       29\n",
      "2       29\n",
      "3       29\n",
      "4       29\n",
      "        ..\n",
      "6685    29\n",
      "6686    29\n",
      "6687    29\n",
      "6688    29\n",
      "6689    35\n",
      "Name: signal, Length: 6690, dtype: int64\n"
     ]
    }
   ],
   "source": [
    "csvdf=pd.read_csv('/home/tcastigl/UNM29_train.csv')\n",
    "#pkldf=pd.read_pickle('/home/tcastigl/UNM29_train.pkl')\n",
    "print(csvdf.info())\n",
    "print(csvdf.signal.apply(len))"
   ]
  },
  {
   "cell_type": "code",
   "execution_count": 3,
   "id": "442b756f-d52a-4f1a-bf92-5aa3e0c378bd",
   "metadata": {},
   "outputs": [],
   "source": [
    "tailres_files=['UNM_54_sample.csv','h5mC_1_sample.csv','m5C_5_sample.csv','m6A_54_sample.csv', 'pU_1_sample.csv',\n",
    "            'pU_stoch_5_sample.csv']\n",
    "tailfindr_paths=[os.path.join(datadir,file) for file in tailres_files]\n",
    "tail_sample_df=pd.concat((pd.read_csv(path) for path in tailfindr_paths), ignore_index=True)"
   ]
  },
  {
   "cell_type": "code",
   "execution_count": 4,
   "id": "3ad4c88b-3110-4ecc-9ed3-d2c556572853",
   "metadata": {},
   "outputs": [],
   "source": [
    "tail_sample_df['read_id'] ='read_'+tail_sample_df['read_id'].astype(str)"
   ]
  },
  {
   "cell_type": "code",
   "execution_count": 5,
   "id": "dcb217b1-594c-40a4-8935-85db195c0e17",
   "metadata": {},
   "outputs": [],
   "source": [
    "data_sample_df['signal_length']=data_sample_df['signal'].str.len()\n",
    "data_sample_df['seq_length']=data_sample_df['seq_fastq'].str.len()"
   ]
  },
  {
   "cell_type": "code",
   "execution_count": 6,
   "id": "e09f4757-23b0-463c-af6e-11a068fa74cb",
   "metadata": {},
   "outputs": [],
   "source": [
    "#tail_sample_df=tail_sample_df.loc[tail_sample_df['read_id']==data_sample_df['read_id']]\n",
    "data_sample_df=data_sample_df.merge(tail_sample_df,how='inner',on='read_id')\n",
    "data_sample_df=data_sample_df.drop(columns='fast5_filename')"
   ]
  },
  {
   "cell_type": "code",
   "execution_count": 13,
   "id": "8f249b23-ed73-4ccb-908d-1c6ea6744850",
   "metadata": {},
   "outputs": [
    {
     "name": "stdout",
     "output_type": "stream",
     "text": [
      "<class 'pandas.core.frame.DataFrame'>\n",
      "Int64Index: 5432 entries, 0 to 5919\n",
      "Data columns (total 16 columns):\n",
      " #   Column                 Non-Null Count  Dtype  \n",
      "---  ------                 --------------  -----  \n",
      " 0   read_id                5432 non-null   object \n",
      " 1   type                   5432 non-null   object \n",
      " 2   signal                 5432 non-null   object \n",
      " 3   move                   5432 non-null   object \n",
      " 4   trace                  5432 non-null   object \n",
      " 5   seq_fastq              5432 non-null   object \n",
      " 6   stride                 5432 non-null   int64  \n",
      " 7   first_sample_template  5432 non-null   float64\n",
      " 8   sampling_freq          5432 non-null   float64\n",
      " 9   signal_length          5432 non-null   int64  \n",
      " 10  seq_length             5432 non-null   int64  \n",
      " 11  tail_start             5432 non-null   float64\n",
      " 12  tail_end               5432 non-null   float64\n",
      " 13  samples_per_nt         5432 non-null   float64\n",
      " 14  tail_length            5432 non-null   float64\n",
      " 15  file_path              5432 non-null   object \n",
      "dtypes: float64(6), int64(3), object(7)\n",
      "memory usage: 881.4+ KB\n"
     ]
    }
   ],
   "source": [
    "data_sample_df.info()"
   ]
  },
  {
   "cell_type": "code",
   "execution_count": 8,
   "id": "a60e5285-648e-4917-ae65-287240e2e2af",
   "metadata": {},
   "outputs": [
    {
     "data": {
      "text/plain": [
       "54"
      ]
     },
     "execution_count": 8,
     "metadata": {},
     "output_type": "execute_result"
    }
   ],
   "source": [
    "data_sample_df[data_sample_df['signal_length'] > 200000].shape[0]"
   ]
  },
  {
   "cell_type": "code",
   "execution_count": 60,
   "id": "b6d12fed-dfb6-451f-8013-856a63bf96d1",
   "metadata": {},
   "outputs": [
    {
     "name": "stdout",
     "output_type": "stream",
     "text": [
      "read_id               read_0ede6753-40a9-4020-bd00-6e4eb9f9b589\n",
      "signal        [491, 458, 452, 459, 447, 459, 460, 448, 456, ...\n",
      "tail_start                                                 7309\n",
      "tail_end                                                  15284\n",
      "type                                                   pU_stoch\n",
      "Name: 5135, dtype: object\n"
     ]
    },
    {
     "data": {
      "image/png": "[encoded data removed]",
      "text/plain": [
       "<Figure size 1440x360 with 1 Axes>"
      ]
     },
     "metadata": {
      "needs_background": "light"
     },
     "output_type": "display_data"
    }
   ],
   "source": [
    "read0=data_sample_df.loc[5135][['read_id','signal','tail_start','tail_end','type']]\n",
    "print(read0)\n",
    "plt.figure(figsize=(20,5))\n",
    "plt.plot(range(len(read0['signal'])),read0['signal'])\n",
    "plt.axvspan(read0['tail_start'],read0['tail_end'],color='c',alpha=.4, label='poly-A tail')\n",
    "plt.title(read0.type + ' '+read0.read_id, fontsize=14)\n",
    "plt.xlabel('signal lengths, timepoints',  fontsize=12)\n",
    "plt.ylabel('current',  fontsize=12)\n",
    "plt.ylim(0,1100)\n",
    "plt.legend()\n",
    "plt.savefig(f'plots/tailfindr_{read0.type}_{read0.read_id}.png')"
   ]
  },
  {
   "cell_type": "code",
   "execution_count": 23,
   "id": "9149ee68-4580-4c7e-8aa3-7598aa02794e",
   "metadata": {},
   "outputs": [],
   "source": [
    "curlcakepath='/scratch/ONT_samuel/Novoa/curlcakes_1-4.txt'\n",
    "curls=[]\n",
    "curl_lengths=[]\n",
    "with open(curlcakepath) as f:\n",
    "    whole = f.read()\n",
    "    curls_raw=whole.split('>')\n",
    "    for curl_raw in curls_raw[1:]:\n",
    "        curl=curl_raw[32:-2]\n",
    "        curls.extend([curl])\n",
    "    for curl in curls :\n",
    "        curl_lengths.extend([len(curl)])\n",
    "    f.close()\n",
    "longest_curl,shortest_curl=max(curl_lengths),min(curl_lengths)"
   ]
  },
  {
   "cell_type": "code",
   "execution_count": 20,
   "id": "b824318a-5f22-4bfb-8886-167fbde7aaf5",
   "metadata": {},
   "outputs": [
    {
     "name": "stdout",
     "output_type": "stream",
     "text": [
      "5432\n",
      "5255\n"
     ]
    }
   ],
   "source": [
    "print(data_sample_df.shape[0])\n",
    "data_sample_df=data_sample_df.dropna()\n",
    "data_sample_cleaned_df=data_sample_df.drop(data_sample_df[data_sample_df['seq_length'] > 4000].index, ignore_)\n",
    "data_sample_cleaned_df=data_sample_cleaned_df.drop(data_sample_cleaned_df[data_sample_cleaned_df['seq_length'] < 10].index)\n",
    "data_sample_cleaned_df=data_sample_cleaned_df.drop(data_sample_cleaned_df[data_sample_cleaned_df['signal_length'] > 2e5].index)\n",
    "print(data_sample_cleaned_df.shape[0])"
   ]
  },
  {
   "cell_type": "code",
   "execution_count": 21,
   "id": "ff179b87-b0b5-43c3-bb26-ca5a734abcc4",
   "metadata": {},
   "outputs": [
    {
     "data": {
      "image/png": "[encoded data removed]",
      "text/plain": [
       "<Figure size 1584x504 with 2 Axes>"
      ]
     },
     "metadata": {},
     "output_type": "display_data"
    }
   ],
   "source": [
    "sns.set(rc={'figure.figsize':(22,7)})\n",
    "f, (ax1, ax2) = plt.subplots(1, 2, sharey=True)\n",
    "ax1.set_title('signal lengths distribution before cleaning')\n",
    "ax2.set_title('signal lengths distribution after cleaning')\n",
    "sns.violinplot(x=data_sample_df.type, y=data_sample_df.signal_length, data=data_sample_df,ax=ax1)\n",
    "sns.violinplot(x=data_sample_cleaned_df.type, y=data_sample_cleaned_df.signal_length, data=data_sample_cleaned_df, ax=ax2)\n",
    "plt.savefig('plots/violinplot_signal_lengths_per_mod.png')"
   ]
  },
  {
   "cell_type": "code",
   "execution_count": 24,
   "id": "d0fe25dd-88b1-44eb-9384-ea7289947d12",
   "metadata": {},
   "outputs": [
    {
     "data": {
      "image/png": "[encoded data removed]",
      "text/plain": [
       "<Figure size 1584x504 with 2 Axes>"
      ]
     },
     "metadata": {},
     "output_type": "display_data"
    }
   ],
   "source": [
    "f, (ax1, ax2) = plt.subplots(1, 2, sharey=True)\n",
    "ax1.set_title('sequence length distribution before cleaning')\n",
    "ax2.set_title('sequences length distribution after cleaning')\n",
    "sns.violinplot(x=data_sample_df.type, y=data_sample_df.seq_length, data=data_sample_df, ax=ax1)\n",
    "ax1.axhline(longest_curl, color='green',label='maximum curlcake length')\n",
    "sns.violinplot(x=data_sample_cleaned_df.type, y=data_sample_cleaned_df.seq_length, data=data_sample_cleaned_df, ax=ax2)\n",
    "ax2.axhline(longest_curl, color='green',label='maximum curlcake length')\n",
    "ax1.legend()\n",
    "ax2.legend()\n",
    "plt.savefig('plots/violinplot_seq_lengths_per_mod.png')"
   ]
  },
  {
   "cell_type": "code",
   "execution_count": 25,
   "id": "8743e818-4841-4b3e-982f-cd42527bb244",
   "metadata": {},
   "outputs": [],
   "source": [
    "data_sample_cleaned_df.to_pickle('/home/tcastiglione/data/full_sample_df.pkl')"
   ]
  },
  {
   "cell_type": "code",
   "execution_count": 1,
   "id": "59488bb6-12cd-4bd9-9930-754a9183a8aa",
   "metadata": {},
   "outputs": [],
   "source": [
    "import pandas as pd\n",
    "import os\n",
    "from sklearn.metrics import roc_curve, auc\n",
    "from sklearn.datasets import make_classification\n",
    "from sklearn.multiclass import OneVsRestClassifier\n",
    "from sklearn.metrics import roc_auc_score\n",
    "from sklearn.metrics import RocCurveDisplay\n",
    "from sklearn.svm import SVC\n",
    "import seaborn as sns\n",
    "import numpy as np\n",
    "from sklearn.model_selection import train_test_split\n",
    "import matplotlib.pyplot as plt\n",
    "%matplotlib inline\n",
    "import torch\n",
    "from itertools import cycle\n",
    "import random\n",
    "import csv\n",
    "from basecall_viz_utils import get_signal_basecall_for_plotting"
   ]
  },
  {
   "cell_type": "code",
   "execution_count": 18,
   "id": "ca59bcb0-816c-4f20-b09d-c90470acd533",
   "metadata": {},
   "outputs": [
    {
     "data": {
      "image/png": "[encoded data removed]",
      "text/plain": [
       "<Figure size 576x432 with 2 Axes>"
      ]
     },
     "metadata": {},
     "output_type": "display_data"
    }
   ],
   "source": [
    "df=pd.read_csv('confmateval_probas_curlk_500_big_thresh.csv')\n",
    "classes = ['UNM','h5mC','pU','m5C','m6A']\n",
    "df=df.drop('Unnamed: 0', axis=1)\n",
    "df.set_axis(classes, axis=0, inplace=True)\n",
    "df.set_axis(classes, axis=1, inplace=True)\n",
    "sns.set(rc={'figure.figsize':(8,6)})\n",
    "sns.heatmap(df, annot=True, fmt='.3f')\n",
    "plt.title('confusion matrix chunksize=500 threshold= 0.7')\n",
    "plt.ylabel('true classes')\n",
    "plt.xlabel('predicted classes')\n",
    "plt.yticks(rotation=0)\n",
    "plt.savefig('plots/cm_500_thres_big.png',dpi=300)"
   ]
  },
  {
   "cell_type": "code",
   "execution_count": 8,
   "id": "117cb042-9390-4246-96d9-bfec33a2b7f8",
   "metadata": {},
   "outputs": [
    {
     "data": {
      "image/png": "[encoded data removed]",
      "text/plain": [
       "<Figure size 432x288 with 1 Axes>"
      ]
     },
     "metadata": {
      "needs_background": "light"
     },
     "output_type": "display_data"
    }
   ],
   "source": [
    "df=pd.read_csv('probas_df.csv')\n",
    "df=df.drop('Unnamed: 0',axis=1)\n",
    "preds=df.drop('pred',axis=1).max(axis=1)\n",
    "plt.hist(preds,bins=100)\n",
    "plt.title('max of probabilites output distribution')\n",
    "plt.show()"
   ]
  },
  {
   "cell_type": "code",
   "execution_count": 26,
   "id": "67ad2462-a17b-4d17-9fcc-475cfe6eec57",
   "metadata": {},
   "outputs": [],
   "source": [
    "evaldf=pd.read_pickle('/scratch/izar/tcastigl/datasets/classification_dataset_conformer_12keach/val.pkl')\n",
    "evaldf=evaldf.head(100)\n",
    "evaldf.to_pickle('/work/upnae/thomas_trna/data/test_probas_12k/val.pkl')"
   ]
  },
  {
   "cell_type": "code",
   "execution_count": 6,
   "id": "1aef32f4-651b-46eb-b10e-7b1baef73ae5",
   "metadata": {},
   "outputs": [
    {
     "data": {
      "text/plain": [
       "array([[1., 0., 0., 0., 0.],\n",
       "       [1., 0., 0., 0., 0.],\n",
       "       [1., 0., 0., 0., 0.],\n",
       "       ...,\n",
       "       [0., 0., 1., 0., 0.],\n",
       "       [0., 0., 0., 0., 1.],\n",
       "       [0., 0., 0., 1., 0.]])"
      ]
     },
     "execution_count": 6,
     "metadata": {},
     "output_type": "execute_result"
    }
   ],
   "source": [
    "ypredscore_df=pd.read_csv('y_pred_scores.csv')\n",
    "ypredscore_df.drop('Unnamed: 0', inplace=True, axis=1)\n",
    "y_true_raw=np.loadtxt('y_true.txt').astype(int)\n",
    "y_true=np.zeros((y_true_raw.size,y_true_raw.max()+1))\n",
    "y_true[np.arange(y_true_raw.size),y_true_raw]=1\n",
    "ypredscore=ypredscore_df.to_numpy()\n",
    "y_true\n"
   ]
  },
  {
   "cell_type": "code",
   "execution_count": 7,
   "id": "ade24ef8-72f2-44c3-a185-f3dda2d4b42f",
   "metadata": {},
   "outputs": [
    {
     "data": {
      "text/plain": [
       "{0: 0.9987968593435984,\n",
       " 1: 0.9983378312777345,\n",
       " 2: 0.9983531310139097,\n",
       " 3: 0.9988303244330903,\n",
       " 4: 0.9974921049292073}"
      ]
     },
     "execution_count": 7,
     "metadata": {},
     "output_type": "execute_result"
    }
   ],
   "source": [
    "fpr = dict()\n",
    "tpr = dict()\n",
    "n_classes=y_true.shape[1]\n",
    "roc_auc = dict()\n",
    "for i in range(n_classes):\n",
    "    fpr[i], tpr[i], _ = roc_curve(y_true[:, i], ypredscore[:, i])\n",
    "    roc_auc[i] = auc(fpr[i], tpr[i])\n",
    "roc_auc"
   ]
  },
  {
   "cell_type": "code",
   "execution_count": 8,
   "id": "1bc70417-666d-43e5-beec-dc6585c9a5e1",
   "metadata": {},
   "outputs": [
    {
     "name": "stderr",
     "output_type": "stream",
     "text": [
      "/home/tcastigl/tRNA/trna_scitas/lib/python3.7/site-packages/ipykernel_launcher.py:10: DeprecationWarning: scipy.interp is deprecated and will be removed in SciPy 2.0.0, use numpy.interp instead\n",
      "  # Remove the CWD from sys.path while we load stuff.\n"
     ]
    },
    {
     "data": {
      "image/png": "[encoded data removed]",
      "text/plain": [
       "<Figure size 720x504 with 1 Axes>"
      ]
     },
     "metadata": {},
     "output_type": "display_data"
    }
   ],
   "source": [
    "fpr[\"micro\"], tpr[\"micro\"], _ = roc_curve(y_true.ravel(), ypredscore.ravel())\n",
    "roc_auc[\"micro\"] = auc(fpr[\"micro\"], tpr[\"micro\"])\n",
    "\n",
    "# First aggregate all false positive rates\n",
    "all_fpr = np.unique(np.concatenate([fpr[i] for i in range(n_classes)]))\n",
    "\n",
    "# Then interpolate all ROC curves at this points\n",
    "mean_tpr = np.zeros_like(all_fpr)\n",
    "for i in range(n_classes):\n",
    "    mean_tpr += interp(all_fpr, fpr[i], tpr[i])\n",
    "\n",
    "# Finally average it and compute AUC\n",
    "mean_tpr /= n_classes\n",
    "\n",
    "fpr[\"macro\"] = all_fpr\n",
    "tpr[\"macro\"] = mean_tpr\n",
    "roc_auc[\"macro\"] = auc(fpr[\"macro\"], tpr[\"macro\"])\n",
    "\n",
    "# Plot all ROC curves\n",
    "lw = 2\n",
    "plt.figure(figsize=(10,7))\n",
    "plt.plot(\n",
    "    fpr[\"micro\"],\n",
    "    tpr[\"micro\"],\n",
    "    label=\"micro-average ROC curve (area = {0:0.2f})\".format(roc_auc[\"micro\"]),\n",
    "    color=\"deeppink\",\n",
    "    linestyle=\":\",\n",
    "    linewidth=4,\n",
    ")\n",
    "\n",
    "plt.plot(\n",
    "    fpr[\"macro\"],\n",
    "    tpr[\"macro\"],\n",
    "    label=\"macro-average ROC curve (area = {0:0.2f})\".format(roc_auc[\"macro\"]),\n",
    "    color=\"navy\",\n",
    "    linestyle=\":\",\n",
    "    linewidth=4,\n",
    ")\n",
    "\n",
    "colors = cycle([\"aqua\", \"darkorange\", \"cornflowerblue\",'lightgreen','violet'])\n",
    "for i, color in zip(range(n_classes), colors):\n",
    "    plt.plot(\n",
    "        fpr[i],\n",
    "        tpr[i],\n",
    "        color=color,\n",
    "        lw=lw,\n",
    "        label=f'ROC curve of class {classes[i]} (area = {round(roc_auc[i],2)})',\n",
    "    )\n",
    "\n",
    "plt.plot([0, 1], [0, 1], \"k--\", lw=lw)\n",
    "plt.xlim([0.0, 1.0])\n",
    "plt.ylim([0.0, 1.05])\n",
    "plt.xlabel(\"False Positive Rate\")\n",
    "plt.ylabel(\"True Positive Rate\")\n",
    "plt.title(\"ROC curves, model trained on 12'000 reads of each class\")\n",
    "plt.legend(loc=\"lower right\")\n",
    "#plt.savefig('plots/ROC_AUC_12kall.png')\n",
    "plt.show()"
   ]
  },
  {
   "cell_type": "code",
   "execution_count": 23,
   "id": "d6328f37-1f7a-444a-9fe3-57083120418f",
   "metadata": {},
   "outputs": [
    {
     "name": "stdout",
     "output_type": "stream",
     "text": [
      "<class 'pandas.core.frame.DataFrame'>\n",
      "Int64Index: 3343 entries, 949 to 4615\n",
      "Data columns (total 3 columns):\n",
      " #   Column   Non-Null Count  Dtype   \n",
      "---  ------   --------------  -----   \n",
      " 0   read_id  3343 non-null   object  \n",
      " 1   signal   3343 non-null   object  \n",
      " 2   dataset  3343 non-null   category\n",
      "dtypes: category(1), object(2)\n",
      "memory usage: 81.7+ KB\n"
     ]
    },
    {
     "data": {
      "text/plain": [
       "45246.32784923721"
      ]
     },
     "execution_count": 23,
     "metadata": {},
     "output_type": "execute_result"
    }
   ],
   "source": [
    "df=pd.read_pickle('/work/upnae/thomas_trna/data/classification_dataset_conformer_1k/train.pkl')\n",
    "df.info()\n",
    "sum([len(x) for x in df.signal])/len([len(x) for x in df.signal])"
   ]
  },
  {
   "cell_type": "markdown",
   "id": "a11b169f-d9d0-425b-a4d1-8e31d4fa44b5",
   "metadata": {},
   "source": [
    "median samples_per_nt UNM=28, h5mC=33, m5C=31, m6A=32, pU=37, so chunks of 500 timepoints (~16 nt per chunk)"
   ]
  },
  {
   "cell_type": "code",
   "execution_count": 10,
   "id": "710beb0b-e88d-41c6-bd30-b99ff141046b",
   "metadata": {},
   "outputs": [
    {
     "name": "stdout",
     "output_type": "stream",
     "text": [
      "<class 'pandas.core.frame.DataFrame'>\n",
      "Int64Index: 60795 entries, 4433 to 4110\n",
      "Data columns (total 3 columns):\n",
      " #   Column   Non-Null Count  Dtype   \n",
      "---  ------   --------------  -----   \n",
      " 0   read_id  60795 non-null  object  \n",
      " 1   signal   60795 non-null  object  \n",
      " 2   dataset  60795 non-null  category\n",
      "dtypes: category(1), object(2)\n",
      "memory usage: 1.4+ MB\n",
      "None\n"
     ]
    }
   ],
   "source": [
    "df=df.astype({'dataset':'category'})\n",
    "print(df.info())\n",
    "df.to_pickle('/work/upnae/thomas_trna/data/classification_dataset_conformer_12K_readsandadapt/val.pkl')"
   ]
  },
  {
   "cell_type": "code",
   "execution_count": 94,
   "id": "f16e653d-7c74-445f-9c6b-984eaf267120",
   "metadata": {},
   "outputs": [
    {
     "data": {
      "text/plain": [
       "(111615, 4)"
      ]
     },
     "execution_count": 94,
     "metadata": {},
     "output_type": "execute_result"
    }
   ],
   "source": [
    "df=pd.read_pickle('/work/upnae/thomas_trna/data/classification_dataset_conformer_chunks_curlk/train.pkl')\n",
    "df.reset_index(inplace=True)\n",
    "df.shape"
   ]
  },
  {
   "cell_type": "code",
   "execution_count": 95,
   "id": "0c44aeb8-04b6-45ad-b89d-5d9cee0afe3d",
   "metadata": {},
   "outputs": [
    {
     "name": "stdout",
     "output_type": "stream",
     "text": [
      "<class 'pandas.core.frame.DataFrame'>\n",
      "RangeIndex: 39356 entries, 0 to 39355\n",
      "Data columns (total 4 columns):\n",
      " #   Column   Non-Null Count  Dtype   \n",
      "---  ------   --------------  -----   \n",
      " 0   index    39356 non-null  int64   \n",
      " 1   read_id  39356 non-null  object  \n",
      " 2   signal   39356 non-null  object  \n",
      " 3   dataset  39356 non-null  category\n",
      "dtypes: category(1), int64(1), object(2)\n",
      "memory usage: 961.0+ KB\n",
      "None\n"
     ]
    }
   ],
   "source": [
    "df_whole=pd.read_pickle('/work/upnae/thomas_trna/data/classification_dataset_conformer_12keach/train.pkl')\n",
    "df_whole.reset_index(inplace=True)\n",
    "print(df_whole.info())\n"
   ]
  },
  {
   "cell_type": "code",
   "execution_count": 65,
   "id": "472b49a1-ea65-4285-9c7f-e590ea19e363",
   "metadata": {},
   "outputs": [
    {
     "data": {
      "text/plain": [
       "<matplotlib.axes._subplots.AxesSubplot at 0x2b121986a710>"
      ]
     },
     "execution_count": 65,
     "metadata": {},
     "output_type": "execute_result"
    },
    {
     "data": {
      "image/png": "[encoded data removed]",
      "text/plain": [
       "<Figure size 432x288 with 1 Axes>"
      ]
     },
     "metadata": {
      "needs_background": "light"
     },
     "output_type": "display_data"
    }
   ],
   "source": [
    "df.dataset.value_counts().plot(kind='bar')"
   ]
  },
  {
   "cell_type": "code",
   "execution_count": 97,
   "id": "3331a3c0-bf5f-452f-bf8b-f596f9f67188",
   "metadata": {},
   "outputs": [
    {
     "name": "stdout",
     "output_type": "stream",
     "text": [
      "(8, 4)\n"
     ]
    },
    {
     "data": {
      "text/plain": [
       "index                                                  68832\n",
       "read_id            read_643b051f-d182-4b9f-bd4d-8ed6596ca8f8\n",
       "signal     [751, 738, 656, 755, 775, 698, 761, 722, 693, ...\n",
       "dataset                                                  UNM\n",
       "Name: 5, dtype: object"
      ]
     },
     "execution_count": 97,
     "metadata": {},
     "output_type": "execute_result"
    }
   ],
   "source": [
    "print(df[df.read_id == 'read_643b051f-d182-4b9f-bd4d-8ed6596ca8f8'].shape)\n",
    "df.loc[5]"
   ]
  },
  {
   "cell_type": "code",
   "execution_count": 102,
   "id": "034ce9b2-ce77-4149-a7bf-f27e81a8f544",
   "metadata": {},
   "outputs": [
    {
     "name": "stdout",
     "output_type": "stream",
     "text": [
      "(8, 4)\n",
      "       index                                    read_id  \\\n",
      "38102   5347  read_643b051f-d182-4b9f-bd4d-8ed6596ca8f8   \n",
      "\n",
      "                                                  signal dataset  \n",
      "38102  [717, 731, 719, 714, 728, 704, 700, 694, 705, ...     UNM  \n",
      "0    UNM\n",
      "1    UNM\n",
      "2    UNM\n",
      "3    UNM\n",
      "4    UNM\n",
      "5    UNM\n",
      "6    UNM\n",
      "7    UNM\n",
      "Name: dataset, dtype: category\n",
      "Categories (5, object): ['UNM', 'h5mC', 'm5C', 'm6A', 'pU']\n"
     ]
    },
    {
     "data": {
      "image/png": "[encoded data removed]",
      "text/plain": [
       "<Figure size 864x360 with 1 Axes>"
      ]
     },
     "metadata": {
      "needs_background": "light"
     },
     "output_type": "display_data"
    }
   ],
   "source": [
    "rid='read_643b051f-d182-4b9f-bd4d-8ed6596ca8f8'\n",
    "plt.figure(figsize=(12,5))\n",
    "rid_df=df[df.read_id == rid]\n",
    "print(rid_df.shape)\n",
    "rid_df.reset_index(inplace=True)\n",
    "plt.plot(range(len(df_whole[df_whole.read_id == rid].signal.item())),df_whole[df_whole.read_id == rid].signal.item())\n",
    "plt.plot(range(50000,60000),rid_df.signal.loc[5])\n",
    "plt.plot(range(40000,50000),rid_df.signal.loc[0])\n",
    "plt.plot(range(80000,90000),rid_df.signal.loc[1])\n",
    "print(df_whole[df_whole.read_id == rid])\n",
    "print(rid_df.dataset)"
   ]
  },
  {
   "cell_type": "code",
   "execution_count": 86,
   "id": "24a1f26c-73d9-411f-af9f-c91a806c9a0e",
   "metadata": {},
   "outputs": [
    {
     "data": {
      "text/plain": [
       "(51646,)"
      ]
     },
     "execution_count": 86,
     "metadata": {},
     "output_type": "execute_result"
    }
   ],
   "source": [
    "df_whole[df_whole.read_id == rid].signal.item().shape"
   ]
  },
  {
   "cell_type": "code",
   "execution_count": 75,
   "id": "2077f257-93da-4745-b144-6e537756ced6",
   "metadata": {},
   "outputs": [
    {
     "name": "stdout",
     "output_type": "stream",
     "text": [
      "Series([], Name: signal, dtype: object)\n",
      "25137\n"
     ]
    }
   ],
   "source": [
    "id=df.read_id.loc[0]\n",
    "print(df[df.read_id == rid].signal)\n",
    "print(len(df_whole[df_whole.read_id == rid].signal.item()))"
   ]
  },
  {
   "cell_type": "code",
   "execution_count": 74,
   "id": "4f70cd7d-7269-4465-b6e3-d10e12d25ac2",
   "metadata": {},
   "outputs": [
    {
     "name": "stdout",
     "output_type": "stream",
     "text": [
      "read_9528ae3a-d5f5-4def-a729-31a4c99567b9\n",
      "44789.51246284015\n"
     ]
    },
    {
     "data": {
      "image/png": "[encoded data removed]",
      "text/plain": [
       "<Figure size 864x360 with 1 Axes>"
      ]
     },
     "metadata": {
      "needs_background": "light"
     },
     "output_type": "display_data"
    }
   ],
   "source": [
    "idx=5\n",
    "plt.figure(figsize=(12,5))\n",
    "rid=df_whole.loc[idx,'read_id']\n",
    "print(rid)\n",
    "plt.plot(range(len(df_whole.signal.loc[idx])),df_whole.signal.loc[idx])\n",
    "print(df_whole.signal.apply(len).mean())"
   ]
  },
  {
   "cell_type": "code",
   "execution_count": 46,
   "id": "f89019ba-2f63-40d0-bdf1-46290b9956c0",
   "metadata": {},
   "outputs": [
    {
     "data": {
      "text/plain": [
       "[<matplotlib.lines.Line2D at 0x2ace957bfb50>]"
      ]
     },
     "execution_count": 46,
     "metadata": {},
     "output_type": "execute_result"
    },
    {
     "data": {
      "image/png": "[encoded data removed]",
      "text/plain": [
       "<Figure size 864x360 with 1 Axes>"
      ]
     },
     "metadata": {
      "needs_background": "light"
     },
     "output_type": "display_data"
    },
    {
     "data": {
      "image/png": "[encoded data removed]",
      "text/plain": [
       "<Figure size 864x360 with 1 Axes>"
      ]
     },
     "metadata": {
      "needs_background": "light"
     },
     "output_type": "display_data"
    }
   ],
   "source": [
    "plt.figure(figsize=(12,5))\n",
    "plt.plot(range(10000),df[df.read_id == id].signal.loc[0])\n",
    "plt.figure(figsize=(12,5))\n",
    "plt.plot(range(len(df_whole[df_whole.read_id == id].signal.item())),df_whole[df_whole.read_id == id].signal.item())"
   ]
  },
  {
   "cell_type": "code",
   "execution_count": 136,
   "id": "ab83ce53-e7dc-4b87-a1a8-7bfc37bf832a",
   "metadata": {},
   "outputs": [
    {
     "data": {
      "text/plain": [
       "[<matplotlib.lines.Line2D at 0x2b70cd4610d0>]"
      ]
     },
     "execution_count": 136,
     "metadata": {},
     "output_type": "execute_result"
    },
    {
     "data": {
      "image/png": "[encoded data removed]",
      "text/plain": [
       "<Figure size 864x360 with 1 Axes>"
      ]
     },
     "metadata": {
      "needs_background": "light"
     },
     "output_type": "display_data"
    }
   ],
   "source": [
    "plt.figure(figsize=(12,5))\n",
    "plt.plot(range(10000),df_whole.signal.loc[ind].item()[:10000])\n",
    "plt.plot(range(10000),df.signal.loc[8])"
   ]
  },
  {
   "cell_type": "code",
   "execution_count": 2,
   "id": "08b449e1-cf29-4c81-be79-855f55ae0e6e",
   "metadata": {},
   "outputs": [
    {
     "name": "stdout",
     "output_type": "stream",
     "text": [
      "<class 'pandas.core.frame.DataFrame'>\n",
      "RangeIndex: 4000 entries, 0 to 3999\n",
      "Data columns (total 5 columns):\n",
      " #   Column   Non-Null Count  Dtype \n",
      "---  ------   --------------  ----- \n",
      " 0   read_id  4000 non-null   object\n",
      " 1   signal   4000 non-null   object\n",
      " 2   move     4000 non-null   object\n",
      " 3   trace    4000 non-null   object\n",
      " 4   seq      4000 non-null   object\n",
      "dtypes: object(5)\n",
      "memory usage: 156.4+ KB\n"
     ]
    }
   ],
   "source": [
    "df=pd.read_pickle('/scratch/tcastigl/data/ONT_reads0.pkl')\n",
    "df.info()"
   ]
  },
  {
   "cell_type": "code",
   "execution_count": 4,
   "id": "f99eb85b-3ad7-496b-9dd0-fbf905486631",
   "metadata": {},
   "outputs": [
    {
     "data": {
      "text/plain": [
       "[<matplotlib.lines.Line2D at 0x2ab872751c50>]"
      ]
     },
     "execution_count": 4,
     "metadata": {},
     "output_type": "execute_result"
    },
    {
     "data": {
      "image/png": "[encoded data removed]",
      "text/plain": [
       "<Figure size 864x360 with 1 Axes>"
      ]
     },
     "metadata": {
      "needs_background": "light"
     },
     "output_type": "display_data"
    }
   ],
   "source": [
    "sign=df.signal.loc[0]\n",
    "plt.figure(figsize=(12,5))\n",
    "plt.plot(range(len(sign)),sign)"
   ]
  },
  {
   "cell_type": "code",
   "execution_count": 5,
   "id": "f28dfac1-d2a0-4812-b4c3-02bdd8a6ebb1",
   "metadata": {},
   "outputs": [
    {
     "data": {
      "text/plain": [
       "62872.84525"
      ]
     },
     "execution_count": 5,
     "metadata": {},
     "output_type": "execute_result"
    }
   ],
   "source": [
    "np.mean(df.signal.apply(len))"
   ]
  },
  {
   "cell_type": "code",
   "execution_count": 85,
   "id": "707f9557-b454-4143-85bf-e2e13bcdbd0a",
   "metadata": {},
   "outputs": [
    {
     "data": {
      "text/plain": [
       "'read_9528ae3a-d5f5-4def-a729-31a4c99567b9'"
      ]
     },
     "execution_count": 85,
     "metadata": {},
     "output_type": "execute_result"
    }
   ],
   "source": [
    "df_whole.read_id.loc[5]"
   ]
  },
  {
   "cell_type": "code",
   "execution_count": 138,
   "id": "b53a205e-fa8b-41e2-a6bf-02af837155c4",
   "metadata": {},
   "outputs": [
    {
     "name": "stdout",
     "output_type": "stream",
     "text": [
      "      index                                    read_id  \\\n",
      "997    2334  read_5b89edac-ab54-419a-9478-ede725ccc039   \n",
      "1282   2841  read_e057d924-bce8-40a8-8f2f-70e741c46e90   \n",
      "1506   2241  read_44c9218f-c281-4601-a038-c5edbf71affb   \n",
      "1882    395  read_61dc2801-6691-4bb2-b9e0-8159b43a80db   \n",
      "2396   5140  read_2d214b7b-a3b4-4bfc-96ad-56a3c82722bf   \n",
      "2792   5803  read_d9375842-9f15-43c0-9d33-0def72c083c3   \n",
      "4061   9081  read_2fcc41bb-90fb-4bd3-a374-8ce8180f8fd6   \n",
      "\n",
      "                                                 signal dataset  \n",
      "997   [756, 764, 759, 770, 753, 744, 766, 767, 760, ...     UNM  \n",
      "1282  [868, 882, 877, 891, 873, 894, 852, 863, 756, ...     UNM  \n",
      "1506  [567, 531, 503, 513, 519, 507, 490, 513, 499, ...     UNM  \n",
      "1882  [674, 659, 654, 660, 681, 685, 661, 668, 672, ...     UNM  \n",
      "2396  [752, 775, 740, 775, 724, 739, 755, 747, 723, ...     UNM  \n",
      "2792  [704, 714, 729, 737, 738, 624, 608, 555, 584, ...     UNM  \n",
      "4061  [621, 624, 607, 588, 574, 573, 548, 537, 554, ...     UNM  \n"
     ]
    }
   ],
   "source": [
    "ind=df_whole.index[df_whole.read_id.isin(df.read_id.loc[0:10])]\n",
    "print(df_whole.loc[ind])"
   ]
  },
  {
   "cell_type": "code",
   "execution_count": 144,
   "id": "f551edd5-134c-41a5-b818-1dcdfa85deb7",
   "metadata": {},
   "outputs": [
    {
     "data": {
      "text/plain": [
       "997     111901\n",
       "1282    141977\n",
       "1506    110554\n",
       "1882      9412\n",
       "2396     58394\n",
       "2792      7474\n",
       "4061     12109\n",
       "Name: signal, dtype: int64"
      ]
     },
     "execution_count": 144,
     "metadata": {},
     "output_type": "execute_result"
    }
   ],
   "source": [
    "df_whole.loc[ind,'signal'].apply(len)"
   ]
  },
  {
   "cell_type": "code",
   "execution_count": 145,
   "id": "275fbfa5-cc0c-4e5d-aab1-3e6392942d12",
   "metadata": {},
   "outputs": [
    {
     "data": {
      "text/plain": [
       "0     10000\n",
       "1     10000\n",
       "2     10000\n",
       "3     10000\n",
       "4     10000\n",
       "5     10000\n",
       "6     10000\n",
       "7     10000\n",
       "8     10000\n",
       "9     10000\n",
       "10    10000\n",
       "Name: signal, dtype: int64"
      ]
     },
     "execution_count": 145,
     "metadata": {},
     "output_type": "execute_result"
    }
   ],
   "source": [
    "df.signal.loc[0:10].apply(len)"
   ]
  },
  {
   "cell_type": "code",
   "execution_count": 5,
   "id": "b993541b-5048-4076-a986-afa0c48f3ff2",
   "metadata": {},
   "outputs": [
    {
     "data": {
      "text/html": [
       "<div>\n",
       "<style scoped>\n",
       "    .dataframe tbody tr th:only-of-type {\n",
       "        vertical-align: middle;\n",
       "    }\n",
       "\n",
       "    .dataframe tbody tr th {\n",
       "        vertical-align: top;\n",
       "    }\n",
       "\n",
       "    .dataframe thead th {\n",
       "        text-align: right;\n",
       "    }\n",
       "</style>\n",
       "<table border=\"1\" class=\"dataframe\">\n",
       "  <thead>\n",
       "    <tr style=\"text-align: right;\">\n",
       "      <th></th>\n",
       "      <th>read_id</th>\n",
       "      <th>signal</th>\n",
       "      <th>dataset</th>\n",
       "    </tr>\n",
       "  </thead>\n",
       "  <tbody>\n",
       "    <tr>\n",
       "      <th>0</th>\n",
       "      <td>read_00fd027b-bd6e-4700-8fea-fc8b78a6e5a6</td>\n",
       "      <td>[521, 540, 549, 557, 523, 502, 508, 496, 500, ...</td>\n",
       "      <td>m6A</td>\n",
       "    </tr>\n",
       "    <tr>\n",
       "      <th>1</th>\n",
       "      <td>read_011d8397-4fed-4672-80f5-102c63c28fbc</td>\n",
       "      <td>[866, 585, 614, 612, 605, 605, 581, 580, 602, ...</td>\n",
       "      <td>m6A</td>\n",
       "    </tr>\n",
       "    <tr>\n",
       "      <th>2</th>\n",
       "      <td>read_0154e6ba-f3f2-42fe-a56f-4aedeab7573b</td>\n",
       "      <td>[505, 513, 510, 490, 459, 478, 468, 471, 470, ...</td>\n",
       "      <td>m6A</td>\n",
       "    </tr>\n",
       "    <tr>\n",
       "      <th>3</th>\n",
       "      <td>read_01736e55-aed6-4cc4-891e-92f793d8b13c</td>\n",
       "      <td>[1048, 498, 518, 509, 522, 494, 526, 551, 536,...</td>\n",
       "      <td>m6A</td>\n",
       "    </tr>\n",
       "    <tr>\n",
       "      <th>6</th>\n",
       "      <td>read_01f73a87-1b26-4e7d-b6a8-d9d4f0eab8ab</td>\n",
       "      <td>[604, 571, 587, 568, 567, 565, 576, 528, 549, ...</td>\n",
       "      <td>m6A</td>\n",
       "    </tr>\n",
       "  </tbody>\n",
       "</table>\n",
       "</div>"
      ],
      "text/plain": [
       "                                     read_id  \\\n",
       "0  read_00fd027b-bd6e-4700-8fea-fc8b78a6e5a6   \n",
       "1  read_011d8397-4fed-4672-80f5-102c63c28fbc   \n",
       "2  read_0154e6ba-f3f2-42fe-a56f-4aedeab7573b   \n",
       "3  read_01736e55-aed6-4cc4-891e-92f793d8b13c   \n",
       "6  read_01f73a87-1b26-4e7d-b6a8-d9d4f0eab8ab   \n",
       "\n",
       "                                              signal dataset  \n",
       "0  [521, 540, 549, 557, 523, 502, 508, 496, 500, ...     m6A  \n",
       "1  [866, 585, 614, 612, 605, 605, 581, 580, 602, ...     m6A  \n",
       "2  [505, 513, 510, 490, 459, 478, 468, 471, 470, ...     m6A  \n",
       "3  [1048, 498, 518, 509, 522, 494, 526, 551, 536,...     m6A  \n",
       "6  [604, 571, 587, 568, 567, 565, 576, 528, 549, ...     m6A  "
      ]
     },
     "execution_count": 5,
     "metadata": {},
     "output_type": "execute_result"
    }
   ],
   "source": [
    "df_ad=pd.read_pickle('/work/upnae/thomas_trna/data/val_set_adapters_only2/train.pkl')\n",
    "df_ad.head()"
   ]
  },
  {
   "cell_type": "code",
   "execution_count": 19,
   "id": "2fb12dca-e710-4e89-8027-252ada38c3a5",
   "metadata": {},
   "outputs": [
    {
     "data": {
      "text/plain": [
       "36"
      ]
     },
     "execution_count": 19,
     "metadata": {},
     "output_type": "execute_result"
    }
   ],
   "source": [
    "df_tail=pd.read_csv('/scratch/tcastigl/data/tail_findr_liver_res/0/out_liver_0.csv')\n",
    "rid='c76cd2-0389-46da-869c-3ddaaaed0bc6'\n",
    "len(df_tail.read_id.loc[0])"
   ]
  },
  {
   "cell_type": "code",
   "execution_count": 5,
   "id": "a47dfcb1-3ea9-430d-af33-c21eabcb27c0",
   "metadata": {
    "tags": []
   },
   "outputs": [],
   "source": [
    "path='/scratch/tcastigl/data/ONT_liver_df/0'\n"
   ]
  },
  {
   "cell_type": "code",
   "execution_count": 7,
   "id": "5b9e5c46-837a-4398-8185-89c93234d2d5",
   "metadata": {},
   "outputs": [
    {
     "data": {
      "text/html": [
       "<div>\n",
       "<style scoped>\n",
       "    .dataframe tbody tr th:only-of-type {\n",
       "        vertical-align: middle;\n",
       "    }\n",
       "\n",
       "    .dataframe tbody tr th {\n",
       "        vertical-align: top;\n",
       "    }\n",
       "\n",
       "    .dataframe thead th {\n",
       "        text-align: right;\n",
       "    }\n",
       "</style>\n",
       "<table border=\"1\" class=\"dataframe\">\n",
       "  <thead>\n",
       "    <tr style=\"text-align: right;\">\n",
       "      <th></th>\n",
       "      <th>read_id</th>\n",
       "      <th>signal</th>\n",
       "      <th>move</th>\n",
       "      <th>trace</th>\n",
       "      <th>seq</th>\n",
       "      <th>stride</th>\n",
       "      <th>first_sample_template</th>\n",
       "    </tr>\n",
       "  </thead>\n",
       "  <tbody>\n",
       "    <tr>\n",
       "      <th>0</th>\n",
       "      <td>read_000ea97b-eec2-4ce1-bf34-7ed840fdcd81</td>\n",
       "      <td>[714, 581, 572, 567, 557, 562, 569, 548, 606, ...</td>\n",
       "      <td>[1, 1, 1, 0, 0, 0, 0, 0, 0, 0, 0, 0, 0, 0, 0, ...</td>\n",
       "      <td>[[11, 7, 25, 208, 4, 0, 0, 1], [210, 5, 28, 6,...</td>\n",
       "      <td>GAUAAGAAAGACGUGAGCACGGCGGACAGACUGCCAUUCCCUCACC...</td>\n",
       "      <td>10</td>\n",
       "      <td>5954</td>\n",
       "    </tr>\n",
       "    <tr>\n",
       "      <th>1</th>\n",
       "      <td>read_00119dd5-580d-4122-b638-794c7aec5e4e</td>\n",
       "      <td>[391, 391, 383, 381, 364, 365, 366, 375, 381, ...</td>\n",
       "      <td>[1, 0, 0, 1, 0, 0, 1, 1, 0, 0, 1, 0, 0, 0, 0, ...</td>\n",
       "      <td>[[146, 1, 19, 86, 3, 0, 0, 0], [98, 1, 19, 66,...</td>\n",
       "      <td>GAUUCAAGCUGAUGUGGUCCGAUCUGAUACGAAUUUGCUCUGACAC...</td>\n",
       "      <td>10</td>\n",
       "      <td>8157</td>\n",
       "    </tr>\n",
       "    <tr>\n",
       "      <th>2</th>\n",
       "      <td>read_00191c9e-5d77-432b-b19d-461062d5fdc6</td>\n",
       "      <td>[556, 543, 400, 544, 413, 341, 333, 342, 344, ...</td>\n",
       "      <td>[1, 0, 0, 0, 1, 1, 0, 0, 0, 0, 0, 0, 0, 0, 0, ...</td>\n",
       "      <td>[[6, 18, 10, 219, 1, 0, 0, 1], [5, 18, 10, 219...</td>\n",
       "      <td>GCUUGUCAGCAGCAGUGAAGUCAUUUGGGCCCCACUGCAGUCACGU...</td>\n",
       "      <td>10</td>\n",
       "      <td>3842</td>\n",
       "    </tr>\n",
       "    <tr>\n",
       "      <th>3</th>\n",
       "      <td>read_003cdc6f-bfd0-4245-89cc-ce0a8c93f038</td>\n",
       "      <td>[463, 480, 486, 473, 471, 486, 484, 484, 484, ...</td>\n",
       "      <td>[1, 0, 0, 0, 0, 0, 0, 0, 0, 0, 0, 1, 0, 0, 0, ...</td>\n",
       "      <td>[[96, 8, 7, 143, 1, 0, 0, 0], [41, 7, 7, 122, ...</td>\n",
       "      <td>UUUGAAAAGAUGUGGUCCUGACAGACAGUCGAUCCAUCCCCAAAUG...</td>\n",
       "      <td>10</td>\n",
       "      <td>479</td>\n",
       "    </tr>\n",
       "    <tr>\n",
       "      <th>4</th>\n",
       "      <td>read_00493a64-5998-4c1a-b5f8-ee38a0540ba4</td>\n",
       "      <td>[773, 822, 707, 694, 690, 703, 704, 890, 853, ...</td>\n",
       "      <td>[1, 0, 0, 0, 0, 0, 1, 1, 0, 0, 0, 0, 0, 0, 0, ...</td>\n",
       "      <td>[[27, 147, 76, 4, 0, 0, 0, 0], [27, 127, 96, 3...</td>\n",
       "      <td>GCGCUCAUGUCUGCUGCGCGUCCGUUUCGUCGCGUCCCGCUCAAUU...</td>\n",
       "      <td>10</td>\n",
       "      <td>8202</td>\n",
       "    </tr>\n",
       "  </tbody>\n",
       "</table>\n",
       "</div>"
      ],
      "text/plain": [
       "                                     read_id  \\\n",
       "0  read_000ea97b-eec2-4ce1-bf34-7ed840fdcd81   \n",
       "1  read_00119dd5-580d-4122-b638-794c7aec5e4e   \n",
       "2  read_00191c9e-5d77-432b-b19d-461062d5fdc6   \n",
       "3  read_003cdc6f-bfd0-4245-89cc-ce0a8c93f038   \n",
       "4  read_00493a64-5998-4c1a-b5f8-ee38a0540ba4   \n",
       "\n",
       "                                              signal  \\\n",
       "0  [714, 581, 572, 567, 557, 562, 569, 548, 606, ...   \n",
       "1  [391, 391, 383, 381, 364, 365, 366, 375, 381, ...   \n",
       "2  [556, 543, 400, 544, 413, 341, 333, 342, 344, ...   \n",
       "3  [463, 480, 486, 473, 471, 486, 484, 484, 484, ...   \n",
       "4  [773, 822, 707, 694, 690, 703, 704, 890, 853, ...   \n",
       "\n",
       "                                                move  \\\n",
       "0  [1, 1, 1, 0, 0, 0, 0, 0, 0, 0, 0, 0, 0, 0, 0, ...   \n",
       "1  [1, 0, 0, 1, 0, 0, 1, 1, 0, 0, 1, 0, 0, 0, 0, ...   \n",
       "2  [1, 0, 0, 0, 1, 1, 0, 0, 0, 0, 0, 0, 0, 0, 0, ...   \n",
       "3  [1, 0, 0, 0, 0, 0, 0, 0, 0, 0, 0, 1, 0, 0, 0, ...   \n",
       "4  [1, 0, 0, 0, 0, 0, 1, 1, 0, 0, 0, 0, 0, 0, 0, ...   \n",
       "\n",
       "                                               trace  \\\n",
       "0  [[11, 7, 25, 208, 4, 0, 0, 1], [210, 5, 28, 6,...   \n",
       "1  [[146, 1, 19, 86, 3, 0, 0, 0], [98, 1, 19, 66,...   \n",
       "2  [[6, 18, 10, 219, 1, 0, 0, 1], [5, 18, 10, 219...   \n",
       "3  [[96, 8, 7, 143, 1, 0, 0, 0], [41, 7, 7, 122, ...   \n",
       "4  [[27, 147, 76, 4, 0, 0, 0, 0], [27, 127, 96, 3...   \n",
       "\n",
       "                                                 seq  stride  \\\n",
       "0  GAUAAGAAAGACGUGAGCACGGCGGACAGACUGCCAUUCCCUCACC...      10   \n",
       "1  GAUUCAAGCUGAUGUGGUCCGAUCUGAUACGAAUUUGCUCUGACAC...      10   \n",
       "2  GCUUGUCAGCAGCAGUGAAGUCAUUUGGGCCCCACUGCAGUCACGU...      10   \n",
       "3  UUUGAAAAGAUGUGGUCCUGACAGACAGUCGAUCCAUCCCCAAAUG...      10   \n",
       "4  GCGCUCAUGUCUGCUGCGCGUCCGUUUCGUCGCGUCCCGCUCAAUU...      10   \n",
       "\n",
       "   first_sample_template  \n",
       "0                   5954  \n",
       "1                   8157  \n",
       "2                   3842  \n",
       "3                    479  \n",
       "4                   8202  "
      ]
     },
     "execution_count": 7,
     "metadata": {},
     "output_type": "execute_result"
    }
   ],
   "source": [
    "df=pd.read_pickle(path+'/ONT_liver_0.pkl')\n",
    "df.head()"
   ]
  },
  {
   "cell_type": "code",
   "execution_count": null,
   "id": "51e9d129-c050-4b6d-9de5-f719edd8baa3",
   "metadata": {},
   "outputs": [],
   "source": [
    "\n",
    "\n",
    "vals=list(range(0,5))\n",
    "rand_vals=[random.randrange(5) for i in range(len(df))]\n",
    "df['dataset']=rand_vals\n",
    "\n",
    "df.dataset=df.dataset.astype('category')\n",
    "\n",
    "df.to_pickle('/work/upnae/thomas_trna/data/liver_chunks_500/val.pkl')"
   ]
  },
  {
   "cell_type": "code",
   "execution_count": 6,
   "id": "624e0f9e-46e9-4925-8f4e-75dfc5a85a57",
   "metadata": {},
   "outputs": [
    {
     "data": {
      "text/plain": [
       "'read_000f053d-c698-420f-bc8d-7f44b934dadc_0'"
      ]
     },
     "execution_count": 6,
     "metadata": {},
     "output_type": "execute_result"
    }
   ],
   "source": [
    "df=pd.read_pickle('/work/upnae/thomas_trna/data/liver_chunks_500/val.pkl')\n",
    "df.read_id.loc[0]"
   ]
  },
  {
   "cell_type": "code",
   "execution_count": 6,
   "id": "c74b8440-b466-40b7-b1e6-664afd301b3e",
   "metadata": {},
   "outputs": [
    {
     "data": {
      "text/plain": [
       "'read_000f053d-c698-420f-bc8d-7f44b934dadc'"
      ]
     },
     "execution_count": 6,
     "metadata": {},
     "output_type": "execute_result"
    }
   ],
   "source": [
    "df.read_id.loc[0]"
   ]
  },
  {
   "cell_type": "code",
   "execution_count": 5,
   "id": "0d1ef753-ca89-46f3-9287-fe7d4c6e2ad3",
   "metadata": {},
   "outputs": [],
   "source": [
    "df_sample=df.loc[:1000]"
   ]
  },
  {
   "cell_type": "code",
   "execution_count": 7,
   "id": "16d77e3f-b4df-4710-94c1-867c7ab81608",
   "metadata": {},
   "outputs": [],
   "source": [
    "df_sample.to_pickle('/work/upnae/thomas_trna/data/val_sample.pkl')"
   ]
  },
  {
   "cell_type": "code",
   "execution_count": 23,
   "id": "f4363568-d590-4abf-a150-87af73f4841c",
   "metadata": {},
   "outputs": [
    {
     "data": {
      "text/html": [
       "<div>\n",
       "<style scoped>\n",
       "    .dataframe tbody tr th:only-of-type {\n",
       "        vertical-align: middle;\n",
       "    }\n",
       "\n",
       "    .dataframe tbody tr th {\n",
       "        vertical-align: top;\n",
       "    }\n",
       "\n",
       "    .dataframe thead th {\n",
       "        text-align: right;\n",
       "    }\n",
       "</style>\n",
       "<table border=\"1\" class=\"dataframe\">\n",
       "  <thead>\n",
       "    <tr style=\"text-align: right;\">\n",
       "      <th></th>\n",
       "      <th>token</th>\n",
       "      <th>chunk_idx</th>\n",
       "      <th>signal</th>\n",
       "      <th>dataset</th>\n",
       "    </tr>\n",
       "  </thead>\n",
       "  <tbody>\n",
       "    <tr>\n",
       "      <th>0</th>\n",
       "      <td>0</td>\n",
       "      <td>0</td>\n",
       "      <td>[438, 450, 448, 446, 452, 461, 456, 440, 449, ...</td>\n",
       "      <td>1</td>\n",
       "    </tr>\n",
       "    <tr>\n",
       "      <th>1</th>\n",
       "      <td>0</td>\n",
       "      <td>1</td>\n",
       "      <td>[685, 679, 685, 682, 687, 673, 680, 673, 671, ...</td>\n",
       "      <td>4</td>\n",
       "    </tr>\n",
       "    <tr>\n",
       "      <th>2</th>\n",
       "      <td>0</td>\n",
       "      <td>2</td>\n",
       "      <td>[503, 514, 496, 496, 497, 506, 500, 482, 497, ...</td>\n",
       "      <td>0</td>\n",
       "    </tr>\n",
       "    <tr>\n",
       "      <th>3</th>\n",
       "      <td>0</td>\n",
       "      <td>3</td>\n",
       "      <td>[427, 433, 425, 433, 424, 425, 433, 411, 422, ...</td>\n",
       "      <td>0</td>\n",
       "    </tr>\n",
       "    <tr>\n",
       "      <th>4</th>\n",
       "      <td>0</td>\n",
       "      <td>4</td>\n",
       "      <td>[428, 421, 442, 439, 432, 413, 435, 421, 426, ...</td>\n",
       "      <td>3</td>\n",
       "    </tr>\n",
       "    <tr>\n",
       "      <th>5</th>\n",
       "      <td>0</td>\n",
       "      <td>5</td>\n",
       "      <td>[450, 453, 444, 465, 446, 451, 458, 471, 462, ...</td>\n",
       "      <td>3</td>\n",
       "    </tr>\n",
       "    <tr>\n",
       "      <th>6</th>\n",
       "      <td>0</td>\n",
       "      <td>6</td>\n",
       "      <td>[423, 385, 411, 393, 424, 373, 447, 392, 428, ...</td>\n",
       "      <td>3</td>\n",
       "    </tr>\n",
       "    <tr>\n",
       "      <th>7</th>\n",
       "      <td>0</td>\n",
       "      <td>7</td>\n",
       "      <td>[384, 404, 406, 436, 385, 442, 444, 425, 402, ...</td>\n",
       "      <td>0</td>\n",
       "    </tr>\n",
       "    <tr>\n",
       "      <th>8</th>\n",
       "      <td>0</td>\n",
       "      <td>8</td>\n",
       "      <td>[408, 365, 412, 406, 393, 393, 399, 404, 437, ...</td>\n",
       "      <td>3</td>\n",
       "    </tr>\n",
       "    <tr>\n",
       "      <th>9</th>\n",
       "      <td>0</td>\n",
       "      <td>9</td>\n",
       "      <td>[517, 516, 489, 499, 509, 518, 525, 564, 510, ...</td>\n",
       "      <td>2</td>\n",
       "    </tr>\n",
       "  </tbody>\n",
       "</table>\n",
       "</div>"
      ],
      "text/plain": [
       "   token  chunk_idx                                             signal dataset\n",
       "0      0          0  [438, 450, 448, 446, 452, 461, 456, 440, 449, ...       1\n",
       "1      0          1  [685, 679, 685, 682, 687, 673, 680, 673, 671, ...       4\n",
       "2      0          2  [503, 514, 496, 496, 497, 506, 500, 482, 497, ...       0\n",
       "3      0          3  [427, 433, 425, 433, 424, 425, 433, 411, 422, ...       0\n",
       "4      0          4  [428, 421, 442, 439, 432, 413, 435, 421, 426, ...       3\n",
       "5      0          5  [450, 453, 444, 465, 446, 451, 458, 471, 462, ...       3\n",
       "6      0          6  [423, 385, 411, 393, 424, 373, 447, 392, 428, ...       3\n",
       "7      0          7  [384, 404, 406, 436, 385, 442, 444, 425, 402, ...       0\n",
       "8      0          8  [408, 365, 412, 406, 393, 393, 399, 404, 437, ...       3\n",
       "9      0          9  [517, 516, 489, 499, 509, 518, 525, 564, 510, ...       2"
      ]
     },
     "execution_count": 23,
     "metadata": {},
     "output_type": "execute_result"
    }
   ],
   "source": [
    "df_s=pd.read_pickle('/work/upnae/thomas_trna/data/liver_chunks_500_sample/val.pkl')\n",
    "df_s.head(10)"
   ]
  },
  {
   "cell_type": "code",
   "execution_count": 10,
   "id": "23c7212d-cb19-419a-931c-08488cdc7314",
   "metadata": {},
   "outputs": [
    {
     "data": {
      "text/plain": [
       "[('cats', 0), ('dogs', 1), ('chicken', 2)]"
      ]
     },
     "execution_count": 10,
     "metadata": {},
     "output_type": "execute_result"
    }
   ],
   "source": [
    "a=['cats','dogs','chicken']\n",
    "a_m=[(x,i) for i,x in enumerate(a)]\n",
    "a_m"
   ]
  },
  {
   "cell_type": "code",
   "execution_count": 12,
   "id": "0b473f27-99bf-4fb6-8f80-11bed0fd177d",
   "metadata": {},
   "outputs": [
    {
     "data": {
      "text/html": [
       "<div>\n",
       "<style scoped>\n",
       "    .dataframe tbody tr th:only-of-type {\n",
       "        vertical-align: middle;\n",
       "    }\n",
       "\n",
       "    .dataframe tbody tr th {\n",
       "        vertical-align: top;\n",
       "    }\n",
       "\n",
       "    .dataframe thead th {\n",
       "        text-align: right;\n",
       "    }\n",
       "</style>\n",
       "<table border=\"1\" class=\"dataframe\">\n",
       "  <thead>\n",
       "    <tr style=\"text-align: right;\">\n",
       "      <th></th>\n",
       "      <th>read_id</th>\n",
       "      <th>signal</th>\n",
       "      <th>move</th>\n",
       "      <th>trace</th>\n",
       "      <th>seq</th>\n",
       "    </tr>\n",
       "  </thead>\n",
       "  <tbody>\n",
       "    <tr>\n",
       "      <th>0</th>\n",
       "      <td>read_000f053d-c698-420f-bc8d-7f44b934dadc</td>\n",
       "      <td>[438, 450, 448, 446, 452, 461, 456, 440, 449, ...</td>\n",
       "      <td>[1, 0, 0, 0, 1, 1, 0, 0, 0, 0, 0, 0, 0, 0, 0, ...</td>\n",
       "      <td>[[26, 56, 2, 170, 0, 0, 0, 2], [31, 55, 1, 166...</td>\n",
       "      <td>GGGCUCUGUCUCCUCAGCCUCGGUCACCCCAGUUCUAAGGGACAGC...</td>\n",
       "    </tr>\n",
       "    <tr>\n",
       "      <th>1</th>\n",
       "      <td>read_0011b017-55a0-4346-bfb6-20534b590b33</td>\n",
       "      <td>[389, 394, 395, 394, 389, 395, 384, 386, 393, ...</td>\n",
       "      <td>[1, 1, 1, 0, 0, 0, 0, 0, 0, 0, 0, 0, 0, 0, 0, ...</td>\n",
       "      <td>[[6, 235, 1, 11, 0, 0, 0, 2], [229, 13, 2, 11,...</td>\n",
       "      <td>ACCCUUAGCCUUGGCAAAAUGAAGUGGGUAACCUUUCCUCCUCCUC...</td>\n",
       "    </tr>\n",
       "    <tr>\n",
       "      <th>2</th>\n",
       "      <td>read_0017e079-615d-4d93-9696-2a4d99ffa5e5</td>\n",
       "      <td>[436, 433, 430, 441, 410, 398, 398, 426, 396, ...</td>\n",
       "      <td>[1, 1, 1, 0, 0, 0, 1, 0, 1, 1, 0, 0, 1, 1, 0, ...</td>\n",
       "      <td>[[42, 4, 16, 192, 1, 0, 0, 0], [176, 3, 18, 50...</td>\n",
       "      <td>AACCCCACUAGCCUCUGGCAAAAUGAAGUGGGUAACCUUUCCUCCU...</td>\n",
       "    </tr>\n",
       "    <tr>\n",
       "      <th>3</th>\n",
       "      <td>read_00207be8-2dad-4399-86d6-c62d8e93aa14</td>\n",
       "      <td>[868, 428, 416, 418, 416, 420, 407, 425, 414, ...</td>\n",
       "      <td>[1, 0, 0, 0, 0, 0, 0, 0, 0, 0, 0, 0, 0, 0, 0, ...</td>\n",
       "      <td>[[8, 53, 8, 174, 4, 1, 0, 8], [23, 35, 7, 167,...</td>\n",
       "      <td>GGGCCACCGGCAAGAUGGCGGGCCGCGGCCACCGGCCUGCGCCAAG...</td>\n",
       "    </tr>\n",
       "    <tr>\n",
       "      <th>4</th>\n",
       "      <td>read_0057a40c-0a71-44e8-a579-56699f709403</td>\n",
       "      <td>[528, 422, 441, 437, 445, 396, 422, 411, 442, ...</td>\n",
       "      <td>[1, 0, 0, 0, 0, 0, 0, 0, 0, 0, 0, 0, 0, 0, 0, ...</td>\n",
       "      <td>[[10, 24, 1, 216, 1, 0, 0, 3], [7, 21, 2, 214,...</td>\n",
       "      <td>ACUCAUGCAUAUCAUAGUUAAUCCAAGUCCAUGACCAUUAACUGGA...</td>\n",
       "    </tr>\n",
       "  </tbody>\n",
       "</table>\n",
       "</div>"
      ],
      "text/plain": [
       "                                     read_id  \\\n",
       "0  read_000f053d-c698-420f-bc8d-7f44b934dadc   \n",
       "1  read_0011b017-55a0-4346-bfb6-20534b590b33   \n",
       "2  read_0017e079-615d-4d93-9696-2a4d99ffa5e5   \n",
       "3  read_00207be8-2dad-4399-86d6-c62d8e93aa14   \n",
       "4  read_0057a40c-0a71-44e8-a579-56699f709403   \n",
       "\n",
       "                                              signal  \\\n",
       "0  [438, 450, 448, 446, 452, 461, 456, 440, 449, ...   \n",
       "1  [389, 394, 395, 394, 389, 395, 384, 386, 393, ...   \n",
       "2  [436, 433, 430, 441, 410, 398, 398, 426, 396, ...   \n",
       "3  [868, 428, 416, 418, 416, 420, 407, 425, 414, ...   \n",
       "4  [528, 422, 441, 437, 445, 396, 422, 411, 442, ...   \n",
       "\n",
       "                                                move  \\\n",
       "0  [1, 0, 0, 0, 1, 1, 0, 0, 0, 0, 0, 0, 0, 0, 0, ...   \n",
       "1  [1, 1, 1, 0, 0, 0, 0, 0, 0, 0, 0, 0, 0, 0, 0, ...   \n",
       "2  [1, 1, 1, 0, 0, 0, 1, 0, 1, 1, 0, 0, 1, 1, 0, ...   \n",
       "3  [1, 0, 0, 0, 0, 0, 0, 0, 0, 0, 0, 0, 0, 0, 0, ...   \n",
       "4  [1, 0, 0, 0, 0, 0, 0, 0, 0, 0, 0, 0, 0, 0, 0, ...   \n",
       "\n",
       "                                               trace  \\\n",
       "0  [[26, 56, 2, 170, 0, 0, 0, 2], [31, 55, 1, 166...   \n",
       "1  [[6, 235, 1, 11, 0, 0, 0, 2], [229, 13, 2, 11,...   \n",
       "2  [[42, 4, 16, 192, 1, 0, 0, 0], [176, 3, 18, 50...   \n",
       "3  [[8, 53, 8, 174, 4, 1, 0, 8], [23, 35, 7, 167,...   \n",
       "4  [[10, 24, 1, 216, 1, 0, 0, 3], [7, 21, 2, 214,...   \n",
       "\n",
       "                                                 seq  \n",
       "0  GGGCUCUGUCUCCUCAGCCUCGGUCACCCCAGUUCUAAGGGACAGC...  \n",
       "1  ACCCUUAGCCUUGGCAAAAUGAAGUGGGUAACCUUUCCUCCUCCUC...  \n",
       "2  AACCCCACUAGCCUCUGGCAAAAUGAAGUGGGUAACCUUUCCUCCU...  \n",
       "3  GGGCCACCGGCAAGAUGGCGGGCCGCGGCCACCGGCCUGCGCCAAG...  \n",
       "4  ACUCAUGCAUAUCAUAGUUAAUCCAAGUCCAUGACCAUUAACUGGA...  "
      ]
     },
     "execution_count": 12,
     "metadata": {},
     "output_type": "execute_result"
    }
   ],
   "source": [
    "df=pd.read_pickle('/home/tcastigl/concat_liver_df.pkl')\n",
    "df.head()"
   ]
  },
  {
   "cell_type": "code",
   "execution_count": 15,
   "id": "f799ebcb-b698-46de-adb5-d44553507e65",
   "metadata": {},
   "outputs": [],
   "source": [
    "rids=df.read_id.tolist()\n",
    "tokens=[(x,i) for i,x in enumerate(rids)]"
   ]
  },
  {
   "cell_type": "code",
   "execution_count": 21,
   "id": "adae7f84-debd-4aa4-b8dd-ded5f95edb79",
   "metadata": {},
   "outputs": [],
   "source": [
    "with open('readids_tokens.csv','w') as out:\n",
    "    csv_out=csv.writer(out)\n",
    "    csv_out.writerow(['read_id','token'])\n",
    "    for row in tokens:\n",
    "        csv_out.writerow(row)"
   ]
  },
  {
   "cell_type": "code",
   "execution_count": 2,
   "id": "9c264327-9e40-4f3f-9e24-a1af21215a58",
   "metadata": {
    "collapsed": true,
    "jupyter": {
     "outputs_hidden": true
    },
    "tags": []
   },
   "outputs": [
    {
     "data": {
      "text/html": [
       "<div>\n",
       "<style scoped>\n",
       "    .dataframe tbody tr th:only-of-type {\n",
       "        vertical-align: middle;\n",
       "    }\n",
       "\n",
       "    .dataframe tbody tr th {\n",
       "        vertical-align: top;\n",
       "    }\n",
       "\n",
       "    .dataframe thead th {\n",
       "        text-align: right;\n",
       "    }\n",
       "</style>\n",
       "<table border=\"1\" class=\"dataframe\">\n",
       "  <thead>\n",
       "    <tr style=\"text-align: right;\">\n",
       "      <th></th>\n",
       "      <th>read_id</th>\n",
       "      <th>chunk_idx</th>\n",
       "      <th>signal</th>\n",
       "    </tr>\n",
       "  </thead>\n",
       "  <tbody>\n",
       "    <tr>\n",
       "      <th>0</th>\n",
       "      <td>read_000f053d-c698-420f-bc8d-7f44b934dadc</td>\n",
       "      <td>0</td>\n",
       "      <td>[438, 450, 448, 446, 452, 461, 456, 440, 449, ...</td>\n",
       "    </tr>\n",
       "    <tr>\n",
       "      <th>1</th>\n",
       "      <td>read_000f053d-c698-420f-bc8d-7f44b934dadc</td>\n",
       "      <td>1</td>\n",
       "      <td>[685, 679, 685, 682, 687, 673, 680, 673, 671, ...</td>\n",
       "    </tr>\n",
       "    <tr>\n",
       "      <th>2</th>\n",
       "      <td>read_000f053d-c698-420f-bc8d-7f44b934dadc</td>\n",
       "      <td>2</td>\n",
       "      <td>[503, 514, 496, 496, 497, 506, 500, 482, 497, ...</td>\n",
       "    </tr>\n",
       "    <tr>\n",
       "      <th>3</th>\n",
       "      <td>read_000f053d-c698-420f-bc8d-7f44b934dadc</td>\n",
       "      <td>3</td>\n",
       "      <td>[427, 433, 425, 433, 424, 425, 433, 411, 422, ...</td>\n",
       "    </tr>\n",
       "    <tr>\n",
       "      <th>4</th>\n",
       "      <td>read_000f053d-c698-420f-bc8d-7f44b934dadc</td>\n",
       "      <td>4</td>\n",
       "      <td>[428, 421, 442, 439, 432, 413, 435, 421, 426, ...</td>\n",
       "    </tr>\n",
       "    <tr>\n",
       "      <th>5</th>\n",
       "      <td>read_000f053d-c698-420f-bc8d-7f44b934dadc</td>\n",
       "      <td>5</td>\n",
       "      <td>[450, 453, 444, 465, 446, 451, 458, 471, 462, ...</td>\n",
       "    </tr>\n",
       "    <tr>\n",
       "      <th>6</th>\n",
       "      <td>read_000f053d-c698-420f-bc8d-7f44b934dadc</td>\n",
       "      <td>6</td>\n",
       "      <td>[423, 385, 411, 393, 424, 373, 447, 392, 428, ...</td>\n",
       "    </tr>\n",
       "    <tr>\n",
       "      <th>7</th>\n",
       "      <td>read_000f053d-c698-420f-bc8d-7f44b934dadc</td>\n",
       "      <td>7</td>\n",
       "      <td>[384, 404, 406, 436, 385, 442, 444, 425, 402, ...</td>\n",
       "    </tr>\n",
       "    <tr>\n",
       "      <th>8</th>\n",
       "      <td>read_000f053d-c698-420f-bc8d-7f44b934dadc</td>\n",
       "      <td>8</td>\n",
       "      <td>[408, 365, 412, 406, 393, 393, 399, 404, 437, ...</td>\n",
       "    </tr>\n",
       "    <tr>\n",
       "      <th>9</th>\n",
       "      <td>read_000f053d-c698-420f-bc8d-7f44b934dadc</td>\n",
       "      <td>9</td>\n",
       "      <td>[517, 516, 489, 499, 509, 518, 525, 564, 510, ...</td>\n",
       "    </tr>\n",
       "    <tr>\n",
       "      <th>10</th>\n",
       "      <td>read_000f053d-c698-420f-bc8d-7f44b934dadc</td>\n",
       "      <td>10</td>\n",
       "      <td>[511, 509, 502, 504, 512, 489, 500, 511, 497, ...</td>\n",
       "    </tr>\n",
       "    <tr>\n",
       "      <th>11</th>\n",
       "      <td>read_000f053d-c698-420f-bc8d-7f44b934dadc</td>\n",
       "      <td>11</td>\n",
       "      <td>[522, 507, 493, 495, 493, 488, 501, 484, 496, ...</td>\n",
       "    </tr>\n",
       "    <tr>\n",
       "      <th>12</th>\n",
       "      <td>read_000f053d-c698-420f-bc8d-7f44b934dadc</td>\n",
       "      <td>12</td>\n",
       "      <td>[502, 501, 487, 485, 485, 505, 511, 492, 498, ...</td>\n",
       "    </tr>\n",
       "    <tr>\n",
       "      <th>13</th>\n",
       "      <td>read_000f053d-c698-420f-bc8d-7f44b934dadc</td>\n",
       "      <td>13</td>\n",
       "      <td>[517, 518, 499, 521, 519, 512, 510, 472, 524, ...</td>\n",
       "    </tr>\n",
       "    <tr>\n",
       "      <th>14</th>\n",
       "      <td>read_000f053d-c698-420f-bc8d-7f44b934dadc</td>\n",
       "      <td>14</td>\n",
       "      <td>[512, 506, 522, 520, 505, 504, 495, 501, 511, ...</td>\n",
       "    </tr>\n",
       "    <tr>\n",
       "      <th>15</th>\n",
       "      <td>read_000f053d-c698-420f-bc8d-7f44b934dadc</td>\n",
       "      <td>15</td>\n",
       "      <td>[526, 487, 517, 541, 537, 547, 575, 486, 507, ...</td>\n",
       "    </tr>\n",
       "    <tr>\n",
       "      <th>16</th>\n",
       "      <td>read_000f053d-c698-420f-bc8d-7f44b934dadc</td>\n",
       "      <td>16</td>\n",
       "      <td>[527, 529, 516, 528, 527, 516, 525, 520, 517, ...</td>\n",
       "    </tr>\n",
       "    <tr>\n",
       "      <th>17</th>\n",
       "      <td>read_000f053d-c698-420f-bc8d-7f44b934dadc</td>\n",
       "      <td>17</td>\n",
       "      <td>[454, 469, 466, 452, 463, 455, 455, 453, 447, ...</td>\n",
       "    </tr>\n",
       "    <tr>\n",
       "      <th>18</th>\n",
       "      <td>read_000f053d-c698-420f-bc8d-7f44b934dadc</td>\n",
       "      <td>18</td>\n",
       "      <td>[416, 413, 410, 421, 422, 414, 397, 398, 420, ...</td>\n",
       "    </tr>\n",
       "    <tr>\n",
       "      <th>19</th>\n",
       "      <td>read_000f053d-c698-420f-bc8d-7f44b934dadc</td>\n",
       "      <td>19</td>\n",
       "      <td>[426, 416, 415, 417, 418, 404, 418, 417, 408, ...</td>\n",
       "    </tr>\n",
       "    <tr>\n",
       "      <th>20</th>\n",
       "      <td>read_000f053d-c698-420f-bc8d-7f44b934dadc</td>\n",
       "      <td>20</td>\n",
       "      <td>[493, 520, 499, 511, 507, 491, 520, 496, 514, ...</td>\n",
       "    </tr>\n",
       "    <tr>\n",
       "      <th>21</th>\n",
       "      <td>read_000f053d-c698-420f-bc8d-7f44b934dadc</td>\n",
       "      <td>21</td>\n",
       "      <td>[435, 457, 448, 450, 476, 434, 431, 446, 485, ...</td>\n",
       "    </tr>\n",
       "    <tr>\n",
       "      <th>22</th>\n",
       "      <td>read_000f053d-c698-420f-bc8d-7f44b934dadc</td>\n",
       "      <td>22</td>\n",
       "      <td>[399, 392, 395, 386, 387, 409, 405, 399, 403, ...</td>\n",
       "    </tr>\n",
       "    <tr>\n",
       "      <th>23</th>\n",
       "      <td>read_000f053d-c698-420f-bc8d-7f44b934dadc</td>\n",
       "      <td>23</td>\n",
       "      <td>[664, 664, 681, 653, 668, 654, 669, 672, 668, ...</td>\n",
       "    </tr>\n",
       "    <tr>\n",
       "      <th>24</th>\n",
       "      <td>read_000f053d-c698-420f-bc8d-7f44b934dadc</td>\n",
       "      <td>24</td>\n",
       "      <td>[703, 671, 695, 670, 677, 689, 682, 665, 684, ...</td>\n",
       "    </tr>\n",
       "    <tr>\n",
       "      <th>25</th>\n",
       "      <td>read_000f053d-c698-420f-bc8d-7f44b934dadc</td>\n",
       "      <td>25</td>\n",
       "      <td>[664, 682, 681, 676, 630, 676, 667, 673, 676, ...</td>\n",
       "    </tr>\n",
       "    <tr>\n",
       "      <th>26</th>\n",
       "      <td>read_000f053d-c698-420f-bc8d-7f44b934dadc</td>\n",
       "      <td>26</td>\n",
       "      <td>[681, 668, 649, 644, 639, 651, 672, 662, 667, ...</td>\n",
       "    </tr>\n",
       "    <tr>\n",
       "      <th>27</th>\n",
       "      <td>read_000f053d-c698-420f-bc8d-7f44b934dadc</td>\n",
       "      <td>27</td>\n",
       "      <td>[633, 602, 617, 604, 649, 596, 608, 609, 617, ...</td>\n",
       "    </tr>\n",
       "    <tr>\n",
       "      <th>28</th>\n",
       "      <td>read_000f053d-c698-420f-bc8d-7f44b934dadc</td>\n",
       "      <td>28</td>\n",
       "      <td>[548, 587, 447, 453, 620, 853, 579, 432, 454, ...</td>\n",
       "    </tr>\n",
       "    <tr>\n",
       "      <th>29</th>\n",
       "      <td>read_000f053d-c698-420f-bc8d-7f44b934dadc</td>\n",
       "      <td>29</td>\n",
       "      <td>[538, 529, 540, 496, 522, 556, 533, 534, 536, ...</td>\n",
       "    </tr>\n",
       "    <tr>\n",
       "      <th>30</th>\n",
       "      <td>read_000f053d-c698-420f-bc8d-7f44b934dadc</td>\n",
       "      <td>30</td>\n",
       "      <td>[690, 690, 679, 724, 687, 678, 670, 676, 668, ...</td>\n",
       "    </tr>\n",
       "    <tr>\n",
       "      <th>31</th>\n",
       "      <td>read_000f053d-c698-420f-bc8d-7f44b934dadc</td>\n",
       "      <td>31</td>\n",
       "      <td>[636, 634, 640, 640, 660, 643, 615, 631, 643, ...</td>\n",
       "    </tr>\n",
       "    <tr>\n",
       "      <th>32</th>\n",
       "      <td>read_000f053d-c698-420f-bc8d-7f44b934dadc</td>\n",
       "      <td>32</td>\n",
       "      <td>[560, 523, 558, 522, 557, 523, 557, 530, 549, ...</td>\n",
       "    </tr>\n",
       "    <tr>\n",
       "      <th>33</th>\n",
       "      <td>read_000f053d-c698-420f-bc8d-7f44b934dadc</td>\n",
       "      <td>33</td>\n",
       "      <td>[713, 684, 634, 677, 652, 625, 639, 634, 635, ...</td>\n",
       "    </tr>\n",
       "    <tr>\n",
       "      <th>34</th>\n",
       "      <td>read_000f053d-c698-420f-bc8d-7f44b934dadc</td>\n",
       "      <td>34</td>\n",
       "      <td>[398, 418, 415, 402, 401, 420, 402, 398, 410, ...</td>\n",
       "    </tr>\n",
       "    <tr>\n",
       "      <th>35</th>\n",
       "      <td>read_000f053d-c698-420f-bc8d-7f44b934dadc</td>\n",
       "      <td>35</td>\n",
       "      <td>[655, 675, 652, 625, 642, 656, 627, 664, 646, ...</td>\n",
       "    </tr>\n",
       "    <tr>\n",
       "      <th>36</th>\n",
       "      <td>read_000f053d-c698-420f-bc8d-7f44b934dadc</td>\n",
       "      <td>36</td>\n",
       "      <td>[545, 569, 634, 589, 492, 510, 608, 630, 580, ...</td>\n",
       "    </tr>\n",
       "    <tr>\n",
       "      <th>37</th>\n",
       "      <td>read_000f053d-c698-420f-bc8d-7f44b934dadc</td>\n",
       "      <td>37</td>\n",
       "      <td>[491, 477, 477, 464, 466, 467, 482, 476, 483, ...</td>\n",
       "    </tr>\n",
       "    <tr>\n",
       "      <th>38</th>\n",
       "      <td>read_000f053d-c698-420f-bc8d-7f44b934dadc</td>\n",
       "      <td>38</td>\n",
       "      <td>[642, 680, 648, 680, 633, 614, 665, 651, 619, ...</td>\n",
       "    </tr>\n",
       "    <tr>\n",
       "      <th>39</th>\n",
       "      <td>read_000f053d-c698-420f-bc8d-7f44b934dadc</td>\n",
       "      <td>39</td>\n",
       "      <td>[626, 639, 645, 663, 615, 585, 641, 680, 657, ...</td>\n",
       "    </tr>\n",
       "    <tr>\n",
       "      <th>40</th>\n",
       "      <td>read_000f053d-c698-420f-bc8d-7f44b934dadc</td>\n",
       "      <td>40</td>\n",
       "      <td>[645, 653, 652, 662, 658, 634, 636, 605, 672, ...</td>\n",
       "    </tr>\n",
       "    <tr>\n",
       "      <th>41</th>\n",
       "      <td>read_000f053d-c698-420f-bc8d-7f44b934dadc</td>\n",
       "      <td>41</td>\n",
       "      <td>[630, 628, 690, 664, 646, 758, 789, 712, 790, ...</td>\n",
       "    </tr>\n",
       "    <tr>\n",
       "      <th>42</th>\n",
       "      <td>read_000f053d-c698-420f-bc8d-7f44b934dadc</td>\n",
       "      <td>42</td>\n",
       "      <td>[640, 723, 717, 606, 718, 692, 689, 693, 714, ...</td>\n",
       "    </tr>\n",
       "    <tr>\n",
       "      <th>43</th>\n",
       "      <td>read_000f053d-c698-420f-bc8d-7f44b934dadc</td>\n",
       "      <td>43</td>\n",
       "      <td>[640, 659, 653, 642, 648, 656, 648, 622, 642, ...</td>\n",
       "    </tr>\n",
       "    <tr>\n",
       "      <th>44</th>\n",
       "      <td>read_000f053d-c698-420f-bc8d-7f44b934dadc</td>\n",
       "      <td>44</td>\n",
       "      <td>[483, 479, 485, 479, 470, 485, 452, 451, 457, ...</td>\n",
       "    </tr>\n",
       "    <tr>\n",
       "      <th>45</th>\n",
       "      <td>read_000f053d-c698-420f-bc8d-7f44b934dadc</td>\n",
       "      <td>45</td>\n",
       "      <td>[647, 637, 592, 531, 587, 711, 721, 598, 590, ...</td>\n",
       "    </tr>\n",
       "    <tr>\n",
       "      <th>46</th>\n",
       "      <td>read_000f053d-c698-420f-bc8d-7f44b934dadc</td>\n",
       "      <td>46</td>\n",
       "      <td>[528, 506, 511, 500, 510, 509, 521, 526, 524, ...</td>\n",
       "    </tr>\n",
       "    <tr>\n",
       "      <th>47</th>\n",
       "      <td>read_000f053d-c698-420f-bc8d-7f44b934dadc</td>\n",
       "      <td>47</td>\n",
       "      <td>[526, 547, 516, 527, 517, 529, 525, 529, 519, ...</td>\n",
       "    </tr>\n",
       "    <tr>\n",
       "      <th>48</th>\n",
       "      <td>read_000f053d-c698-420f-bc8d-7f44b934dadc</td>\n",
       "      <td>48</td>\n",
       "      <td>[475, 486, 496, 472, 480, 491, 469, 487, 477, ...</td>\n",
       "    </tr>\n",
       "    <tr>\n",
       "      <th>49</th>\n",
       "      <td>read_000f053d-c698-420f-bc8d-7f44b934dadc</td>\n",
       "      <td>49</td>\n",
       "      <td>[468, 495, 451, 457, 439, 444, 468, 475, 484, ...</td>\n",
       "    </tr>\n",
       "  </tbody>\n",
       "</table>\n",
       "</div>"
      ],
      "text/plain": [
       "                                      read_id  chunk_idx  \\\n",
       "0   read_000f053d-c698-420f-bc8d-7f44b934dadc          0   \n",
       "1   read_000f053d-c698-420f-bc8d-7f44b934dadc          1   \n",
       "2   read_000f053d-c698-420f-bc8d-7f44b934dadc          2   \n",
       "3   read_000f053d-c698-420f-bc8d-7f44b934dadc          3   \n",
       "4   read_000f053d-c698-420f-bc8d-7f44b934dadc          4   \n",
       "5   read_000f053d-c698-420f-bc8d-7f44b934dadc          5   \n",
       "6   read_000f053d-c698-420f-bc8d-7f44b934dadc          6   \n",
       "7   read_000f053d-c698-420f-bc8d-7f44b934dadc          7   \n",
       "8   read_000f053d-c698-420f-bc8d-7f44b934dadc          8   \n",
       "9   read_000f053d-c698-420f-bc8d-7f44b934dadc          9   \n",
       "10  read_000f053d-c698-420f-bc8d-7f44b934dadc         10   \n",
       "11  read_000f053d-c698-420f-bc8d-7f44b934dadc         11   \n",
       "12  read_000f053d-c698-420f-bc8d-7f44b934dadc         12   \n",
       "13  read_000f053d-c698-420f-bc8d-7f44b934dadc         13   \n",
       "14  read_000f053d-c698-420f-bc8d-7f44b934dadc         14   \n",
       "15  read_000f053d-c698-420f-bc8d-7f44b934dadc         15   \n",
       "16  read_000f053d-c698-420f-bc8d-7f44b934dadc         16   \n",
       "17  read_000f053d-c698-420f-bc8d-7f44b934dadc         17   \n",
       "18  read_000f053d-c698-420f-bc8d-7f44b934dadc         18   \n",
       "19  read_000f053d-c698-420f-bc8d-7f44b934dadc         19   \n",
       "20  read_000f053d-c698-420f-bc8d-7f44b934dadc         20   \n",
       "21  read_000f053d-c698-420f-bc8d-7f44b934dadc         21   \n",
       "22  read_000f053d-c698-420f-bc8d-7f44b934dadc         22   \n",
       "23  read_000f053d-c698-420f-bc8d-7f44b934dadc         23   \n",
       "24  read_000f053d-c698-420f-bc8d-7f44b934dadc         24   \n",
       "25  read_000f053d-c698-420f-bc8d-7f44b934dadc         25   \n",
       "26  read_000f053d-c698-420f-bc8d-7f44b934dadc         26   \n",
       "27  read_000f053d-c698-420f-bc8d-7f44b934dadc         27   \n",
       "28  read_000f053d-c698-420f-bc8d-7f44b934dadc         28   \n",
       "29  read_000f053d-c698-420f-bc8d-7f44b934dadc         29   \n",
       "30  read_000f053d-c698-420f-bc8d-7f44b934dadc         30   \n",
       "31  read_000f053d-c698-420f-bc8d-7f44b934dadc         31   \n",
       "32  read_000f053d-c698-420f-bc8d-7f44b934dadc         32   \n",
       "33  read_000f053d-c698-420f-bc8d-7f44b934dadc         33   \n",
       "34  read_000f053d-c698-420f-bc8d-7f44b934dadc         34   \n",
       "35  read_000f053d-c698-420f-bc8d-7f44b934dadc         35   \n",
       "36  read_000f053d-c698-420f-bc8d-7f44b934dadc         36   \n",
       "37  read_000f053d-c698-420f-bc8d-7f44b934dadc         37   \n",
       "38  read_000f053d-c698-420f-bc8d-7f44b934dadc         38   \n",
       "39  read_000f053d-c698-420f-bc8d-7f44b934dadc         39   \n",
       "40  read_000f053d-c698-420f-bc8d-7f44b934dadc         40   \n",
       "41  read_000f053d-c698-420f-bc8d-7f44b934dadc         41   \n",
       "42  read_000f053d-c698-420f-bc8d-7f44b934dadc         42   \n",
       "43  read_000f053d-c698-420f-bc8d-7f44b934dadc         43   \n",
       "44  read_000f053d-c698-420f-bc8d-7f44b934dadc         44   \n",
       "45  read_000f053d-c698-420f-bc8d-7f44b934dadc         45   \n",
       "46  read_000f053d-c698-420f-bc8d-7f44b934dadc         46   \n",
       "47  read_000f053d-c698-420f-bc8d-7f44b934dadc         47   \n",
       "48  read_000f053d-c698-420f-bc8d-7f44b934dadc         48   \n",
       "49  read_000f053d-c698-420f-bc8d-7f44b934dadc         49   \n",
       "\n",
       "                                               signal  \n",
       "0   [438, 450, 448, 446, 452, 461, 456, 440, 449, ...  \n",
       "1   [685, 679, 685, 682, 687, 673, 680, 673, 671, ...  \n",
       "2   [503, 514, 496, 496, 497, 506, 500, 482, 497, ...  \n",
       "3   [427, 433, 425, 433, 424, 425, 433, 411, 422, ...  \n",
       "4   [428, 421, 442, 439, 432, 413, 435, 421, 426, ...  \n",
       "5   [450, 453, 444, 465, 446, 451, 458, 471, 462, ...  \n",
       "6   [423, 385, 411, 393, 424, 373, 447, 392, 428, ...  \n",
       "7   [384, 404, 406, 436, 385, 442, 444, 425, 402, ...  \n",
       "8   [408, 365, 412, 406, 393, 393, 399, 404, 437, ...  \n",
       "9   [517, 516, 489, 499, 509, 518, 525, 564, 510, ...  \n",
       "10  [511, 509, 502, 504, 512, 489, 500, 511, 497, ...  \n",
       "11  [522, 507, 493, 495, 493, 488, 501, 484, 496, ...  \n",
       "12  [502, 501, 487, 485, 485, 505, 511, 492, 498, ...  \n",
       "13  [517, 518, 499, 521, 519, 512, 510, 472, 524, ...  \n",
       "14  [512, 506, 522, 520, 505, 504, 495, 501, 511, ...  \n",
       "15  [526, 487, 517, 541, 537, 547, 575, 486, 507, ...  \n",
       "16  [527, 529, 516, 528, 527, 516, 525, 520, 517, ...  \n",
       "17  [454, 469, 466, 452, 463, 455, 455, 453, 447, ...  \n",
       "18  [416, 413, 410, 421, 422, 414, 397, 398, 420, ...  \n",
       "19  [426, 416, 415, 417, 418, 404, 418, 417, 408, ...  \n",
       "20  [493, 520, 499, 511, 507, 491, 520, 496, 514, ...  \n",
       "21  [435, 457, 448, 450, 476, 434, 431, 446, 485, ...  \n",
       "22  [399, 392, 395, 386, 387, 409, 405, 399, 403, ...  \n",
       "23  [664, 664, 681, 653, 668, 654, 669, 672, 668, ...  \n",
       "24  [703, 671, 695, 670, 677, 689, 682, 665, 684, ...  \n",
       "25  [664, 682, 681, 676, 630, 676, 667, 673, 676, ...  \n",
       "26  [681, 668, 649, 644, 639, 651, 672, 662, 667, ...  \n",
       "27  [633, 602, 617, 604, 649, 596, 608, 609, 617, ...  \n",
       "28  [548, 587, 447, 453, 620, 853, 579, 432, 454, ...  \n",
       "29  [538, 529, 540, 496, 522, 556, 533, 534, 536, ...  \n",
       "30  [690, 690, 679, 724, 687, 678, 670, 676, 668, ...  \n",
       "31  [636, 634, 640, 640, 660, 643, 615, 631, 643, ...  \n",
       "32  [560, 523, 558, 522, 557, 523, 557, 530, 549, ...  \n",
       "33  [713, 684, 634, 677, 652, 625, 639, 634, 635, ...  \n",
       "34  [398, 418, 415, 402, 401, 420, 402, 398, 410, ...  \n",
       "35  [655, 675, 652, 625, 642, 656, 627, 664, 646, ...  \n",
       "36  [545, 569, 634, 589, 492, 510, 608, 630, 580, ...  \n",
       "37  [491, 477, 477, 464, 466, 467, 482, 476, 483, ...  \n",
       "38  [642, 680, 648, 680, 633, 614, 665, 651, 619, ...  \n",
       "39  [626, 639, 645, 663, 615, 585, 641, 680, 657, ...  \n",
       "40  [645, 653, 652, 662, 658, 634, 636, 605, 672, ...  \n",
       "41  [630, 628, 690, 664, 646, 758, 789, 712, 790, ...  \n",
       "42  [640, 723, 717, 606, 718, 692, 689, 693, 714, ...  \n",
       "43  [640, 659, 653, 642, 648, 656, 648, 622, 642, ...  \n",
       "44  [483, 479, 485, 479, 470, 485, 452, 451, 457, ...  \n",
       "45  [647, 637, 592, 531, 587, 711, 721, 598, 590, ...  \n",
       "46  [528, 506, 511, 500, 510, 509, 521, 526, 524, ...  \n",
       "47  [526, 547, 516, 527, 517, 529, 525, 529, 519, ...  \n",
       "48  [475, 486, 496, 472, 480, 491, 469, 487, 477, ...  \n",
       "49  [468, 495, 451, 457, 439, 444, 468, 475, 484, ...  "
      ]
     },
     "execution_count": 2,
     "metadata": {},
     "output_type": "execute_result"
    }
   ],
   "source": [
    "df=pd.read_pickle('/home/tcastigl/chunks_500_curlk.pkl')\n",
    "df.head(50)"
   ]
  },
  {
   "cell_type": "code",
   "execution_count": 13,
   "id": "c4bce9cc-d6f2-4f33-b19e-321e4ca89a3c",
   "metadata": {},
   "outputs": [
    {
     "data": {
      "text/html": [
       "<div>\n",
       "<style scoped>\n",
       "    .dataframe tbody tr th:only-of-type {\n",
       "        vertical-align: middle;\n",
       "    }\n",
       "\n",
       "    .dataframe tbody tr th {\n",
       "        vertical-align: top;\n",
       "    }\n",
       "\n",
       "    .dataframe thead th {\n",
       "        text-align: right;\n",
       "    }\n",
       "</style>\n",
       "<table border=\"1\" class=\"dataframe\">\n",
       "  <thead>\n",
       "    <tr style=\"text-align: right;\">\n",
       "      <th></th>\n",
       "      <th>read_id</th>\n",
       "      <th>chunk_idx</th>\n",
       "      <th>signal</th>\n",
       "    </tr>\n",
       "  </thead>\n",
       "  <tbody>\n",
       "    <tr>\n",
       "      <th>0</th>\n",
       "      <td>read_000f053d-c698-420f-bc8d-7f44b934dadc</td>\n",
       "      <td>0</td>\n",
       "      <td>[438, 450, 448, 446, 452, 461, 456, 440, 449, ...</td>\n",
       "    </tr>\n",
       "    <tr>\n",
       "      <th>1</th>\n",
       "      <td>read_000f053d-c698-420f-bc8d-7f44b934dadc</td>\n",
       "      <td>1</td>\n",
       "      <td>[685, 679, 685, 682, 687, 673, 680, 673, 671, ...</td>\n",
       "    </tr>\n",
       "    <tr>\n",
       "      <th>2</th>\n",
       "      <td>read_000f053d-c698-420f-bc8d-7f44b934dadc</td>\n",
       "      <td>2</td>\n",
       "      <td>[503, 514, 496, 496, 497, 506, 500, 482, 497, ...</td>\n",
       "    </tr>\n",
       "    <tr>\n",
       "      <th>3</th>\n",
       "      <td>read_000f053d-c698-420f-bc8d-7f44b934dadc</td>\n",
       "      <td>3</td>\n",
       "      <td>[427, 433, 425, 433, 424, 425, 433, 411, 422, ...</td>\n",
       "    </tr>\n",
       "    <tr>\n",
       "      <th>4</th>\n",
       "      <td>read_000f053d-c698-420f-bc8d-7f44b934dadc</td>\n",
       "      <td>4</td>\n",
       "      <td>[428, 421, 442, 439, 432, 413, 435, 421, 426, ...</td>\n",
       "    </tr>\n",
       "  </tbody>\n",
       "</table>\n",
       "</div>"
      ],
      "text/plain": [
       "                                     read_id  chunk_idx  \\\n",
       "0  read_000f053d-c698-420f-bc8d-7f44b934dadc          0   \n",
       "1  read_000f053d-c698-420f-bc8d-7f44b934dadc          1   \n",
       "2  read_000f053d-c698-420f-bc8d-7f44b934dadc          2   \n",
       "3  read_000f053d-c698-420f-bc8d-7f44b934dadc          3   \n",
       "4  read_000f053d-c698-420f-bc8d-7f44b934dadc          4   \n",
       "\n",
       "                                              signal  \n",
       "0  [438, 450, 448, 446, 452, 461, 456, 440, 449, ...  \n",
       "1  [685, 679, 685, 682, 687, 673, 680, 673, 671, ...  \n",
       "2  [503, 514, 496, 496, 497, 506, 500, 482, 497, ...  \n",
       "3  [427, 433, 425, 433, 424, 425, 433, 411, 422, ...  \n",
       "4  [428, 421, 442, 439, 432, 413, 435, 421, 426, ...  "
      ]
     },
     "execution_count": 13,
     "metadata": {},
     "output_type": "execute_result"
    }
   ],
   "source": [
    "df.head()"
   ]
  },
  {
   "cell_type": "code",
   "execution_count": 32,
   "id": "c4d30ccd-55f9-43b1-b6fe-862f9af8c36b",
   "metadata": {},
   "outputs": [],
   "source": [
    "t_rids=df_s.token.loc[180:220]\n",
    "c_idxs=df_s.chunk_idx.loc[180:220]\n",
    "t_rids_tens=torch.tensor(t_rids.to_numpy())\n",
    "c_idxs_tens=torch.tensor(c_idxs.to_numpy())"
   ]
  },
  {
   "cell_type": "code",
   "execution_count": 221,
   "id": "7aeecb72-f6ab-4969-a7de-35e7da2d6d98",
   "metadata": {},
   "outputs": [
    {
     "name": "stdout",
     "output_type": "stream",
     "text": [
      "                                     read_id  token\n",
      "0  read_000f053d-c698-420f-bc8d-7f44b934dadc      0\n",
      "1  read_0011b017-55a0-4346-bfb6-20534b590b33      1\n",
      "2  read_0017e079-615d-4d93-9696-2a4d99ffa5e5      2\n",
      "3  read_00207be8-2dad-4399-86d6-c62d8e93aa14      3\n",
      "4  read_0057a40c-0a71-44e8-a579-56699f709403      4\n"
     ]
    },
    {
     "data": {
      "text/html": [
       "<div>\n",
       "<style scoped>\n",
       "    .dataframe tbody tr th:only-of-type {\n",
       "        vertical-align: middle;\n",
       "    }\n",
       "\n",
       "    .dataframe tbody tr th {\n",
       "        vertical-align: top;\n",
       "    }\n",
       "\n",
       "    .dataframe thead th {\n",
       "        text-align: right;\n",
       "    }\n",
       "</style>\n",
       "<table border=\"1\" class=\"dataframe\">\n",
       "  <thead>\n",
       "    <tr style=\"text-align: right;\">\n",
       "      <th></th>\n",
       "      <th>read_id_token</th>\n",
       "      <th>chunk_idx</th>\n",
       "      <th>UNM</th>\n",
       "      <th>h5mC</th>\n",
       "      <th>pU</th>\n",
       "      <th>m5C</th>\n",
       "      <th>m6A</th>\n",
       "      <th>pred</th>\n",
       "      <th>pred_proba</th>\n",
       "    </tr>\n",
       "  </thead>\n",
       "  <tbody>\n",
       "    <tr>\n",
       "      <th>0</th>\n",
       "      <td>0</td>\n",
       "      <td>0</td>\n",
       "      <td>0.000249</td>\n",
       "      <td>0.824903</td>\n",
       "      <td>0.174680</td>\n",
       "      <td>0.000046</td>\n",
       "      <td>0.000122</td>\n",
       "      <td>h5mC</td>\n",
       "      <td>0.824903</td>\n",
       "    </tr>\n",
       "    <tr>\n",
       "      <th>1</th>\n",
       "      <td>0</td>\n",
       "      <td>1</td>\n",
       "      <td>0.058506</td>\n",
       "      <td>0.635404</td>\n",
       "      <td>0.058752</td>\n",
       "      <td>0.008317</td>\n",
       "      <td>0.239021</td>\n",
       "      <td>h5mC</td>\n",
       "      <td>0.635404</td>\n",
       "    </tr>\n",
       "    <tr>\n",
       "      <th>2</th>\n",
       "      <td>0</td>\n",
       "      <td>2</td>\n",
       "      <td>0.033272</td>\n",
       "      <td>0.715636</td>\n",
       "      <td>0.174905</td>\n",
       "      <td>0.003061</td>\n",
       "      <td>0.073126</td>\n",
       "      <td>h5mC</td>\n",
       "      <td>0.715636</td>\n",
       "    </tr>\n",
       "    <tr>\n",
       "      <th>3</th>\n",
       "      <td>0</td>\n",
       "      <td>3</td>\n",
       "      <td>0.034544</td>\n",
       "      <td>0.534920</td>\n",
       "      <td>0.355440</td>\n",
       "      <td>0.026360</td>\n",
       "      <td>0.048736</td>\n",
       "      <td>h5mC</td>\n",
       "      <td>0.534920</td>\n",
       "    </tr>\n",
       "    <tr>\n",
       "      <th>4</th>\n",
       "      <td>0</td>\n",
       "      <td>4</td>\n",
       "      <td>0.078068</td>\n",
       "      <td>0.422595</td>\n",
       "      <td>0.458745</td>\n",
       "      <td>0.006457</td>\n",
       "      <td>0.034135</td>\n",
       "      <td>pU</td>\n",
       "      <td>0.458745</td>\n",
       "    </tr>\n",
       "  </tbody>\n",
       "</table>\n",
       "</div>"
      ],
      "text/plain": [
       "   read_id_token  chunk_idx       UNM      h5mC        pU       m5C       m6A  \\\n",
       "0              0          0  0.000249  0.824903  0.174680  0.000046  0.000122   \n",
       "1              0          1  0.058506  0.635404  0.058752  0.008317  0.239021   \n",
       "2              0          2  0.033272  0.715636  0.174905  0.003061  0.073126   \n",
       "3              0          3  0.034544  0.534920  0.355440  0.026360  0.048736   \n",
       "4              0          4  0.078068  0.422595  0.458745  0.006457  0.034135   \n",
       "\n",
       "   pred  pred_proba  \n",
       "0  h5mC    0.824903  \n",
       "1  h5mC    0.635404  \n",
       "2  h5mC    0.715636  \n",
       "3  h5mC    0.534920  \n",
       "4    pU    0.458745  "
      ]
     },
     "execution_count": 221,
     "metadata": {},
     "output_type": "execute_result"
    }
   ],
   "source": [
    "df=pd.read_csv('probas_df.csv')\n",
    "rid_tokens=pd.read_csv('readids_tokens.csv')\n",
    "print(rid_tokens.head())\n",
    "df.drop('Unnamed: 0',axis=1,inplace=True)\n",
    "df['pred_proba']=df[['UNM','h5mC','pU','m5C','m6A']].max(axis=1)\n",
    "mods=['UNM','h5mC','pU','m5C','m6A']\n",
    "df['pred']=[mods[pred] for pred in df.pred.tolist()]\n",
    "df.head()"
   ]
  },
  {
   "cell_type": "code",
   "execution_count": 224,
   "id": "c93fbbf7-5bfd-4146-903f-6a5b134e5a4d",
   "metadata": {},
   "outputs": [
    {
     "data": {
      "text/html": [
       "<div>\n",
       "<style scoped>\n",
       "    .dataframe tbody tr th:only-of-type {\n",
       "        vertical-align: middle;\n",
       "    }\n",
       "\n",
       "    .dataframe tbody tr th {\n",
       "        vertical-align: top;\n",
       "    }\n",
       "\n",
       "    .dataframe thead th {\n",
       "        text-align: right;\n",
       "    }\n",
       "</style>\n",
       "<table border=\"1\" class=\"dataframe\">\n",
       "  <thead>\n",
       "    <tr style=\"text-align: right;\">\n",
       "      <th></th>\n",
       "      <th>read_id_token</th>\n",
       "      <th>chunk_idx</th>\n",
       "      <th>UNM</th>\n",
       "      <th>h5mC</th>\n",
       "      <th>pU</th>\n",
       "      <th>m5C</th>\n",
       "      <th>m6A</th>\n",
       "      <th>pred</th>\n",
       "      <th>pred_proba</th>\n",
       "    </tr>\n",
       "  </thead>\n",
       "  <tbody>\n",
       "    <tr>\n",
       "      <th>30</th>\n",
       "      <td>0</td>\n",
       "      <td>30</td>\n",
       "      <td>0.035092</td>\n",
       "      <td>0.024551</td>\n",
       "      <td>0.934981</td>\n",
       "      <td>0.004373</td>\n",
       "      <td>0.001004</td>\n",
       "      <td>pU</td>\n",
       "      <td>0.934981</td>\n",
       "    </tr>\n",
       "    <tr>\n",
       "      <th>77</th>\n",
       "      <td>0</td>\n",
       "      <td>77</td>\n",
       "      <td>0.003136</td>\n",
       "      <td>0.005480</td>\n",
       "      <td>0.025801</td>\n",
       "      <td>0.003772</td>\n",
       "      <td>0.961812</td>\n",
       "      <td>m6A</td>\n",
       "      <td>0.961812</td>\n",
       "    </tr>\n",
       "    <tr>\n",
       "      <th>100</th>\n",
       "      <td>0</td>\n",
       "      <td>100</td>\n",
       "      <td>0.006834</td>\n",
       "      <td>0.054019</td>\n",
       "      <td>0.929400</td>\n",
       "      <td>0.005621</td>\n",
       "      <td>0.004126</td>\n",
       "      <td>pU</td>\n",
       "      <td>0.929400</td>\n",
       "    </tr>\n",
       "    <tr>\n",
       "      <th>104</th>\n",
       "      <td>0</td>\n",
       "      <td>104</td>\n",
       "      <td>0.917080</td>\n",
       "      <td>0.025143</td>\n",
       "      <td>0.032796</td>\n",
       "      <td>0.010806</td>\n",
       "      <td>0.014173</td>\n",
       "      <td>UNM</td>\n",
       "      <td>0.917080</td>\n",
       "    </tr>\n",
       "    <tr>\n",
       "      <th>148</th>\n",
       "      <td>0</td>\n",
       "      <td>148</td>\n",
       "      <td>0.001486</td>\n",
       "      <td>0.982501</td>\n",
       "      <td>0.013269</td>\n",
       "      <td>0.000161</td>\n",
       "      <td>0.002582</td>\n",
       "      <td>h5mC</td>\n",
       "      <td>0.982501</td>\n",
       "    </tr>\n",
       "    <tr>\n",
       "      <th>...</th>\n",
       "      <td>...</td>\n",
       "      <td>...</td>\n",
       "      <td>...</td>\n",
       "      <td>...</td>\n",
       "      <td>...</td>\n",
       "      <td>...</td>\n",
       "      <td>...</td>\n",
       "      <td>...</td>\n",
       "      <td>...</td>\n",
       "    </tr>\n",
       "    <tr>\n",
       "      <th>2863678</th>\n",
       "      <td>23999</td>\n",
       "      <td>44</td>\n",
       "      <td>0.021348</td>\n",
       "      <td>0.006375</td>\n",
       "      <td>0.014634</td>\n",
       "      <td>0.000614</td>\n",
       "      <td>0.957029</td>\n",
       "      <td>m6A</td>\n",
       "      <td>0.957029</td>\n",
       "    </tr>\n",
       "    <tr>\n",
       "      <th>2863686</th>\n",
       "      <td>23999</td>\n",
       "      <td>52</td>\n",
       "      <td>0.037352</td>\n",
       "      <td>0.019056</td>\n",
       "      <td>0.928284</td>\n",
       "      <td>0.000201</td>\n",
       "      <td>0.015107</td>\n",
       "      <td>pU</td>\n",
       "      <td>0.928284</td>\n",
       "    </tr>\n",
       "    <tr>\n",
       "      <th>2863690</th>\n",
       "      <td>23999</td>\n",
       "      <td>56</td>\n",
       "      <td>0.001792</td>\n",
       "      <td>0.944535</td>\n",
       "      <td>0.053107</td>\n",
       "      <td>0.000151</td>\n",
       "      <td>0.000415</td>\n",
       "      <td>h5mC</td>\n",
       "      <td>0.944535</td>\n",
       "    </tr>\n",
       "    <tr>\n",
       "      <th>2863724</th>\n",
       "      <td>23999</td>\n",
       "      <td>90</td>\n",
       "      <td>0.011688</td>\n",
       "      <td>0.064191</td>\n",
       "      <td>0.001906</td>\n",
       "      <td>0.001924</td>\n",
       "      <td>0.920291</td>\n",
       "      <td>m6A</td>\n",
       "      <td>0.920291</td>\n",
       "    </tr>\n",
       "    <tr>\n",
       "      <th>2863755</th>\n",
       "      <td>23999</td>\n",
       "      <td>121</td>\n",
       "      <td>0.052434</td>\n",
       "      <td>0.010564</td>\n",
       "      <td>0.004037</td>\n",
       "      <td>0.019827</td>\n",
       "      <td>0.913138</td>\n",
       "      <td>m6A</td>\n",
       "      <td>0.913138</td>\n",
       "    </tr>\n",
       "  </tbody>\n",
       "</table>\n",
       "<p>146491 rows × 9 columns</p>\n",
       "</div>"
      ],
      "text/plain": [
       "         read_id_token  chunk_idx       UNM      h5mC        pU       m5C  \\\n",
       "30                   0         30  0.035092  0.024551  0.934981  0.004373   \n",
       "77                   0         77  0.003136  0.005480  0.025801  0.003772   \n",
       "100                  0        100  0.006834  0.054019  0.929400  0.005621   \n",
       "104                  0        104  0.917080  0.025143  0.032796  0.010806   \n",
       "148                  0        148  0.001486  0.982501  0.013269  0.000161   \n",
       "...                ...        ...       ...       ...       ...       ...   \n",
       "2863678          23999         44  0.021348  0.006375  0.014634  0.000614   \n",
       "2863686          23999         52  0.037352  0.019056  0.928284  0.000201   \n",
       "2863690          23999         56  0.001792  0.944535  0.053107  0.000151   \n",
       "2863724          23999         90  0.011688  0.064191  0.001906  0.001924   \n",
       "2863755          23999        121  0.052434  0.010564  0.004037  0.019827   \n",
       "\n",
       "              m6A  pred  pred_proba  \n",
       "30       0.001004    pU    0.934981  \n",
       "77       0.961812   m6A    0.961812  \n",
       "100      0.004126    pU    0.929400  \n",
       "104      0.014173   UNM    0.917080  \n",
       "148      0.002582  h5mC    0.982501  \n",
       "...           ...   ...         ...  \n",
       "2863678  0.957029   m6A    0.957029  \n",
       "2863686  0.015107    pU    0.928284  \n",
       "2863690  0.000415  h5mC    0.944535  \n",
       "2863724  0.920291   m6A    0.920291  \n",
       "2863755  0.913138   m6A    0.913138  \n",
       "\n",
       "[146491 rows x 9 columns]"
      ]
     },
     "execution_count": 224,
     "metadata": {},
     "output_type": "execute_result"
    }
   ],
   "source": [
    "df_max=df[df.pred_proba > .9]\n",
    "df_max"
   ]
  },
  {
   "cell_type": "code",
   "execution_count": 225,
   "id": "e709cfd2-f87b-445e-bfc5-3dff2f6c0e41",
   "metadata": {},
   "outputs": [
    {
     "data": {
      "text/plain": [
       "(22771,)"
      ]
     },
     "execution_count": 225,
     "metadata": {},
     "output_type": "execute_result"
    }
   ],
   "source": [
    "rids=rid_tokens.loc[rid_tokens.token.isin(df_max.read_id_token.unique()),'read_id']\n",
    "rids.shape"
   ]
  },
  {
   "cell_type": "code",
   "execution_count": 226,
   "id": "7b68be08-8559-4dde-8dea-faa54d339124",
   "metadata": {},
   "outputs": [
    {
     "data": {
      "text/html": [
       "<div>\n",
       "<style scoped>\n",
       "    .dataframe tbody tr th:only-of-type {\n",
       "        vertical-align: middle;\n",
       "    }\n",
       "\n",
       "    .dataframe tbody tr th {\n",
       "        vertical-align: top;\n",
       "    }\n",
       "\n",
       "    .dataframe thead th {\n",
       "        text-align: right;\n",
       "    }\n",
       "</style>\n",
       "<table border=\"1\" class=\"dataframe\">\n",
       "  <thead>\n",
       "    <tr style=\"text-align: right;\">\n",
       "      <th></th>\n",
       "      <th>read_id</th>\n",
       "      <th>signal</th>\n",
       "      <th>move</th>\n",
       "      <th>trace</th>\n",
       "      <th>seq</th>\n",
       "      <th>stride</th>\n",
       "      <th>first_sample_template</th>\n",
       "    </tr>\n",
       "  </thead>\n",
       "  <tbody>\n",
       "    <tr>\n",
       "      <th>0</th>\n",
       "      <td>read_000f053d-c698-420f-bc8d-7f44b934dadc</td>\n",
       "      <td>[438, 450, 448, 446, 452, 461, 456, 440, 449, ...</td>\n",
       "      <td>[1, 0, 0, 0, 1, 1, 0, 0, 0, 0, 0, 0, 0, 0, 0, ...</td>\n",
       "      <td>[[26, 56, 2, 170, 0, 0, 0, 2], [31, 55, 1, 166...</td>\n",
       "      <td>GGGCUCUGUCUCCUCAGCCUCGGUCACCCCAGUUCUAAGGGACAGC...</td>\n",
       "      <td>10</td>\n",
       "      <td>400</td>\n",
       "    </tr>\n",
       "    <tr>\n",
       "      <th>1</th>\n",
       "      <td>read_0011b017-55a0-4346-bfb6-20534b590b33</td>\n",
       "      <td>[389, 394, 395, 394, 389, 395, 384, 386, 393, ...</td>\n",
       "      <td>[1, 1, 1, 0, 0, 0, 0, 0, 0, 0, 0, 0, 0, 0, 0, ...</td>\n",
       "      <td>[[6, 235, 1, 11, 0, 0, 0, 2], [229, 13, 2, 11,...</td>\n",
       "      <td>ACCCUUAGCCUUGGCAAAAUGAAGUGGGUAACCUUUCCUCCUCCUC...</td>\n",
       "      <td>10</td>\n",
       "      <td>424</td>\n",
       "    </tr>\n",
       "    <tr>\n",
       "      <th>2</th>\n",
       "      <td>read_0017e079-615d-4d93-9696-2a4d99ffa5e5</td>\n",
       "      <td>[436, 433, 430, 441, 410, 398, 398, 426, 396, ...</td>\n",
       "      <td>[1, 1, 1, 0, 0, 0, 1, 0, 1, 1, 0, 0, 1, 1, 0, ...</td>\n",
       "      <td>[[42, 4, 16, 192, 1, 0, 0, 0], [176, 3, 18, 50...</td>\n",
       "      <td>AACCCCACUAGCCUCUGGCAAAAUGAAGUGGGUAACCUUUCCUCCU...</td>\n",
       "      <td>10</td>\n",
       "      <td>6116</td>\n",
       "    </tr>\n",
       "    <tr>\n",
       "      <th>3</th>\n",
       "      <td>read_00207be8-2dad-4399-86d6-c62d8e93aa14</td>\n",
       "      <td>[868, 428, 416, 418, 416, 420, 407, 425, 414, ...</td>\n",
       "      <td>[1, 0, 0, 0, 0, 0, 0, 0, 0, 0, 0, 0, 0, 0, 0, ...</td>\n",
       "      <td>[[8, 53, 8, 174, 4, 1, 0, 8], [23, 35, 7, 167,...</td>\n",
       "      <td>GGGCCACCGGCAAGAUGGCGGGCCGCGGCCACCGGCCUGCGCCAAG...</td>\n",
       "      <td>10</td>\n",
       "      <td>6083</td>\n",
       "    </tr>\n",
       "    <tr>\n",
       "      <th>4</th>\n",
       "      <td>read_0057a40c-0a71-44e8-a579-56699f709403</td>\n",
       "      <td>[528, 422, 441, 437, 445, 396, 422, 411, 442, ...</td>\n",
       "      <td>[1, 0, 0, 0, 0, 0, 0, 0, 0, 0, 0, 0, 0, 0, 0, ...</td>\n",
       "      <td>[[10, 24, 1, 216, 1, 0, 0, 3], [7, 21, 2, 214,...</td>\n",
       "      <td>ACUCAUGCAUAUCAUAGUUAAUCCAAGUCCAUGACCAUUAACUGGA...</td>\n",
       "      <td>10</td>\n",
       "      <td>400</td>\n",
       "    </tr>\n",
       "    <tr>\n",
       "      <th>...</th>\n",
       "      <td>...</td>\n",
       "      <td>...</td>\n",
       "      <td>...</td>\n",
       "      <td>...</td>\n",
       "      <td>...</td>\n",
       "      <td>...</td>\n",
       "      <td>...</td>\n",
       "    </tr>\n",
       "    <tr>\n",
       "      <th>3995</th>\n",
       "      <td>read_ff97f282-f62a-4f3d-92ac-c8b6737d0ac2</td>\n",
       "      <td>[492, 454, 411, 421, 412, 413, 421, 407, 402, ...</td>\n",
       "      <td>[1, 0, 0, 1, 0, 0, 0, 0, 0, 0, 0, 0, 0, 0, 0, ...</td>\n",
       "      <td>[[13, 173, 4, 61, 1, 0, 0, 2], [11, 172, 9, 55...</td>\n",
       "      <td>GCCACGAUUUCUGGAAAGAUGUGGUCCUGACAGACAGACAAUCCUA...</td>\n",
       "      <td>10</td>\n",
       "      <td>5416</td>\n",
       "    </tr>\n",
       "    <tr>\n",
       "      <th>3996</th>\n",
       "      <td>read_ff9be578-e33b-43ea-aeef-1f412a0dfbca</td>\n",
       "      <td>[676, 409, 417, 417, 413, 400, 423, 417, 434, ...</td>\n",
       "      <td>[1, 0, 0, 0, 0, 0, 0, 0, 0, 0, 0, 0, 0, 0, 0, ...</td>\n",
       "      <td>[[12, 23, 185, 31, 3, 0, 0, 0], [8, 20, 190, 2...</td>\n",
       "      <td>CAGAAAGACGUGGUUCUGACAGGCAGAAAAUCUUAUCCAAAAUGAA...</td>\n",
       "      <td>10</td>\n",
       "      <td>7234</td>\n",
       "    </tr>\n",
       "    <tr>\n",
       "      <th>3997</th>\n",
       "      <td>read_ffda7bae-3db7-43bd-94e7-788c85642622</td>\n",
       "      <td>[401, 391, 398, 390, 386, 399, 392, 388, 396, ...</td>\n",
       "      <td>[1, 0, 1, 0, 0, 0, 0, 0, 0, 0, 0, 0, 0, 0, 0, ...</td>\n",
       "      <td>[[34, 113, 18, 87, 2, 0, 0, 1], [10, 110, 68, ...</td>\n",
       "      <td>GCACCAUGGGCGGCACAGGCACCAAGAUGUCCAACCGAGUGGUCUG...</td>\n",
       "      <td>10</td>\n",
       "      <td>6815</td>\n",
       "    </tr>\n",
       "    <tr>\n",
       "      <th>3998</th>\n",
       "      <td>read_fff133c0-cc25-4ac0-a3a6-026b01301d7d</td>\n",
       "      <td>[437, 441, 439, 436, 415, 414, 418, 449, 444, ...</td>\n",
       "      <td>[1, 0, 0, 0, 0, 0, 0, 0, 0, 0, 0, 1, 1, 0, 0, ...</td>\n",
       "      <td>[[116, 11, 36, 90, 1, 0, 0, 0], [115, 4, 43, 7...</td>\n",
       "      <td>GAGGCUAAGGACUUGUCUCGGAAGGAGCUGACUGGCCAAUCACAAU...</td>\n",
       "      <td>10</td>\n",
       "      <td>6992</td>\n",
       "    </tr>\n",
       "    <tr>\n",
       "      <th>3999</th>\n",
       "      <td>read_fff4ccef-0c53-4fad-baba-486f6f1ed830</td>\n",
       "      <td>[450, 454, 436, 441, 433, 453, 451, 455, 453, ...</td>\n",
       "      <td>[1, 0, 0, 0, 0, 0, 0, 0, 0, 0, 0, 0, 0, 0, 0, ...</td>\n",
       "      <td>[[1, 0, 249, 5, 0, 0, 0, 0], [0, 0, 249, 5, 1,...</td>\n",
       "      <td>AGAUUGUGUUUGUUAGUCGCUAUGGCUGUACAAAGUUUACGCUAGA...</td>\n",
       "      <td>10</td>\n",
       "      <td>7785</td>\n",
       "    </tr>\n",
       "  </tbody>\n",
       "</table>\n",
       "<p>22771 rows × 7 columns</p>\n",
       "</div>"
      ],
      "text/plain": [
       "                                        read_id  \\\n",
       "0     read_000f053d-c698-420f-bc8d-7f44b934dadc   \n",
       "1     read_0011b017-55a0-4346-bfb6-20534b590b33   \n",
       "2     read_0017e079-615d-4d93-9696-2a4d99ffa5e5   \n",
       "3     read_00207be8-2dad-4399-86d6-c62d8e93aa14   \n",
       "4     read_0057a40c-0a71-44e8-a579-56699f709403   \n",
       "...                                         ...   \n",
       "3995  read_ff97f282-f62a-4f3d-92ac-c8b6737d0ac2   \n",
       "3996  read_ff9be578-e33b-43ea-aeef-1f412a0dfbca   \n",
       "3997  read_ffda7bae-3db7-43bd-94e7-788c85642622   \n",
       "3998  read_fff133c0-cc25-4ac0-a3a6-026b01301d7d   \n",
       "3999  read_fff4ccef-0c53-4fad-baba-486f6f1ed830   \n",
       "\n",
       "                                                 signal  \\\n",
       "0     [438, 450, 448, 446, 452, 461, 456, 440, 449, ...   \n",
       "1     [389, 394, 395, 394, 389, 395, 384, 386, 393, ...   \n",
       "2     [436, 433, 430, 441, 410, 398, 398, 426, 396, ...   \n",
       "3     [868, 428, 416, 418, 416, 420, 407, 425, 414, ...   \n",
       "4     [528, 422, 441, 437, 445, 396, 422, 411, 442, ...   \n",
       "...                                                 ...   \n",
       "3995  [492, 454, 411, 421, 412, 413, 421, 407, 402, ...   \n",
       "3996  [676, 409, 417, 417, 413, 400, 423, 417, 434, ...   \n",
       "3997  [401, 391, 398, 390, 386, 399, 392, 388, 396, ...   \n",
       "3998  [437, 441, 439, 436, 415, 414, 418, 449, 444, ...   \n",
       "3999  [450, 454, 436, 441, 433, 453, 451, 455, 453, ...   \n",
       "\n",
       "                                                   move  \\\n",
       "0     [1, 0, 0, 0, 1, 1, 0, 0, 0, 0, 0, 0, 0, 0, 0, ...   \n",
       "1     [1, 1, 1, 0, 0, 0, 0, 0, 0, 0, 0, 0, 0, 0, 0, ...   \n",
       "2     [1, 1, 1, 0, 0, 0, 1, 0, 1, 1, 0, 0, 1, 1, 0, ...   \n",
       "3     [1, 0, 0, 0, 0, 0, 0, 0, 0, 0, 0, 0, 0, 0, 0, ...   \n",
       "4     [1, 0, 0, 0, 0, 0, 0, 0, 0, 0, 0, 0, 0, 0, 0, ...   \n",
       "...                                                 ...   \n",
       "3995  [1, 0, 0, 1, 0, 0, 0, 0, 0, 0, 0, 0, 0, 0, 0, ...   \n",
       "3996  [1, 0, 0, 0, 0, 0, 0, 0, 0, 0, 0, 0, 0, 0, 0, ...   \n",
       "3997  [1, 0, 1, 0, 0, 0, 0, 0, 0, 0, 0, 0, 0, 0, 0, ...   \n",
       "3998  [1, 0, 0, 0, 0, 0, 0, 0, 0, 0, 0, 1, 1, 0, 0, ...   \n",
       "3999  [1, 0, 0, 0, 0, 0, 0, 0, 0, 0, 0, 0, 0, 0, 0, ...   \n",
       "\n",
       "                                                  trace  \\\n",
       "0     [[26, 56, 2, 170, 0, 0, 0, 2], [31, 55, 1, 166...   \n",
       "1     [[6, 235, 1, 11, 0, 0, 0, 2], [229, 13, 2, 11,...   \n",
       "2     [[42, 4, 16, 192, 1, 0, 0, 0], [176, 3, 18, 50...   \n",
       "3     [[8, 53, 8, 174, 4, 1, 0, 8], [23, 35, 7, 167,...   \n",
       "4     [[10, 24, 1, 216, 1, 0, 0, 3], [7, 21, 2, 214,...   \n",
       "...                                                 ...   \n",
       "3995  [[13, 173, 4, 61, 1, 0, 0, 2], [11, 172, 9, 55...   \n",
       "3996  [[12, 23, 185, 31, 3, 0, 0, 0], [8, 20, 190, 2...   \n",
       "3997  [[34, 113, 18, 87, 2, 0, 0, 1], [10, 110, 68, ...   \n",
       "3998  [[116, 11, 36, 90, 1, 0, 0, 0], [115, 4, 43, 7...   \n",
       "3999  [[1, 0, 249, 5, 0, 0, 0, 0], [0, 0, 249, 5, 1,...   \n",
       "\n",
       "                                                    seq  stride  \\\n",
       "0     GGGCUCUGUCUCCUCAGCCUCGGUCACCCCAGUUCUAAGGGACAGC...      10   \n",
       "1     ACCCUUAGCCUUGGCAAAAUGAAGUGGGUAACCUUUCCUCCUCCUC...      10   \n",
       "2     AACCCCACUAGCCUCUGGCAAAAUGAAGUGGGUAACCUUUCCUCCU...      10   \n",
       "3     GGGCCACCGGCAAGAUGGCGGGCCGCGGCCACCGGCCUGCGCCAAG...      10   \n",
       "4     ACUCAUGCAUAUCAUAGUUAAUCCAAGUCCAUGACCAUUAACUGGA...      10   \n",
       "...                                                 ...     ...   \n",
       "3995  GCCACGAUUUCUGGAAAGAUGUGGUCCUGACAGACAGACAAUCCUA...      10   \n",
       "3996  CAGAAAGACGUGGUUCUGACAGGCAGAAAAUCUUAUCCAAAAUGAA...      10   \n",
       "3997  GCACCAUGGGCGGCACAGGCACCAAGAUGUCCAACCGAGUGGUCUG...      10   \n",
       "3998  GAGGCUAAGGACUUGUCUCGGAAGGAGCUGACUGGCCAAUCACAAU...      10   \n",
       "3999  AGAUUGUGUUUGUUAGUCGCUAUGGCUGUACAAAGUUUACGCUAGA...      10   \n",
       "\n",
       "      first_sample_template  \n",
       "0                       400  \n",
       "1                       424  \n",
       "2                      6116  \n",
       "3                      6083  \n",
       "4                       400  \n",
       "...                     ...  \n",
       "3995                   5416  \n",
       "3996                   7234  \n",
       "3997                   6815  \n",
       "3998                   6992  \n",
       "3999                   7785  \n",
       "\n",
       "[22771 rows x 7 columns]"
      ]
     },
     "execution_count": 226,
     "metadata": {},
     "output_type": "execute_result"
    }
   ],
   "source": [
    "signals=pd.read_pickle('/home/tcastigl/concat_liver_df.pkl')\n",
    "signals=signals[signals.read_id.isin(rids)]\n",
    "signals"
   ]
  },
  {
   "cell_type": "code",
   "execution_count": 227,
   "id": "052823d5-6392-4b06-b855-205e3f5be16e",
   "metadata": {},
   "outputs": [
    {
     "data": {
      "text/html": [
       "<div>\n",
       "<style scoped>\n",
       "    .dataframe tbody tr th:only-of-type {\n",
       "        vertical-align: middle;\n",
       "    }\n",
       "\n",
       "    .dataframe tbody tr th {\n",
       "        vertical-align: top;\n",
       "    }\n",
       "\n",
       "    .dataframe thead th {\n",
       "        text-align: right;\n",
       "    }\n",
       "</style>\n",
       "<table border=\"1\" class=\"dataframe\">\n",
       "  <thead>\n",
       "    <tr style=\"text-align: right;\">\n",
       "      <th></th>\n",
       "      <th>read_id</th>\n",
       "      <th>signal</th>\n",
       "      <th>move</th>\n",
       "      <th>trace</th>\n",
       "      <th>seq</th>\n",
       "      <th>stride</th>\n",
       "      <th>first_sample_template</th>\n",
       "      <th>mods</th>\n",
       "      <th>signal_mods_idxs</th>\n",
       "    </tr>\n",
       "  </thead>\n",
       "  <tbody>\n",
       "    <tr>\n",
       "      <th>0</th>\n",
       "      <td>read_000f053d-c698-420f-bc8d-7f44b934dadc</td>\n",
       "      <td>[438, 450, 448, 446, 452, 461, 456, 440, 449, ...</td>\n",
       "      <td>[1, 0, 0, 0, 1, 1, 0, 0, 0, 0, 0, 0, 0, 0, 0, ...</td>\n",
       "      <td>[[26, 56, 2, 170, 0, 0, 0, 2], [31, 55, 1, 166...</td>\n",
       "      <td>GGGCUCUGUCUCCUCAGCCUCGGUCACCCCAGUUCUAAGGGACAGC...</td>\n",
       "      <td>10</td>\n",
       "      <td>400</td>\n",
       "      <td>[pU, m6A, pU, UNM, h5mC, h5mC, h5mC, h5mC, UNM]</td>\n",
       "      <td>[[15000, 15001, 15002, 15003, 15004, 15005, 15...</td>\n",
       "    </tr>\n",
       "    <tr>\n",
       "      <th>1</th>\n",
       "      <td>read_0011b017-55a0-4346-bfb6-20534b590b33</td>\n",
       "      <td>[389, 394, 395, 394, 389, 395, 384, 386, 393, ...</td>\n",
       "      <td>[1, 1, 1, 0, 0, 0, 0, 0, 0, 0, 0, 0, 0, 0, 0, ...</td>\n",
       "      <td>[[6, 235, 1, 11, 0, 0, 0, 2], [229, 13, 2, 11,...</td>\n",
       "      <td>ACCCUUAGCCUUGGCAAAAUGAAGUGGGUAACCUUUCCUCCUCCUC...</td>\n",
       "      <td>10</td>\n",
       "      <td>424</td>\n",
       "      <td>[pU, h5mC, UNM, h5mC, UNM, pU, m6A, m6A, pU, pU]</td>\n",
       "      <td>[[5500, 5501, 5502, 5503, 5504, 5505, 5506, 55...</td>\n",
       "    </tr>\n",
       "    <tr>\n",
       "      <th>2</th>\n",
       "      <td>read_0017e079-615d-4d93-9696-2a4d99ffa5e5</td>\n",
       "      <td>[436, 433, 430, 441, 410, 398, 398, 426, 396, ...</td>\n",
       "      <td>[1, 1, 1, 0, 0, 0, 1, 0, 1, 1, 0, 0, 1, 1, 0, ...</td>\n",
       "      <td>[[42, 4, 16, 192, 1, 0, 0, 0], [176, 3, 18, 50...</td>\n",
       "      <td>AACCCCACUAGCCUCUGGCAAAAUGAAGUGGGUAACCUUUCCUCCU...</td>\n",
       "      <td>10</td>\n",
       "      <td>6116</td>\n",
       "      <td>[m6A, UNM, m6A, h5mC, h5mC, pU]</td>\n",
       "      <td>[[10000, 10001, 10002, 10003, 10004, 10005, 10...</td>\n",
       "    </tr>\n",
       "    <tr>\n",
       "      <th>3</th>\n",
       "      <td>read_00207be8-2dad-4399-86d6-c62d8e93aa14</td>\n",
       "      <td>[868, 428, 416, 418, 416, 420, 407, 425, 414, ...</td>\n",
       "      <td>[1, 0, 0, 0, 0, 0, 0, 0, 0, 0, 0, 0, 0, 0, 0, ...</td>\n",
       "      <td>[[8, 53, 8, 174, 4, 1, 0, 8], [23, 35, 7, 167,...</td>\n",
       "      <td>GGGCCACCGGCAAGAUGGCGGGCCGCGGCCACCGGCCUGCGCCAAG...</td>\n",
       "      <td>10</td>\n",
       "      <td>6083</td>\n",
       "      <td>[h5mC, UNM, UNM]</td>\n",
       "      <td>[[0, 1, 2, 3, 4, 5, 6, 7, 8, 9, 10, 11, 12, 13...</td>\n",
       "    </tr>\n",
       "    <tr>\n",
       "      <th>4</th>\n",
       "      <td>read_0057a40c-0a71-44e8-a579-56699f709403</td>\n",
       "      <td>[528, 422, 441, 437, 445, 396, 422, 411, 442, ...</td>\n",
       "      <td>[1, 0, 0, 0, 0, 0, 0, 0, 0, 0, 0, 0, 0, 0, 0, ...</td>\n",
       "      <td>[[10, 24, 1, 216, 1, 0, 0, 3], [7, 21, 2, 214,...</td>\n",
       "      <td>ACUCAUGCAUAUCAUAGUUAAUCCAAGUCCAUGACCAUUAACUGGA...</td>\n",
       "      <td>10</td>\n",
       "      <td>400</td>\n",
       "      <td>[h5mC, h5mC, m6A, pU, UNM, h5mC, m6A]</td>\n",
       "      <td>[[0, 1, 2, 3, 4, 5, 6, 7, 8, 9, 10, 11, 12, 13...</td>\n",
       "    </tr>\n",
       "    <tr>\n",
       "      <th>...</th>\n",
       "      <td>...</td>\n",
       "      <td>...</td>\n",
       "      <td>...</td>\n",
       "      <td>...</td>\n",
       "      <td>...</td>\n",
       "      <td>...</td>\n",
       "      <td>...</td>\n",
       "      <td>...</td>\n",
       "      <td>...</td>\n",
       "    </tr>\n",
       "    <tr>\n",
       "      <th>3995</th>\n",
       "      <td>read_ff97f282-f62a-4f3d-92ac-c8b6737d0ac2</td>\n",
       "      <td>[492, 454, 411, 421, 412, 413, 421, 407, 402, ...</td>\n",
       "      <td>[1, 0, 0, 1, 0, 0, 0, 0, 0, 0, 0, 0, 0, 0, 0, ...</td>\n",
       "      <td>[[13, 173, 4, 61, 1, 0, 0, 2], [11, 172, 9, 55...</td>\n",
       "      <td>GCCACGAUUUCUGGAAAGAUGUGGUCCUGACAGACAGACAAUCCUA...</td>\n",
       "      <td>10</td>\n",
       "      <td>5416</td>\n",
       "      <td>[h5mC, h5mC, m6A, m6A, m6A]</td>\n",
       "      <td>[[0, 1, 2, 3, 4, 5, 6, 7, 8, 9, 10, 11, 12, 13...</td>\n",
       "    </tr>\n",
       "    <tr>\n",
       "      <th>3996</th>\n",
       "      <td>read_ff9be578-e33b-43ea-aeef-1f412a0dfbca</td>\n",
       "      <td>[676, 409, 417, 417, 413, 400, 423, 417, 434, ...</td>\n",
       "      <td>[1, 0, 0, 0, 0, 0, 0, 0, 0, 0, 0, 0, 0, 0, 0, ...</td>\n",
       "      <td>[[12, 23, 185, 31, 3, 0, 0, 0], [8, 20, 190, 2...</td>\n",
       "      <td>CAGAAAGACGUGGUUCUGACAGGCAGAAAAUCUUAUCCAAAAUGAA...</td>\n",
       "      <td>10</td>\n",
       "      <td>7234</td>\n",
       "      <td>[h5mC, pU, m6A, pU, pU, h5mC]</td>\n",
       "      <td>[[0, 1, 2, 3, 4, 5, 6, 7, 8, 9, 10, 11, 12, 13...</td>\n",
       "    </tr>\n",
       "    <tr>\n",
       "      <th>3997</th>\n",
       "      <td>read_ffda7bae-3db7-43bd-94e7-788c85642622</td>\n",
       "      <td>[401, 391, 398, 390, 386, 399, 392, 388, 396, ...</td>\n",
       "      <td>[1, 0, 1, 0, 0, 0, 0, 0, 0, 0, 0, 0, 0, 0, 0, ...</td>\n",
       "      <td>[[34, 113, 18, 87, 2, 0, 0, 1], [10, 110, 68, ...</td>\n",
       "      <td>GCACCAUGGGCGGCACAGGCACCAAGAUGUCCAACCGAGUGGUCUG...</td>\n",
       "      <td>10</td>\n",
       "      <td>6815</td>\n",
       "      <td>[h5mC, h5mC, h5mC, pU, pU, pU, h5mC, pU, UNM]</td>\n",
       "      <td>[[0, 1, 2, 3, 4, 5, 6, 7, 8, 9, 10, 11, 12, 13...</td>\n",
       "    </tr>\n",
       "    <tr>\n",
       "      <th>3998</th>\n",
       "      <td>read_fff133c0-cc25-4ac0-a3a6-026b01301d7d</td>\n",
       "      <td>[437, 441, 439, 436, 415, 414, 418, 449, 444, ...</td>\n",
       "      <td>[1, 0, 0, 0, 0, 0, 0, 0, 0, 0, 0, 1, 1, 0, 0, ...</td>\n",
       "      <td>[[116, 11, 36, 90, 1, 0, 0, 0], [115, 4, 43, 7...</td>\n",
       "      <td>GAGGCUAAGGACUUGUCUCGGAAGGAGCUGACUGGCCAAUCACAAU...</td>\n",
       "      <td>10</td>\n",
       "      <td>6992</td>\n",
       "      <td>[h5mC, h5mC, UNM, m6A, pU, UNM]</td>\n",
       "      <td>[[0, 1, 2, 3, 4, 5, 6, 7, 8, 9, 10, 11, 12, 13...</td>\n",
       "    </tr>\n",
       "    <tr>\n",
       "      <th>3999</th>\n",
       "      <td>read_fff4ccef-0c53-4fad-baba-486f6f1ed830</td>\n",
       "      <td>[450, 454, 436, 441, 433, 453, 451, 455, 453, ...</td>\n",
       "      <td>[1, 0, 0, 0, 0, 0, 0, 0, 0, 0, 0, 0, 0, 0, 0, ...</td>\n",
       "      <td>[[1, 0, 249, 5, 0, 0, 0, 0], [0, 0, 249, 5, 1,...</td>\n",
       "      <td>AGAUUGUGUUUGUUAGUCGCUAUGGCUGUACAAAGUUUACGCUAGA...</td>\n",
       "      <td>10</td>\n",
       "      <td>7785</td>\n",
       "      <td>[h5mC, h5mC, pU, m6A, pU, pU, pU, pU, m6A, pU,...</td>\n",
       "      <td>[[0, 1, 2, 3, 4, 5, 6, 7, 8, 9, 10, 11, 12, 13...</td>\n",
       "    </tr>\n",
       "  </tbody>\n",
       "</table>\n",
       "<p>22771 rows × 9 columns</p>\n",
       "</div>"
      ],
      "text/plain": [
       "                                        read_id  \\\n",
       "0     read_000f053d-c698-420f-bc8d-7f44b934dadc   \n",
       "1     read_0011b017-55a0-4346-bfb6-20534b590b33   \n",
       "2     read_0017e079-615d-4d93-9696-2a4d99ffa5e5   \n",
       "3     read_00207be8-2dad-4399-86d6-c62d8e93aa14   \n",
       "4     read_0057a40c-0a71-44e8-a579-56699f709403   \n",
       "...                                         ...   \n",
       "3995  read_ff97f282-f62a-4f3d-92ac-c8b6737d0ac2   \n",
       "3996  read_ff9be578-e33b-43ea-aeef-1f412a0dfbca   \n",
       "3997  read_ffda7bae-3db7-43bd-94e7-788c85642622   \n",
       "3998  read_fff133c0-cc25-4ac0-a3a6-026b01301d7d   \n",
       "3999  read_fff4ccef-0c53-4fad-baba-486f6f1ed830   \n",
       "\n",
       "                                                 signal  \\\n",
       "0     [438, 450, 448, 446, 452, 461, 456, 440, 449, ...   \n",
       "1     [389, 394, 395, 394, 389, 395, 384, 386, 393, ...   \n",
       "2     [436, 433, 430, 441, 410, 398, 398, 426, 396, ...   \n",
       "3     [868, 428, 416, 418, 416, 420, 407, 425, 414, ...   \n",
       "4     [528, 422, 441, 437, 445, 396, 422, 411, 442, ...   \n",
       "...                                                 ...   \n",
       "3995  [492, 454, 411, 421, 412, 413, 421, 407, 402, ...   \n",
       "3996  [676, 409, 417, 417, 413, 400, 423, 417, 434, ...   \n",
       "3997  [401, 391, 398, 390, 386, 399, 392, 388, 396, ...   \n",
       "3998  [437, 441, 439, 436, 415, 414, 418, 449, 444, ...   \n",
       "3999  [450, 454, 436, 441, 433, 453, 451, 455, 453, ...   \n",
       "\n",
       "                                                   move  \\\n",
       "0     [1, 0, 0, 0, 1, 1, 0, 0, 0, 0, 0, 0, 0, 0, 0, ...   \n",
       "1     [1, 1, 1, 0, 0, 0, 0, 0, 0, 0, 0, 0, 0, 0, 0, ...   \n",
       "2     [1, 1, 1, 0, 0, 0, 1, 0, 1, 1, 0, 0, 1, 1, 0, ...   \n",
       "3     [1, 0, 0, 0, 0, 0, 0, 0, 0, 0, 0, 0, 0, 0, 0, ...   \n",
       "4     [1, 0, 0, 0, 0, 0, 0, 0, 0, 0, 0, 0, 0, 0, 0, ...   \n",
       "...                                                 ...   \n",
       "3995  [1, 0, 0, 1, 0, 0, 0, 0, 0, 0, 0, 0, 0, 0, 0, ...   \n",
       "3996  [1, 0, 0, 0, 0, 0, 0, 0, 0, 0, 0, 0, 0, 0, 0, ...   \n",
       "3997  [1, 0, 1, 0, 0, 0, 0, 0, 0, 0, 0, 0, 0, 0, 0, ...   \n",
       "3998  [1, 0, 0, 0, 0, 0, 0, 0, 0, 0, 0, 1, 1, 0, 0, ...   \n",
       "3999  [1, 0, 0, 0, 0, 0, 0, 0, 0, 0, 0, 0, 0, 0, 0, ...   \n",
       "\n",
       "                                                  trace  \\\n",
       "0     [[26, 56, 2, 170, 0, 0, 0, 2], [31, 55, 1, 166...   \n",
       "1     [[6, 235, 1, 11, 0, 0, 0, 2], [229, 13, 2, 11,...   \n",
       "2     [[42, 4, 16, 192, 1, 0, 0, 0], [176, 3, 18, 50...   \n",
       "3     [[8, 53, 8, 174, 4, 1, 0, 8], [23, 35, 7, 167,...   \n",
       "4     [[10, 24, 1, 216, 1, 0, 0, 3], [7, 21, 2, 214,...   \n",
       "...                                                 ...   \n",
       "3995  [[13, 173, 4, 61, 1, 0, 0, 2], [11, 172, 9, 55...   \n",
       "3996  [[12, 23, 185, 31, 3, 0, 0, 0], [8, 20, 190, 2...   \n",
       "3997  [[34, 113, 18, 87, 2, 0, 0, 1], [10, 110, 68, ...   \n",
       "3998  [[116, 11, 36, 90, 1, 0, 0, 0], [115, 4, 43, 7...   \n",
       "3999  [[1, 0, 249, 5, 0, 0, 0, 0], [0, 0, 249, 5, 1,...   \n",
       "\n",
       "                                                    seq  stride  \\\n",
       "0     GGGCUCUGUCUCCUCAGCCUCGGUCACCCCAGUUCUAAGGGACAGC...      10   \n",
       "1     ACCCUUAGCCUUGGCAAAAUGAAGUGGGUAACCUUUCCUCCUCCUC...      10   \n",
       "2     AACCCCACUAGCCUCUGGCAAAAUGAAGUGGGUAACCUUUCCUCCU...      10   \n",
       "3     GGGCCACCGGCAAGAUGGCGGGCCGCGGCCACCGGCCUGCGCCAAG...      10   \n",
       "4     ACUCAUGCAUAUCAUAGUUAAUCCAAGUCCAUGACCAUUAACUGGA...      10   \n",
       "...                                                 ...     ...   \n",
       "3995  GCCACGAUUUCUGGAAAGAUGUGGUCCUGACAGACAGACAAUCCUA...      10   \n",
       "3996  CAGAAAGACGUGGUUCUGACAGGCAGAAAAUCUUAUCCAAAAUGAA...      10   \n",
       "3997  GCACCAUGGGCGGCACAGGCACCAAGAUGUCCAACCGAGUGGUCUG...      10   \n",
       "3998  GAGGCUAAGGACUUGUCUCGGAAGGAGCUGACUGGCCAAUCACAAU...      10   \n",
       "3999  AGAUUGUGUUUGUUAGUCGCUAUGGCUGUACAAAGUUUACGCUAGA...      10   \n",
       "\n",
       "      first_sample_template  \\\n",
       "0                       400   \n",
       "1                       424   \n",
       "2                      6116   \n",
       "3                      6083   \n",
       "4                       400   \n",
       "...                     ...   \n",
       "3995                   5416   \n",
       "3996                   7234   \n",
       "3997                   6815   \n",
       "3998                   6992   \n",
       "3999                   7785   \n",
       "\n",
       "                                                   mods  \\\n",
       "0       [pU, m6A, pU, UNM, h5mC, h5mC, h5mC, h5mC, UNM]   \n",
       "1      [pU, h5mC, UNM, h5mC, UNM, pU, m6A, m6A, pU, pU]   \n",
       "2                       [m6A, UNM, m6A, h5mC, h5mC, pU]   \n",
       "3                                      [h5mC, UNM, UNM]   \n",
       "4                 [h5mC, h5mC, m6A, pU, UNM, h5mC, m6A]   \n",
       "...                                                 ...   \n",
       "3995                        [h5mC, h5mC, m6A, m6A, m6A]   \n",
       "3996                      [h5mC, pU, m6A, pU, pU, h5mC]   \n",
       "3997      [h5mC, h5mC, h5mC, pU, pU, pU, h5mC, pU, UNM]   \n",
       "3998                    [h5mC, h5mC, UNM, m6A, pU, UNM]   \n",
       "3999  [h5mC, h5mC, pU, m6A, pU, pU, pU, pU, m6A, pU,...   \n",
       "\n",
       "                                       signal_mods_idxs  \n",
       "0     [[15000, 15001, 15002, 15003, 15004, 15005, 15...  \n",
       "1     [[5500, 5501, 5502, 5503, 5504, 5505, 5506, 55...  \n",
       "2     [[10000, 10001, 10002, 10003, 10004, 10005, 10...  \n",
       "3     [[0, 1, 2, 3, 4, 5, 6, 7, 8, 9, 10, 11, 12, 13...  \n",
       "4     [[0, 1, 2, 3, 4, 5, 6, 7, 8, 9, 10, 11, 12, 13...  \n",
       "...                                                 ...  \n",
       "3995  [[0, 1, 2, 3, 4, 5, 6, 7, 8, 9, 10, 11, 12, 13...  \n",
       "3996  [[0, 1, 2, 3, 4, 5, 6, 7, 8, 9, 10, 11, 12, 13...  \n",
       "3997  [[0, 1, 2, 3, 4, 5, 6, 7, 8, 9, 10, 11, 12, 13...  \n",
       "3998  [[0, 1, 2, 3, 4, 5, 6, 7, 8, 9, 10, 11, 12, 13...  \n",
       "3999  [[0, 1, 2, 3, 4, 5, 6, 7, 8, 9, 10, 11, 12, 13...  \n",
       "\n",
       "[22771 rows x 9 columns]"
      ]
     },
     "execution_count": 227,
     "metadata": {},
     "output_type": "execute_result"
    }
   ],
   "source": [
    "mods_l=[]\n",
    "signals_mods_idxs_l=[]\n",
    "for r in df_max.read_id_token.unique():\n",
    "    rid=rid_tokens.loc[rid_tokens.token ==  r,'read_id'].item()\n",
    "    mods=df_max[df_max.read_id_token==r].pred.tolist()\n",
    "    signal_chunks_idx=[list(range(500*df_max.chunk_idx.loc[i],500*(df_max.chunk_idx.loc[i]+1))) for i in df_max.loc[df_max.read_id_token == r].index]\n",
    "    mods_l.append(mods)\n",
    "    signals_mods_idxs_l.append(signal_chunks_idx)\n",
    "    #signals.loc[signals.read_id == rid,'mods']=mods\n",
    "    #print(signals.loc[signals.read_id == rid,'mods'])\n",
    "    #signals.loc[signals.read_id == rid,'signal_mod_idxs']=signal_chunks_idx\n",
    "signals['mods']=mods_l\n",
    "signals['signal_mods_idxs']=signals_mods_idxs_l\n",
    "signals\n",
    "    "
   ]
  },
  {
   "cell_type": "code",
   "execution_count": 228,
   "id": "d3972717-cbc8-43df-920e-98330a9bf5d8",
   "metadata": {},
   "outputs": [],
   "source": [
    "def common_member(a, b):\n",
    "    a_set = set(a)\n",
    "    b_set = set(b)\n",
    "    if (a_set & b_set):\n",
    "        return True \n",
    "    else:\n",
    "        return False"
   ]
  },
  {
   "cell_type": "code",
   "execution_count": 229,
   "id": "af7821e8-49c9-4069-9885-cce2cd4d0cd1",
   "metadata": {},
   "outputs": [
    {
     "ename": "ValueError",
     "evalue": "Can only compare identically-labeled Series objects",
     "output_type": "error",
     "traceback": [
      "\u001b[0;31m---------------------------------------------------------------------------\u001b[0m",
      "\u001b[0;31mValueError\u001b[0m                                Traceback (most recent call last)",
      "\u001b[0;32m/tmp/ipykernel_16082/737106814.py\u001b[0m in \u001b[0;36m<module>\u001b[0;34m\u001b[0m\n\u001b[0;32m----> 1\u001b[0;31m \u001b[0m_\u001b[0m\u001b[0;34m,\u001b[0m\u001b[0mbasecall\u001b[0m\u001b[0;34m=\u001b[0m\u001b[0mget_signal_basecall_for_plotting\u001b[0m\u001b[0;34m(\u001b[0m\u001b[0msignals\u001b[0m\u001b[0;34m,\u001b[0m \u001b[0msignals\u001b[0m\u001b[0;34m.\u001b[0m\u001b[0mread_id\u001b[0m\u001b[0;34m.\u001b[0m\u001b[0mloc\u001b[0m\u001b[0;34m[\u001b[0m\u001b[0;36m0\u001b[0m\u001b[0;34m]\u001b[0m\u001b[0;34m)\u001b[0m\u001b[0;34m\u001b[0m\u001b[0;34m\u001b[0m\u001b[0m\n\u001b[0m\u001b[1;32m      2\u001b[0m \u001b[0mmod_seqs\u001b[0m\u001b[0;34m=\u001b[0m\u001b[0;34m[\u001b[0m\u001b[0;34m]\u001b[0m\u001b[0;34m\u001b[0m\u001b[0;34m\u001b[0m\u001b[0m\n\u001b[1;32m      3\u001b[0m \u001b[0;32mfor\u001b[0m \u001b[0mi\u001b[0m\u001b[0;34m,\u001b[0m\u001b[0mrow\u001b[0m \u001b[0;32min\u001b[0m \u001b[0msignals\u001b[0m\u001b[0;34m.\u001b[0m\u001b[0miterrows\u001b[0m\u001b[0;34m(\u001b[0m\u001b[0;34m)\u001b[0m\u001b[0;34m:\u001b[0m\u001b[0;34m\u001b[0m\u001b[0;34m\u001b[0m\u001b[0m\n\u001b[1;32m      4\u001b[0m     \u001b[0;32mfor\u001b[0m \u001b[0mj\u001b[0m\u001b[0;34m,\u001b[0m\u001b[0msign_mod\u001b[0m \u001b[0;32min\u001b[0m \u001b[0menumerate\u001b[0m\u001b[0;34m(\u001b[0m\u001b[0mrow\u001b[0m\u001b[0;34m.\u001b[0m\u001b[0msignal_mods_idxs\u001b[0m\u001b[0;34m)\u001b[0m\u001b[0;34m:\u001b[0m\u001b[0;34m\u001b[0m\u001b[0;34m\u001b[0m\u001b[0m\n\u001b[1;32m      5\u001b[0m         \u001b[0mmod_seq_bases\u001b[0m\u001b[0;34m=\u001b[0m\u001b[0;34m[\u001b[0m\u001b[0;34m]\u001b[0m\u001b[0;34m\u001b[0m\u001b[0;34m\u001b[0m\u001b[0m\n",
      "\u001b[0;32m/work/upnae/thomas_trna/src/basecall_viz_utils.py\u001b[0m in \u001b[0;36mget_signal_basecall_for_plotting\u001b[0;34m(df, readid)\u001b[0m\n\u001b[1;32m      4\u001b[0m \u001b[0;32mimport\u001b[0m \u001b[0mkaleido\u001b[0m\u001b[0;34m\u001b[0m\u001b[0;34m\u001b[0m\u001b[0m\n\u001b[1;32m      5\u001b[0m \u001b[0;32mdef\u001b[0m \u001b[0mget_signal_basecall_for_plotting\u001b[0m\u001b[0;34m(\u001b[0m\u001b[0mdf\u001b[0m\u001b[0;34m,\u001b[0m\u001b[0mreadid\u001b[0m\u001b[0;34m)\u001b[0m\u001b[0;34m:\u001b[0m\u001b[0;34m\u001b[0m\u001b[0;34m\u001b[0m\u001b[0m\n\u001b[0;32m----> 6\u001b[0;31m     \u001b[0midx\u001b[0m\u001b[0;34m=\u001b[0m\u001b[0mdf\u001b[0m\u001b[0;34m.\u001b[0m\u001b[0mloc\u001b[0m\u001b[0;34m[\u001b[0m\u001b[0mdf\u001b[0m\u001b[0;34m[\u001b[0m\u001b[0;34m'read_id'\u001b[0m\u001b[0;34m]\u001b[0m\u001b[0;34m==\u001b[0m\u001b[0mreadid\u001b[0m\u001b[0;34m]\u001b[0m\u001b[0;34m.\u001b[0m\u001b[0mindex\u001b[0m\u001b[0;34m.\u001b[0m\u001b[0mvalues\u001b[0m\u001b[0;34m[\u001b[0m\u001b[0;36m0\u001b[0m\u001b[0;34m]\u001b[0m\u001b[0;34m\u001b[0m\u001b[0;34m\u001b[0m\u001b[0m\n\u001b[0m\u001b[1;32m      7\u001b[0m     \u001b[0msignal\u001b[0m\u001b[0;34m=\u001b[0m\u001b[0mdf\u001b[0m\u001b[0;34m.\u001b[0m\u001b[0mloc\u001b[0m\u001b[0;34m[\u001b[0m\u001b[0midx\u001b[0m\u001b[0;34m]\u001b[0m\u001b[0;34m[\u001b[0m\u001b[0;34m'signal'\u001b[0m\u001b[0;34m]\u001b[0m\u001b[0;34m\u001b[0m\u001b[0;34m\u001b[0m\u001b[0m\n\u001b[1;32m      8\u001b[0m     \u001b[0mmove\u001b[0m\u001b[0;34m=\u001b[0m\u001b[0mdf\u001b[0m\u001b[0;34m.\u001b[0m\u001b[0mloc\u001b[0m\u001b[0;34m[\u001b[0m\u001b[0midx\u001b[0m\u001b[0;34m]\u001b[0m\u001b[0;34m[\u001b[0m\u001b[0;34m'move'\u001b[0m\u001b[0;34m]\u001b[0m\u001b[0;34m\u001b[0m\u001b[0;34m\u001b[0m\u001b[0m\n",
      "\u001b[0;32m~/tRNA/trna_scitas/lib/python3.7/site-packages/pandas/core/ops/common.py\u001b[0m in \u001b[0;36mnew_method\u001b[0;34m(self, other)\u001b[0m\n\u001b[1;32m     67\u001b[0m         \u001b[0mother\u001b[0m \u001b[0;34m=\u001b[0m \u001b[0mitem_from_zerodim\u001b[0m\u001b[0;34m(\u001b[0m\u001b[0mother\u001b[0m\u001b[0;34m)\u001b[0m\u001b[0;34m\u001b[0m\u001b[0;34m\u001b[0m\u001b[0m\n\u001b[1;32m     68\u001b[0m \u001b[0;34m\u001b[0m\u001b[0m\n\u001b[0;32m---> 69\u001b[0;31m         \u001b[0;32mreturn\u001b[0m \u001b[0mmethod\u001b[0m\u001b[0;34m(\u001b[0m\u001b[0mself\u001b[0m\u001b[0;34m,\u001b[0m \u001b[0mother\u001b[0m\u001b[0;34m)\u001b[0m\u001b[0;34m\u001b[0m\u001b[0;34m\u001b[0m\u001b[0m\n\u001b[0m\u001b[1;32m     70\u001b[0m \u001b[0;34m\u001b[0m\u001b[0m\n\u001b[1;32m     71\u001b[0m     \u001b[0;32mreturn\u001b[0m \u001b[0mnew_method\u001b[0m\u001b[0;34m\u001b[0m\u001b[0;34m\u001b[0m\u001b[0m\n",
      "\u001b[0;32m~/tRNA/trna_scitas/lib/python3.7/site-packages/pandas/core/arraylike.py\u001b[0m in \u001b[0;36m__eq__\u001b[0;34m(self, other)\u001b[0m\n\u001b[1;32m     30\u001b[0m     \u001b[0;34m@\u001b[0m\u001b[0munpack_zerodim_and_defer\u001b[0m\u001b[0;34m(\u001b[0m\u001b[0;34m\"__eq__\"\u001b[0m\u001b[0;34m)\u001b[0m\u001b[0;34m\u001b[0m\u001b[0;34m\u001b[0m\u001b[0m\n\u001b[1;32m     31\u001b[0m     \u001b[0;32mdef\u001b[0m \u001b[0m__eq__\u001b[0m\u001b[0;34m(\u001b[0m\u001b[0mself\u001b[0m\u001b[0;34m,\u001b[0m \u001b[0mother\u001b[0m\u001b[0;34m)\u001b[0m\u001b[0;34m:\u001b[0m\u001b[0;34m\u001b[0m\u001b[0;34m\u001b[0m\u001b[0m\n\u001b[0;32m---> 32\u001b[0;31m         \u001b[0;32mreturn\u001b[0m \u001b[0mself\u001b[0m\u001b[0;34m.\u001b[0m\u001b[0m_cmp_method\u001b[0m\u001b[0;34m(\u001b[0m\u001b[0mother\u001b[0m\u001b[0;34m,\u001b[0m \u001b[0moperator\u001b[0m\u001b[0;34m.\u001b[0m\u001b[0meq\u001b[0m\u001b[0;34m)\u001b[0m\u001b[0;34m\u001b[0m\u001b[0;34m\u001b[0m\u001b[0m\n\u001b[0m\u001b[1;32m     33\u001b[0m \u001b[0;34m\u001b[0m\u001b[0m\n\u001b[1;32m     34\u001b[0m     \u001b[0;34m@\u001b[0m\u001b[0munpack_zerodim_and_defer\u001b[0m\u001b[0;34m(\u001b[0m\u001b[0;34m\"__ne__\"\u001b[0m\u001b[0;34m)\u001b[0m\u001b[0;34m\u001b[0m\u001b[0;34m\u001b[0m\u001b[0m\n",
      "\u001b[0;32m~/tRNA/trna_scitas/lib/python3.7/site-packages/pandas/core/series.py\u001b[0m in \u001b[0;36m_cmp_method\u001b[0;34m(self, other, op)\u001b[0m\n\u001b[1;32m   5494\u001b[0m \u001b[0;34m\u001b[0m\u001b[0m\n\u001b[1;32m   5495\u001b[0m         \u001b[0;32mif\u001b[0m \u001b[0misinstance\u001b[0m\u001b[0;34m(\u001b[0m\u001b[0mother\u001b[0m\u001b[0;34m,\u001b[0m \u001b[0mSeries\u001b[0m\u001b[0;34m)\u001b[0m \u001b[0;32mand\u001b[0m \u001b[0;32mnot\u001b[0m \u001b[0mself\u001b[0m\u001b[0;34m.\u001b[0m\u001b[0m_indexed_same\u001b[0m\u001b[0;34m(\u001b[0m\u001b[0mother\u001b[0m\u001b[0;34m)\u001b[0m\u001b[0;34m:\u001b[0m\u001b[0;34m\u001b[0m\u001b[0;34m\u001b[0m\u001b[0m\n\u001b[0;32m-> 5496\u001b[0;31m             \u001b[0;32mraise\u001b[0m \u001b[0mValueError\u001b[0m\u001b[0;34m(\u001b[0m\u001b[0;34m\"Can only compare identically-labeled Series objects\"\u001b[0m\u001b[0;34m)\u001b[0m\u001b[0;34m\u001b[0m\u001b[0;34m\u001b[0m\u001b[0m\n\u001b[0m\u001b[1;32m   5497\u001b[0m \u001b[0;34m\u001b[0m\u001b[0m\n\u001b[1;32m   5498\u001b[0m         \u001b[0mlvalues\u001b[0m \u001b[0;34m=\u001b[0m \u001b[0mself\u001b[0m\u001b[0;34m.\u001b[0m\u001b[0m_values\u001b[0m\u001b[0;34m\u001b[0m\u001b[0;34m\u001b[0m\u001b[0m\n",
      "\u001b[0;31mValueError\u001b[0m: Can only compare identically-labeled Series objects"
     ]
    }
   ],
   "source": [
    "_,basecall=get_signal_basecall_for_plotting(signals, signals.read_id.loc[0])\n",
    "mod_seqs=[]\n",
    "for i,row in signals.iterrows():\n",
    "    for j,sign_mod in enumerate(row.signal_mods_idxs):\n",
    "        mod_seq_bases=[]\n",
    "        for base in basecall:\n",
    "            if common_member(list(range(base['start'],base['end'])),sign_mod):\n",
    "                mod_seq_bases.append(base['base'])\n",
    "        mod_seq=(row.mods[j],''.join(mod_seq_bases))\n",
    "        mod_seqs.append(mod_seq)"
   ]
  },
  {
   "cell_type": "code",
   "execution_count": 218,
   "id": "565ab0b8-765e-4169-8d4a-4ca043aa4125",
   "metadata": {
    "tags": []
   },
   "outputs": [
    {
     "data": {
      "text/plain": [
       "[]"
      ]
     },
     "execution_count": 218,
     "metadata": {},
     "output_type": "execute_result"
    }
   ],
   "source": [
    "pU_seqs=[x[1] for x in mod_seqs if x[0] == 'pU']\n",
    "m6A_seqs=[x[1] for x in mod_seqs if x[0] == 'm6A']\n",
    "h5mC_seqs=[x[1] for x in mod_seqs if x[0] == 'h5mC']\n",
    "m5C_seqs=[x[1] for x in mod_seqs if x[0] == 'm5C']\n",
    "m5C_seqs"
   ]
  },
  {
   "cell_type": "code",
   "execution_count": 219,
   "id": "ca3da89e-f619-4911-bab5-7dc90d42defc",
   "metadata": {},
   "outputs": [],
   "source": [
    "pU_seqs=[seq for seq in pU_seqs if (len(seq) > 1) & ('U' in seq)]\n",
    "m6A_seqs=[seq for seq in m6A_seqs if (len(seq) > 1) & ('A' in seq)]\n",
    "h5mC_seqs=[seq for seq in h5mC_seqs if (len(seq) > 1) & ('C' in seq)]\n",
    "m5C_seqs=[seq for seq in m5C_seqs if (len(seq) > 1) & ('C' in seq)]\n",
    "    "
   ]
  },
  {
   "cell_type": "code",
   "execution_count": 220,
   "id": "2669cd68-6188-40c1-a3ff-c53fc2754d4c",
   "metadata": {
    "tags": []
   },
   "outputs": [],
   "source": [
    "with open(f'sequences_pU.csv','w') as out:\n",
    "    csv_out=csv.writer(out)\n",
    "    csv_out.writerow(['sequence'])\n",
    "    for row in pU_seqs :\n",
    "        csv_out.writerow(row)\n",
    "\n",
    "with open(f'sequences_m6A.csv','w') as out:\n",
    "    csv_out=csv.writer(out)\n",
    "    csv_out.writerow(['sequence'])\n",
    "    for row in m6A_seqs :\n",
    "        csv_out.writerow(row)\n",
    "        \n",
    "with open(f'sequences_h5mC.csv','w') as out:\n",
    "    csv_out=csv.writer(out)\n",
    "    csv_out.writerow(['sequence'])\n",
    "    for row in h5mC_seqs :\n",
    "        csv_out.writerow(row)\n",
    "\n",
    "with open(f'sequences_m5C.csv','w') as out:\n",
    "    csv_out=csv.writer(out)\n",
    "    csv_out.writerow(['sequence'])\n",
    "    for row in m5C_seqs :\n",
    "        csv_out.writerow(row)"
   ]
  },
  {
   "cell_type": "code",
   "execution_count": 16,
   "id": "368806ae-22e8-480f-9e16-85bc16719379",
   "metadata": {},
   "outputs": [
    {
     "data": {
      "text/html": [
       "<div>\n",
       "<style scoped>\n",
       "    .dataframe tbody tr th:only-of-type {\n",
       "        vertical-align: middle;\n",
       "    }\n",
       "\n",
       "    .dataframe tbody tr th {\n",
       "        vertical-align: top;\n",
       "    }\n",
       "\n",
       "    .dataframe thead th {\n",
       "        text-align: right;\n",
       "    }\n",
       "</style>\n",
       "<table border=\"1\" class=\"dataframe\">\n",
       "  <thead>\n",
       "    <tr style=\"text-align: right;\">\n",
       "      <th></th>\n",
       "      <th>Unnamed: 0</th>\n",
       "      <th>read_id</th>\n",
       "      <th>seq</th>\n",
       "      <th>chunk_idxs</th>\n",
       "      <th>UNM</th>\n",
       "      <th>h5mC</th>\n",
       "      <th>pU</th>\n",
       "      <th>m5C</th>\n",
       "      <th>m6A</th>\n",
       "      <th>pred</th>\n",
       "      <th>pred_proba</th>\n",
       "    </tr>\n",
       "  </thead>\n",
       "  <tbody>\n",
       "    <tr>\n",
       "      <th>0</th>\n",
       "      <td>0</td>\n",
       "      <td>read_000f053d-c698-420f-bc8d-7f44b934dadc</td>\n",
       "      <td>GGG</td>\n",
       "      <td>[0, 499]</td>\n",
       "      <td>0.000249</td>\n",
       "      <td>0.824903</td>\n",
       "      <td>0.174680</td>\n",
       "      <td>0.000046</td>\n",
       "      <td>0.000122</td>\n",
       "      <td>h5mC</td>\n",
       "      <td>0.824903</td>\n",
       "    </tr>\n",
       "    <tr>\n",
       "      <th>1</th>\n",
       "      <td>1</td>\n",
       "      <td>read_000f053d-c698-420f-bc8d-7f44b934dadc</td>\n",
       "      <td>GC</td>\n",
       "      <td>[500, 999]</td>\n",
       "      <td>0.058506</td>\n",
       "      <td>0.635404</td>\n",
       "      <td>0.058752</td>\n",
       "      <td>0.008317</td>\n",
       "      <td>0.239021</td>\n",
       "      <td>h5mC</td>\n",
       "      <td>0.635404</td>\n",
       "    </tr>\n",
       "    <tr>\n",
       "      <th>2</th>\n",
       "      <td>2</td>\n",
       "      <td>read_000f053d-c698-420f-bc8d-7f44b934dadc</td>\n",
       "      <td>CU</td>\n",
       "      <td>[1000, 1499]</td>\n",
       "      <td>0.033272</td>\n",
       "      <td>0.715636</td>\n",
       "      <td>0.174905</td>\n",
       "      <td>0.003061</td>\n",
       "      <td>0.073126</td>\n",
       "      <td>h5mC</td>\n",
       "      <td>0.715636</td>\n",
       "    </tr>\n",
       "    <tr>\n",
       "      <th>3</th>\n",
       "      <td>3</td>\n",
       "      <td>read_000f053d-c698-420f-bc8d-7f44b934dadc</td>\n",
       "      <td>U</td>\n",
       "      <td>[1500, 1999]</td>\n",
       "      <td>0.034544</td>\n",
       "      <td>0.534920</td>\n",
       "      <td>0.355440</td>\n",
       "      <td>0.026360</td>\n",
       "      <td>0.048736</td>\n",
       "      <td>h5mC</td>\n",
       "      <td>0.534920</td>\n",
       "    </tr>\n",
       "    <tr>\n",
       "      <th>4</th>\n",
       "      <td>4</td>\n",
       "      <td>read_000f053d-c698-420f-bc8d-7f44b934dadc</td>\n",
       "      <td>UCUG</td>\n",
       "      <td>[2000, 2499]</td>\n",
       "      <td>0.078068</td>\n",
       "      <td>0.422595</td>\n",
       "      <td>0.458745</td>\n",
       "      <td>0.006457</td>\n",
       "      <td>0.034135</td>\n",
       "      <td>pU</td>\n",
       "      <td>0.458745</td>\n",
       "    </tr>\n",
       "    <tr>\n",
       "      <th>...</th>\n",
       "      <td>...</td>\n",
       "      <td>...</td>\n",
       "      <td>...</td>\n",
       "      <td>...</td>\n",
       "      <td>...</td>\n",
       "      <td>...</td>\n",
       "      <td>...</td>\n",
       "      <td>...</td>\n",
       "      <td>...</td>\n",
       "      <td>...</td>\n",
       "      <td>...</td>\n",
       "    </tr>\n",
       "    <tr>\n",
       "      <th>2863757</th>\n",
       "      <td>2863757</td>\n",
       "      <td>read_fff4ccef-0c53-4fad-baba-486f6f1ed830</td>\n",
       "      <td>GUUGAACCAAUUGU</td>\n",
       "      <td>[61500, 61999]</td>\n",
       "      <td>0.073857</td>\n",
       "      <td>0.014373</td>\n",
       "      <td>0.791046</td>\n",
       "      <td>0.009515</td>\n",
       "      <td>0.111209</td>\n",
       "      <td>pU</td>\n",
       "      <td>0.791046</td>\n",
       "    </tr>\n",
       "    <tr>\n",
       "      <th>2863758</th>\n",
       "      <td>2863758</td>\n",
       "      <td>read_fff4ccef-0c53-4fad-baba-486f6f1ed830</td>\n",
       "      <td>UUGAGAAUCGAAGA</td>\n",
       "      <td>[62000, 62499]</td>\n",
       "      <td>0.047567</td>\n",
       "      <td>0.319149</td>\n",
       "      <td>0.499319</td>\n",
       "      <td>0.034673</td>\n",
       "      <td>0.099291</td>\n",
       "      <td>pU</td>\n",
       "      <td>0.499319</td>\n",
       "    </tr>\n",
       "    <tr>\n",
       "      <th>2863759</th>\n",
       "      <td>2863759</td>\n",
       "      <td>read_fff4ccef-0c53-4fad-baba-486f6f1ed830</td>\n",
       "      <td>AAGAAUUGGG</td>\n",
       "      <td>[62500, 62999]</td>\n",
       "      <td>0.353343</td>\n",
       "      <td>0.275368</td>\n",
       "      <td>0.238239</td>\n",
       "      <td>0.084011</td>\n",
       "      <td>0.049039</td>\n",
       "      <td>UNM</td>\n",
       "      <td>0.353343</td>\n",
       "    </tr>\n",
       "    <tr>\n",
       "      <th>2863760</th>\n",
       "      <td>2863760</td>\n",
       "      <td>read_fff4ccef-0c53-4fad-baba-486f6f1ed830</td>\n",
       "      <td>GUGACAAGGCUG</td>\n",
       "      <td>[63000, 63499]</td>\n",
       "      <td>0.380520</td>\n",
       "      <td>0.383201</td>\n",
       "      <td>0.084680</td>\n",
       "      <td>0.061098</td>\n",
       "      <td>0.090500</td>\n",
       "      <td>h5mC</td>\n",
       "      <td>0.383201</td>\n",
       "    </tr>\n",
       "    <tr>\n",
       "      <th>2863761</th>\n",
       "      <td>2863761</td>\n",
       "      <td>read_fff4ccef-0c53-4fad-baba-486f6f1ed830</td>\n",
       "      <td>GUCUACGCCG</td>\n",
       "      <td>[63500, 63999]</td>\n",
       "      <td>0.014415</td>\n",
       "      <td>0.419996</td>\n",
       "      <td>0.017454</td>\n",
       "      <td>0.012154</td>\n",
       "      <td>0.535981</td>\n",
       "      <td>m6A</td>\n",
       "      <td>0.535981</td>\n",
       "    </tr>\n",
       "  </tbody>\n",
       "</table>\n",
       "<p>2863762 rows × 11 columns</p>\n",
       "</div>"
      ],
      "text/plain": [
       "         Unnamed: 0                                    read_id  \\\n",
       "0                 0  read_000f053d-c698-420f-bc8d-7f44b934dadc   \n",
       "1                 1  read_000f053d-c698-420f-bc8d-7f44b934dadc   \n",
       "2                 2  read_000f053d-c698-420f-bc8d-7f44b934dadc   \n",
       "3                 3  read_000f053d-c698-420f-bc8d-7f44b934dadc   \n",
       "4                 4  read_000f053d-c698-420f-bc8d-7f44b934dadc   \n",
       "...             ...                                        ...   \n",
       "2863757     2863757  read_fff4ccef-0c53-4fad-baba-486f6f1ed830   \n",
       "2863758     2863758  read_fff4ccef-0c53-4fad-baba-486f6f1ed830   \n",
       "2863759     2863759  read_fff4ccef-0c53-4fad-baba-486f6f1ed830   \n",
       "2863760     2863760  read_fff4ccef-0c53-4fad-baba-486f6f1ed830   \n",
       "2863761     2863761  read_fff4ccef-0c53-4fad-baba-486f6f1ed830   \n",
       "\n",
       "                    seq      chunk_idxs       UNM      h5mC        pU  \\\n",
       "0                   GGG        [0, 499]  0.000249  0.824903  0.174680   \n",
       "1                    GC      [500, 999]  0.058506  0.635404  0.058752   \n",
       "2                    CU    [1000, 1499]  0.033272  0.715636  0.174905   \n",
       "3                     U    [1500, 1999]  0.034544  0.534920  0.355440   \n",
       "4                  UCUG    [2000, 2499]  0.078068  0.422595  0.458745   \n",
       "...                 ...             ...       ...       ...       ...   \n",
       "2863757  GUUGAACCAAUUGU  [61500, 61999]  0.073857  0.014373  0.791046   \n",
       "2863758  UUGAGAAUCGAAGA  [62000, 62499]  0.047567  0.319149  0.499319   \n",
       "2863759      AAGAAUUGGG  [62500, 62999]  0.353343  0.275368  0.238239   \n",
       "2863760    GUGACAAGGCUG  [63000, 63499]  0.380520  0.383201  0.084680   \n",
       "2863761      GUCUACGCCG  [63500, 63999]  0.014415  0.419996  0.017454   \n",
       "\n",
       "              m5C       m6A  pred  pred_proba  \n",
       "0        0.000046  0.000122  h5mC    0.824903  \n",
       "1        0.008317  0.239021  h5mC    0.635404  \n",
       "2        0.003061  0.073126  h5mC    0.715636  \n",
       "3        0.026360  0.048736  h5mC    0.534920  \n",
       "4        0.006457  0.034135    pU    0.458745  \n",
       "...           ...       ...   ...         ...  \n",
       "2863757  0.009515  0.111209    pU    0.791046  \n",
       "2863758  0.034673  0.099291    pU    0.499319  \n",
       "2863759  0.084011  0.049039   UNM    0.353343  \n",
       "2863760  0.061098  0.090500  h5mC    0.383201  \n",
       "2863761  0.012154  0.535981   m6A    0.535981  \n",
       "\n",
       "[2863762 rows x 11 columns]"
      ]
     },
     "execution_count": 16,
     "metadata": {},
     "output_type": "execute_result"
    }
   ],
   "source": [
    "mapping_df=pd.read_csv('mapping_df.csv')\n",
    "mapping_df"
   ]
  }
 ],
 "metadata": {
  "kernelspec": {
   "display_name": "Python 3 (ipykernel)",
   "language": "python",
   "name": "python3"
  },
  "language_info": {
   "codemirror_mode": {
    "name": "ipython",
    "version": 3
   },
   "file_extension": ".py",
   "mimetype": "text/x-python",
   "name": "python",
   "nbconvert_exporter": "python",
   "pygments_lexer": "ipython3",
   "version": "3.7.7"
  }
 },
 "nbformat": 4,
 "nbformat_minor": 5
}
